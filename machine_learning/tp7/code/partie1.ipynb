{
  "cells": [
    {
      "cell_type": "markdown",
      "metadata": {
        "id": "view-in-github",
        "colab_type": "text"
      },
      "source": [
        "<a href=\"https://colab.research.google.com/github/tanguy-rdt/depot-ensta-python/blob/SA5/machine_learning/tp7/code/partie1.ipynb\" target=\"_parent\"><img src=\"https://colab.research.google.com/assets/colab-badge.svg\" alt=\"Open In Colab\"/></a>"
      ]
    },
    {
      "cell_type": "markdown",
      "metadata": {
        "id": "ypz4pQUMN7eq"
      },
      "source": [
        "## <center> Machine Learning Programming Exercise 7</center>\n",
        "# <center> **Partie 1: Exploration de la librairie Tensorflow 2.x** </center>\n"
      ]
    },
    {
      "cell_type": "markdown",
      "metadata": {
        "id": "fgZagKSEN7et"
      },
      "source": [
        "| <font size=6,font color='red'>Monôme / binôme</font> | <font size=6,font color='red'>Nom</font> | <font size=6,font color='red'>Prénom</font> |\n",
        "|:-------------: |:----------- |:------ |\n",
        "| binôme 1 | <span style=\"color:red\">DUBEE</span> | <span style=\"color:red\">Melvin</span> |\n",
        "| binôme 2 | <span style=\"color:red\">ROUDAUT</span> | <span style=\"color:red\">Tanguy</span> |\n"
      ]
    },
    {
      "cell_type": "markdown",
      "metadata": {
        "id": "9UaFmaExs_9q"
      },
      "source": [
        "Jusqu'à présent, vous avez toujours utilisé numpy pour construire des petits réseaux de neurones. Nous allons maintenant découvrir un framework plus adapté pour l'apprentissage et l'utilisation de modèles de réseaux de neurones possédants un grand nombre de paramètres. Ce type de modèles fait usage de nombreux calculs qui peuvent être parallélisés. Un framework de machine learning (tel que TensorFlow, pyTorch, etc.) faisant usage de calculs sur GPUs peut alors accélérer considérablement le développement de votre algorithme d'apprentissage. Ces frameworks permettent également (comme scikit-learn) la création rapide et simplifiée de réseaux de neurones.\n",
        "Tous ces frameworks sont accompagnés d'une abondante documentation, que vous pouvoir lire librement.\n",
        "\n",
        "Dans ce TP, vous apprendrez avec TensorFlow 2.0 à initialiser les tenseurs et calculer mais aussi à élaborer, apprendre, analyser et évaluer un modèle de réseau de neurones.\n",
        "\n",
        "Vous devez:\n",
        "- compléter le code aux endroits indiqués;\n",
        "- élaborer, apprendre, analyser et évaluer avec tensorflow, un réseau de neurones sur la base d'images de fonds marins (rencontrés dans un TP précédent)\n",
        "\n",
        "Ce tutoriel est largement basé sur ces sources:\n",
        " - Francois Chollet's github (Tensorflow_2_0_+_Keras_Crash_Course.ipynb)\n",
        " - Boscher's github (v02_Tensorflow_2_0_+_Keras_Crash_Course.ipynb)\n",
        " - MIT course's github (Part1_TensorFlow.ipynb)\n",
        " - Magnus Erik Hvass Pedersen's github (https://github.com/Hvass-Labs/TensorFlow-Tutorials/blob/master/01_Simple_Linear_Model.ipynb)\n",
        "\n",
        "Le framework TensorFlow tire son nom de sa gestion des flux (flow = node = opération mathématique) de tenseurs, qui sont des structures de données que l'on peut considérer comme des tableaux multidimensionnels. Les tenseurs sont représentés par des tableaux à $n$ dimensions de types de données de base tels qu'une chaîne ou un entier. Ils permettent de généraliser les vecteurs et les matrices à des dimensions plus élevées.\n"
      ]
    },
    {
      "cell_type": "markdown",
      "metadata": {
        "id": "sjC_taT2s_9w"
      },
      "source": [
        "## 1 - Imports\n",
        "\n",
        "Pour pouvoir commencer, vous importerez les librairies suivantes:"
      ]
    },
    {
      "cell_type": "markdown",
      "metadata": {
        "id": "1VzEifR8N7eu"
      },
      "source": [
        "## 1.1 Colab or not"
      ]
    },
    {
      "cell_type": "code",
      "execution_count": 2,
      "metadata": {
        "id": "nQUAK9SHN7eu",
        "outputId": "eded2d55-4001-4adb-efa5-7658eac1b4bc",
        "colab": {
          "base_uri": "https://localhost:8080/"
        }
      },
      "outputs": [
        {
          "output_type": "stream",
          "name": "stdout",
          "text": [
            "Mounted at /content/gdrive\n",
            "/content/gdrive/MyDrive/machine_learning\n",
            "partie1.ipynb\n"
          ]
        }
      ],
      "source": [
        "# common imports\n",
        "import sys,os,glob\n",
        "\n",
        "# Colab preamble\n",
        "IN_COLAB = 'google.colab' in sys.modules\n",
        "if IN_COLAB:\n",
        "\n",
        "  # mount google drive directories\n",
        "  from google.colab import drive\n",
        "  drive.mount('/content/gdrive', force_remount=True)\n",
        "\n",
        "\n",
        "  # ----------- Your code here --------------------->\n",
        "  # replace the ipynb_name (below) with the name of your jupyter notebook file\n",
        "\n",
        "  ipynb_name = 'partie1.ipynb'\n",
        "\n",
        "  # ------------------------------------------------>\n",
        "\n",
        "  ipynb_name = glob.glob(os.getcwd() + '/gdrive/MyDrive/machine_learning/' + ipynb_name, recursive = True)\n",
        "  code_folder = os.path.dirname(ipynb_name[0])\n",
        "\n",
        "  # change to the right folder\n",
        "  %cd \"$code_folder\"\n",
        "  !ls"
      ]
    },
    {
      "cell_type": "markdown",
      "metadata": {
        "id": "SRgoJYshN7ew"
      },
      "source": [
        "## 1.2 Import packages"
      ]
    },
    {
      "cell_type": "code",
      "execution_count": 3,
      "metadata": {
        "id": "PXFHKC1Fs_9y"
      },
      "outputs": [],
      "source": [
        "import numpy as np\n",
        "import matplotlib.pyplot as plt\n",
        "import tensorflow as tf\n",
        "\n",
        "SEED = 1\n",
        "np.random.seed(SEED)\n",
        "tf.random.set_seed(SEED)\n",
        "\n"
      ]
    },
    {
      "cell_type": "markdown",
      "metadata": {
        "id": "MWKq9zLds_90"
      },
      "source": [
        "## 2 - Déclarer des tenseurs constants\n",
        "\n",
        "Vous vous reporterez à [l'adresse suivante](https://www.tensorflow.org/guide/tensor) pour plus de détails.\n",
        "\n",
        "\n",
        "### 2.1 - Tenseurs 0-d\n",
        "Examinons d'abord les tenseurs 0-d, dont un scalaire, une chaîne de caractères sont des exemples :"
      ]
    },
    {
      "cell_type": "code",
      "execution_count": 4,
      "metadata": {
        "id": "zS3GQuoas_92",
        "colab": {
          "base_uri": "https://localhost:8080/"
        },
        "outputId": "99ed4a0a-c6ef-4b1c-c688-6f6c88e4eb9c"
      },
      "outputs": [
        {
          "output_type": "stream",
          "name": "stdout",
          "text": [
            "tf.Tensor(b'Tennis', shape=(), dtype=string)\n",
            "tf.Tensor(1.41421356237, shape=(), dtype=float64)\n"
          ]
        }
      ],
      "source": [
        "sport = tf.constant(\"Tennis\", tf.string)\n",
        "number = tf.constant(1.41421356237, tf.float64)\n",
        "print(sport)\n",
        "print(number)"
      ]
    },
    {
      "cell_type": "markdown",
      "metadata": {
        "id": "8TDfaZ-Ms_92"
      },
      "source": [
        "### 2.2 - Tenseurs constants 1-d\n",
        "Une manière classique de créer des tenseurs constants est d'utiliser `tf.ones` ou `tf.zeros` (comme en numpy `np.ones` et `np.zeros`):"
      ]
    },
    {
      "cell_type": "code",
      "execution_count": 5,
      "metadata": {
        "id": "-N9lbTl_s_93",
        "scrolled": true,
        "colab": {
          "base_uri": "https://localhost:8080/"
        },
        "outputId": "29e27e5c-1407-4f7e-e9f1-63dfdee7dba8"
      },
      "outputs": [
        {
          "output_type": "stream",
          "name": "stdout",
          "text": [
            "tf.Tensor(\n",
            "[[1.]\n",
            " [1.]], shape=(2, 1), dtype=float32)\n",
            "tf.Tensor(\n",
            "[[0.]\n",
            " [0.]], shape=(2, 1), dtype=float32)\n"
          ]
        }
      ],
      "source": [
        "print(tf.ones(shape=(2, 1)))\n",
        "print(tf.zeros(shape=(2, 1)))"
      ]
    },
    {
      "cell_type": "markdown",
      "metadata": {
        "id": "uFenZ1NVs_94"
      },
      "source": [
        "Les listes peuvent être utilisées pour créer des tenseurs 1d:"
      ]
    },
    {
      "cell_type": "code",
      "execution_count": 6,
      "metadata": {
        "id": "7IUygNMks_96",
        "colab": {
          "base_uri": "https://localhost:8080/"
        },
        "outputId": "b576a6a9-cb9d-4565-dc0e-3bcb20dbd65f"
      },
      "outputs": [
        {
          "output_type": "stream",
          "name": "stdout",
          "text": [
            "tf.Tensor([b'Tennis' b'Basketball'], shape=(2,), dtype=string)\n",
            "tf.Tensor([3.141592 1.414213 2.71821 ], shape=(3,), dtype=float64)\n"
          ]
        }
      ],
      "source": [
        "sports = tf.constant([\"Tennis\", \"Basketball\"], tf.string)\n",
        "numbers = tf.constant([3.141592, 1.414213, 2.71821], tf.float64)\n",
        "print(sports)\n",
        "print(numbers)"
      ]
    },
    {
      "cell_type": "markdown",
      "metadata": {
        "id": "pM91QZu4s_98"
      },
      "source": [
        "### 2.3 - Tenseurs n-d\n",
        "Ensuite, nous pouvons créer des tenseurs 2-d (c'est-à-dire des matrices) et des tenseurs de rang supérieur. Dans les TP suivants de traitement d'images, nous utiliserons des tenseurs 4-d. Ces dimensions correspondent au nombre d'images d'exemple dans notre base de données, à la hauteur et à la largeur de l'image, ainsi qu'au nombre de canaux de couleur."
      ]
    },
    {
      "cell_type": "code",
      "execution_count": 7,
      "metadata": {
        "id": "YZ_PXAmws_99",
        "colab": {
          "base_uri": "https://localhost:8080/"
        },
        "outputId": "4dbb8397-9ce0-4be7-df14-64bf1a01b763"
      },
      "outputs": [
        {
          "output_type": "stream",
          "name": "stdout",
          "text": [
            "tf.Tensor(\n",
            "[[5 2]\n",
            " [1 3]], shape=(2, 2), dtype=int32)\n"
          ]
        }
      ],
      "source": [
        "### Defining higher-order Tensors ###\n",
        "\n",
        "# ----------- Your code here --------------------->\n",
        "# Define a 2-d Tensor constant 2 x 2, with [5,2] sur la première ligne et [1,3] sur la seconde.\n",
        "\n",
        "matrix = tf.constant([[5, 2], [1, 3]])\n",
        "\n",
        "# ------------------------------------------------>\n",
        "\n",
        "print(matrix)\n",
        "\n",
        "# les méthodes suivantes seront expliquées plus tard\n",
        "assert isinstance(matrix, tf.Tensor), \"matrix must be a tf Tensor object\"\n",
        "assert tf.rank(matrix).numpy() == 2"
      ]
    },
    {
      "cell_type": "code",
      "execution_count": 8,
      "metadata": {
        "id": "dJLpXcZms_99",
        "colab": {
          "base_uri": "https://localhost:8080/"
        },
        "outputId": "cd153e14-54ac-4cf6-ee7d-0374222d3e5e"
      },
      "outputs": [
        {
          "output_type": "stream",
          "name": "stdout",
          "text": [
            "tf.Tensor(\n",
            "[[[[0. 0. 0.]\n",
            "   [0. 0. 0.]\n",
            "   [0. 0. 0.]\n",
            "   ...\n",
            "   [0. 0. 0.]\n",
            "   [0. 0. 0.]\n",
            "   [0. 0. 0.]]\n",
            "\n",
            "  [[0. 0. 0.]\n",
            "   [0. 0. 0.]\n",
            "   [0. 0. 0.]\n",
            "   ...\n",
            "   [0. 0. 0.]\n",
            "   [0. 0. 0.]\n",
            "   [0. 0. 0.]]\n",
            "\n",
            "  [[0. 0. 0.]\n",
            "   [0. 0. 0.]\n",
            "   [0. 0. 0.]\n",
            "   ...\n",
            "   [0. 0. 0.]\n",
            "   [0. 0. 0.]\n",
            "   [0. 0. 0.]]\n",
            "\n",
            "  ...\n",
            "\n",
            "  [[0. 0. 0.]\n",
            "   [0. 0. 0.]\n",
            "   [0. 0. 0.]\n",
            "   ...\n",
            "   [0. 0. 0.]\n",
            "   [0. 0. 0.]\n",
            "   [0. 0. 0.]]\n",
            "\n",
            "  [[0. 0. 0.]\n",
            "   [0. 0. 0.]\n",
            "   [0. 0. 0.]\n",
            "   ...\n",
            "   [0. 0. 0.]\n",
            "   [0. 0. 0.]\n",
            "   [0. 0. 0.]]\n",
            "\n",
            "  [[0. 0. 0.]\n",
            "   [0. 0. 0.]\n",
            "   [0. 0. 0.]\n",
            "   ...\n",
            "   [0. 0. 0.]\n",
            "   [0. 0. 0.]\n",
            "   [0. 0. 0.]]]\n",
            "\n",
            "\n",
            " [[[0. 0. 0.]\n",
            "   [0. 0. 0.]\n",
            "   [0. 0. 0.]\n",
            "   ...\n",
            "   [0. 0. 0.]\n",
            "   [0. 0. 0.]\n",
            "   [0. 0. 0.]]\n",
            "\n",
            "  [[0. 0. 0.]\n",
            "   [0. 0. 0.]\n",
            "   [0. 0. 0.]\n",
            "   ...\n",
            "   [0. 0. 0.]\n",
            "   [0. 0. 0.]\n",
            "   [0. 0. 0.]]\n",
            "\n",
            "  [[0. 0. 0.]\n",
            "   [0. 0. 0.]\n",
            "   [0. 0. 0.]\n",
            "   ...\n",
            "   [0. 0. 0.]\n",
            "   [0. 0. 0.]\n",
            "   [0. 0. 0.]]\n",
            "\n",
            "  ...\n",
            "\n",
            "  [[0. 0. 0.]\n",
            "   [0. 0. 0.]\n",
            "   [0. 0. 0.]\n",
            "   ...\n",
            "   [0. 0. 0.]\n",
            "   [0. 0. 0.]\n",
            "   [0. 0. 0.]]\n",
            "\n",
            "  [[0. 0. 0.]\n",
            "   [0. 0. 0.]\n",
            "   [0. 0. 0.]\n",
            "   ...\n",
            "   [0. 0. 0.]\n",
            "   [0. 0. 0.]\n",
            "   [0. 0. 0.]]\n",
            "\n",
            "  [[0. 0. 0.]\n",
            "   [0. 0. 0.]\n",
            "   [0. 0. 0.]\n",
            "   ...\n",
            "   [0. 0. 0.]\n",
            "   [0. 0. 0.]\n",
            "   [0. 0. 0.]]]\n",
            "\n",
            "\n",
            " [[[0. 0. 0.]\n",
            "   [0. 0. 0.]\n",
            "   [0. 0. 0.]\n",
            "   ...\n",
            "   [0. 0. 0.]\n",
            "   [0. 0. 0.]\n",
            "   [0. 0. 0.]]\n",
            "\n",
            "  [[0. 0. 0.]\n",
            "   [0. 0. 0.]\n",
            "   [0. 0. 0.]\n",
            "   ...\n",
            "   [0. 0. 0.]\n",
            "   [0. 0. 0.]\n",
            "   [0. 0. 0.]]\n",
            "\n",
            "  [[0. 0. 0.]\n",
            "   [0. 0. 0.]\n",
            "   [0. 0. 0.]\n",
            "   ...\n",
            "   [0. 0. 0.]\n",
            "   [0. 0. 0.]\n",
            "   [0. 0. 0.]]\n",
            "\n",
            "  ...\n",
            "\n",
            "  [[0. 0. 0.]\n",
            "   [0. 0. 0.]\n",
            "   [0. 0. 0.]\n",
            "   ...\n",
            "   [0. 0. 0.]\n",
            "   [0. 0. 0.]\n",
            "   [0. 0. 0.]]\n",
            "\n",
            "  [[0. 0. 0.]\n",
            "   [0. 0. 0.]\n",
            "   [0. 0. 0.]\n",
            "   ...\n",
            "   [0. 0. 0.]\n",
            "   [0. 0. 0.]\n",
            "   [0. 0. 0.]]\n",
            "\n",
            "  [[0. 0. 0.]\n",
            "   [0. 0. 0.]\n",
            "   [0. 0. 0.]\n",
            "   ...\n",
            "   [0. 0. 0.]\n",
            "   [0. 0. 0.]\n",
            "   [0. 0. 0.]]]\n",
            "\n",
            "\n",
            " ...\n",
            "\n",
            "\n",
            " [[[0. 0. 0.]\n",
            "   [0. 0. 0.]\n",
            "   [0. 0. 0.]\n",
            "   ...\n",
            "   [0. 0. 0.]\n",
            "   [0. 0. 0.]\n",
            "   [0. 0. 0.]]\n",
            "\n",
            "  [[0. 0. 0.]\n",
            "   [0. 0. 0.]\n",
            "   [0. 0. 0.]\n",
            "   ...\n",
            "   [0. 0. 0.]\n",
            "   [0. 0. 0.]\n",
            "   [0. 0. 0.]]\n",
            "\n",
            "  [[0. 0. 0.]\n",
            "   [0. 0. 0.]\n",
            "   [0. 0. 0.]\n",
            "   ...\n",
            "   [0. 0. 0.]\n",
            "   [0. 0. 0.]\n",
            "   [0. 0. 0.]]\n",
            "\n",
            "  ...\n",
            "\n",
            "  [[0. 0. 0.]\n",
            "   [0. 0. 0.]\n",
            "   [0. 0. 0.]\n",
            "   ...\n",
            "   [0. 0. 0.]\n",
            "   [0. 0. 0.]\n",
            "   [0. 0. 0.]]\n",
            "\n",
            "  [[0. 0. 0.]\n",
            "   [0. 0. 0.]\n",
            "   [0. 0. 0.]\n",
            "   ...\n",
            "   [0. 0. 0.]\n",
            "   [0. 0. 0.]\n",
            "   [0. 0. 0.]]\n",
            "\n",
            "  [[0. 0. 0.]\n",
            "   [0. 0. 0.]\n",
            "   [0. 0. 0.]\n",
            "   ...\n",
            "   [0. 0. 0.]\n",
            "   [0. 0. 0.]\n",
            "   [0. 0. 0.]]]\n",
            "\n",
            "\n",
            " [[[0. 0. 0.]\n",
            "   [0. 0. 0.]\n",
            "   [0. 0. 0.]\n",
            "   ...\n",
            "   [0. 0. 0.]\n",
            "   [0. 0. 0.]\n",
            "   [0. 0. 0.]]\n",
            "\n",
            "  [[0. 0. 0.]\n",
            "   [0. 0. 0.]\n",
            "   [0. 0. 0.]\n",
            "   ...\n",
            "   [0. 0. 0.]\n",
            "   [0. 0. 0.]\n",
            "   [0. 0. 0.]]\n",
            "\n",
            "  [[0. 0. 0.]\n",
            "   [0. 0. 0.]\n",
            "   [0. 0. 0.]\n",
            "   ...\n",
            "   [0. 0. 0.]\n",
            "   [0. 0. 0.]\n",
            "   [0. 0. 0.]]\n",
            "\n",
            "  ...\n",
            "\n",
            "  [[0. 0. 0.]\n",
            "   [0. 0. 0.]\n",
            "   [0. 0. 0.]\n",
            "   ...\n",
            "   [0. 0. 0.]\n",
            "   [0. 0. 0.]\n",
            "   [0. 0. 0.]]\n",
            "\n",
            "  [[0. 0. 0.]\n",
            "   [0. 0. 0.]\n",
            "   [0. 0. 0.]\n",
            "   ...\n",
            "   [0. 0. 0.]\n",
            "   [0. 0. 0.]\n",
            "   [0. 0. 0.]]\n",
            "\n",
            "  [[0. 0. 0.]\n",
            "   [0. 0. 0.]\n",
            "   [0. 0. 0.]\n",
            "   ...\n",
            "   [0. 0. 0.]\n",
            "   [0. 0. 0.]\n",
            "   [0. 0. 0.]]]\n",
            "\n",
            "\n",
            " [[[0. 0. 0.]\n",
            "   [0. 0. 0.]\n",
            "   [0. 0. 0.]\n",
            "   ...\n",
            "   [0. 0. 0.]\n",
            "   [0. 0. 0.]\n",
            "   [0. 0. 0.]]\n",
            "\n",
            "  [[0. 0. 0.]\n",
            "   [0. 0. 0.]\n",
            "   [0. 0. 0.]\n",
            "   ...\n",
            "   [0. 0. 0.]\n",
            "   [0. 0. 0.]\n",
            "   [0. 0. 0.]]\n",
            "\n",
            "  [[0. 0. 0.]\n",
            "   [0. 0. 0.]\n",
            "   [0. 0. 0.]\n",
            "   ...\n",
            "   [0. 0. 0.]\n",
            "   [0. 0. 0.]\n",
            "   [0. 0. 0.]]\n",
            "\n",
            "  ...\n",
            "\n",
            "  [[0. 0. 0.]\n",
            "   [0. 0. 0.]\n",
            "   [0. 0. 0.]\n",
            "   ...\n",
            "   [0. 0. 0.]\n",
            "   [0. 0. 0.]\n",
            "   [0. 0. 0.]]\n",
            "\n",
            "  [[0. 0. 0.]\n",
            "   [0. 0. 0.]\n",
            "   [0. 0. 0.]\n",
            "   ...\n",
            "   [0. 0. 0.]\n",
            "   [0. 0. 0.]\n",
            "   [0. 0. 0.]]\n",
            "\n",
            "  [[0. 0. 0.]\n",
            "   [0. 0. 0.]\n",
            "   [0. 0. 0.]\n",
            "   ...\n",
            "   [0. 0. 0.]\n",
            "   [0. 0. 0.]\n",
            "   [0. 0. 0.]]]], shape=(10, 256, 256, 3), dtype=float32)\n"
          ]
        }
      ],
      "source": [
        "# ----------- Your code here --------------------->\n",
        "# Define a 4-d Tensor.\n",
        "# Use tf.zeros to initialize a 4-d Tensor of zeros with size 10 x 256 x 256 x 3.\n",
        "#   You can think of this as 10 images where each image is RGB 256 x 256.\n",
        "\n",
        "images = tf.zeros(shape=(10,256,256,3))# TODO\n",
        "\n",
        "# ------------------------------------------------>\n",
        "\n",
        "\n",
        "print(images)\n",
        "\n",
        "# les méthodes suivantes seront expliquées plus tard\n",
        "assert isinstance(images, tf.Tensor), \"matrix must be a tf Tensor object\"\n",
        "assert tf.rank(images).numpy() == 4, \"matrix must be of rank 4\"\n",
        "assert tf.shape(images).numpy().tolist() == [10, 256, 256, 3], \"matrix is incorrect shape\""
      ]
    },
    {
      "cell_type": "markdown",
      "metadata": {
        "id": "t_2gn5F_s_9-"
      },
      "source": [
        "### 2.4 - Générer des nombres aléatoires\n",
        "- créer un tenseur constant contenant des réels générés aléatoirement par une **distribution gaussienne** dans : `tf.random.normal`\n",
        "- créer un tenseur constant contenant des entiers générés aléatoirement par une **distribution uniforme** dans `tf.random.uniform`"
      ]
    },
    {
      "cell_type": "code",
      "execution_count": 9,
      "metadata": {
        "id": "BLZMWBOKs_9_",
        "colab": {
          "base_uri": "https://localhost:8080/"
        },
        "outputId": "73ef1eea-3b47-4e09-f030-759da40c4182"
      },
      "outputs": [
        {
          "output_type": "execute_result",
          "data": {
            "text/plain": [
              "<tf.Tensor: shape=(2, 2), dtype=float32, numpy=\n",
              "array([[ 0.28183395,  2.3878284 ],\n",
              "       [ 2.2804048 , -0.308662  ]], dtype=float32)>"
            ]
          },
          "metadata": {},
          "execution_count": 9
        }
      ],
      "source": [
        "tf.random.normal(shape=(2, 2), mean=0., stddev=1., seed=SEED)"
      ]
    },
    {
      "cell_type": "code",
      "execution_count": 10,
      "metadata": {
        "id": "1geEbSZus_9_",
        "scrolled": true,
        "colab": {
          "base_uri": "https://localhost:8080/"
        },
        "outputId": "b8de0349-e3ba-40f3-8eb0-2d9341c5103c"
      },
      "outputs": [
        {
          "output_type": "execute_result",
          "data": {
            "text/plain": [
              "<tf.Tensor: shape=(2, 2), dtype=int32, numpy=\n",
              "array([[0, 8],\n",
              "       [7, 2]], dtype=int32)>"
            ]
          },
          "metadata": {},
          "execution_count": 10
        }
      ],
      "source": [
        "tf.random.uniform(shape=(2, 2), minval=0, maxval=10, dtype='int32', seed=SEED)"
      ]
    },
    {
      "cell_type": "markdown",
      "metadata": {
        "id": "OcAycze0s_-A"
      },
      "source": [
        "### 3 - Trouver/changer les caractéristiques des tenseurs (méthodes de tenseurs)\n",
        "\n",
        "#### 3.1 - Convertir de tensorflow vers numpy (et inversement)\n",
        "\n",
        "Vous pouvez faire la conversion par un appel à la fonction `.numpy()` and faire la conversion inverse avec  `tf.convert_to_tensor()`:"
      ]
    },
    {
      "cell_type": "code",
      "execution_count": 11,
      "metadata": {
        "id": "HvvguX-Ms_-A",
        "colab": {
          "base_uri": "https://localhost:8080/"
        },
        "outputId": "d442185a-afa5-418f-c622-ae59cedec3e5"
      },
      "outputs": [
        {
          "output_type": "stream",
          "name": "stdout",
          "text": [
            "tf.Tensor(\n",
            "[[5 2]\n",
            " [1 3]], shape=(2, 2), dtype=int32)\n",
            "vers numpy:\n",
            "[[5 2]\n",
            " [1 3]]\n",
            "retour à tf:\n",
            "tf.Tensor(\n",
            "[[5 2]\n",
            " [1 3]], shape=(2, 2), dtype=int32)\n"
          ]
        }
      ],
      "source": [
        "# ----------- Your code here --------------------->\n",
        "# choose a previously defined tensor.\n",
        "T = matrix\n",
        "\n",
        "# ------------------------------------------------>\n",
        "\n",
        "print(T)\n",
        "\n",
        "print('vers numpy:')\n",
        "T_np=T.numpy()\n",
        "print(T_np)\n",
        "\n",
        "print('retour à tf:')\n",
        "tf_T = tf.convert_to_tensor(T_np)\n",
        "print(tf_T)\n"
      ]
    },
    {
      "cell_type": "markdown",
      "metadata": {
        "id": "c_zMzmTis_-C"
      },
      "source": [
        "#### 3.2 - Gérer le data type: connaitre, convertir\n",
        "\n",
        "- Choisissez un des tenseurs définis précédemment ou initialiser en un nouveau;\n",
        "- La commande `dtype` permet de s'informer sur son data type (Plus de détails à l'[adresse suivante](https://www.tensorflow.org/api_docs/python/tf/dtypes/DType));\n",
        "- Réalisez les conversions de type avec `tf.cast`."
      ]
    },
    {
      "cell_type": "code",
      "execution_count": 12,
      "metadata": {
        "id": "7ji3xT3ms_-C",
        "colab": {
          "base_uri": "https://localhost:8080/"
        },
        "outputId": "71daec9b-d773-405d-8637-eb3dffa2740e"
      },
      "outputs": [
        {
          "output_type": "stream",
          "name": "stdout",
          "text": [
            "`T` is a Tensor with data type: <dtype: 'int32'>\n",
            "tf.Tensor(\n",
            "[[5. 2.]\n",
            " [1. 3.]], shape=(2, 2), dtype=float32)\n",
            "tf.Tensor(\n",
            "[[5 2]\n",
            " [1 3]], shape=(2, 2), dtype=int64)\n"
          ]
        }
      ],
      "source": [
        "# ----------- Your code here --------------------->\n",
        "# choose a previously defined tensor.\n",
        "\n",
        "T = matrix\n",
        "\n",
        "# ------------------------------------------------>\n",
        "\n",
        "print(\"`T` is a Tensor with data type: {}\".format(T.dtype))\n",
        "\n",
        "# cast to float\n",
        "T_f32 = tf.cast(T, dtype=tf.float32)\n",
        "print(T_f32)\n",
        "\n",
        "print(tf.cast(T, dtype=tf.int64))\n",
        "\n",
        "#print(tf.cast(T, dtype=tf.string))\n",
        "\n"
      ]
    },
    {
      "cell_type": "markdown",
      "metadata": {
        "id": "2uoafnf4s_-C"
      },
      "source": [
        "#### 3.3 - Connaitre le nombre de dimensions (rang) et la taille de chaque dimension\n",
        "- La ```shape``` d'un tenseur définit son nombre de dimensions et la taille de chaque dimension.\n",
        "- Le ```rank``` d'un tenseur fournit le nombre de dimensions ($n$-dimensions) -- vous pouvez aussi considérer cela comme l'ordre ou le degré du tenseur.\n",
        "\n"
      ]
    },
    {
      "cell_type": "code",
      "execution_count": 13,
      "metadata": {
        "id": "klkyR4oqs_-D",
        "colab": {
          "base_uri": "https://localhost:8080/"
        },
        "outputId": "cbed00e0-bd4e-403d-bfa0-bffce1821797"
      },
      "outputs": [
        {
          "output_type": "stream",
          "name": "stdout",
          "text": [
            "`T` is a 2-d Tensor with shape: [2 2]\n"
          ]
        }
      ],
      "source": [
        "# ----------- Your code here --------------------->\n",
        "# choose a previously defined tensor.\n",
        "\n",
        "T = matrix\n",
        "\n",
        "# ------------------------------------------------>\n",
        "\n",
        "print(\"`T` is a {}-d Tensor with shape: {}\".format(tf.rank(T).numpy(), tf.shape(T)))"
      ]
    },
    {
      "cell_type": "markdown",
      "metadata": {
        "id": "Uu-hZXf6s_-D"
      },
      "source": [
        "#### 3.4 - Sur quel device est stocké le tenseur?\n",
        "La commande `.device` permet de connaitre si le tenseur est stocké dans la mémoire du GPU ou du CPU."
      ]
    },
    {
      "cell_type": "code",
      "execution_count": 14,
      "metadata": {
        "id": "QTXAWR3ys_-D",
        "colab": {
          "base_uri": "https://localhost:8080/"
        },
        "outputId": "d9e69c5b-5e57-41f3-8da1-9d1b93f54e02"
      },
      "outputs": [
        {
          "output_type": "stream",
          "name": "stdout",
          "text": [
            "`T` is a /job:localhost/replica:0/task:0/device:CPU:0 Tensor\n"
          ]
        }
      ],
      "source": [
        "# ----------- Your code here --------------------->\n",
        "# choose a previously defined tensor.'''\n",
        "\n",
        "T = matrix\n",
        "\n",
        "# ------------------------------------------------>\n",
        "\n",
        "print(\"`T` is a {} Tensor\".format(T.device))\n"
      ]
    },
    {
      "cell_type": "markdown",
      "metadata": {
        "id": "R6lfCKYYs_-E"
      },
      "source": [
        "#### 3.5 - Indexer les tenseurs pour accèder aux sous-tenseurs"
      ]
    },
    {
      "cell_type": "markdown",
      "metadata": {
        "id": "_-FGEe5Ss_-E"
      },
      "source": [
        "Comme dans numpy, vous pouvez utiliser le découpage pour accéder aux sous-tenseurs d'un tenseur de rang supérieur :"
      ]
    },
    {
      "cell_type": "code",
      "execution_count": 15,
      "metadata": {
        "id": "frxOrp8Es_-F",
        "colab": {
          "base_uri": "https://localhost:8080/"
        },
        "outputId": "f90c2e74-0629-46cc-91b7-97915e674134"
      },
      "outputs": [
        {
          "output_type": "stream",
          "name": "stdout",
          "text": [
            "`row_vector`: [1 3]\n",
            "`column_vector`: [2 3]\n",
            "`scalar`: 3\n"
          ]
        }
      ],
      "source": [
        "# ----------- Your code here --------------------->\n",
        "# choose a previously defined tensor.\n",
        "\n",
        "T = matrix\n",
        "\n",
        "# ------------------------------------------------>\n",
        "\n",
        "assert isinstance(T, tf.Tensor), \"T must be a tf Tensor object\"\n",
        "assert tf.rank(T).numpy() > 0, \"T must be of rank greater to 0\"\n",
        "\n",
        "\n",
        "row_vector = T[1]\n",
        "column_vector = T[:,1]\n",
        "scalar = T[1, 1]\n",
        "\n",
        "print(\"`row_vector`: {}\".format(row_vector.numpy()))\n",
        "print(\"`column_vector`: {}\".format(column_vector.numpy()))\n",
        "print(\"`scalar`: {}\".format(scalar.numpy()))"
      ]
    },
    {
      "cell_type": "markdown",
      "metadata": {
        "id": "-HJ0pZrps_-F"
      },
      "source": [
        "## 4 - Tenseurs variables\n",
        "\n",
        "Les tenseurs [Variables](https://www.tensorflow.org/guide/variable) sont des cas particuliers des tenseurs permettant de stocker en mémoire des états variables (les valeurs des variables)."
      ]
    },
    {
      "cell_type": "code",
      "execution_count": 16,
      "metadata": {
        "id": "Tg3xcI8vs_-F",
        "colab": {
          "base_uri": "https://localhost:8080/"
        },
        "outputId": "671e0981-796b-4000-90ba-40f860192e50"
      },
      "outputs": [
        {
          "output_type": "stream",
          "name": "stdout",
          "text": [
            "<tf.Variable 'Variable:0' shape=(2, 2) dtype=float32, numpy=\n",
            "array([[-1.1012203 ,  1.5457517 ],\n",
            "       [ 0.383644  , -0.87965786]], dtype=float32)>\n"
          ]
        }
      ],
      "source": [
        "initial_value = tf.random.normal(shape=(2, 2))\n",
        "a = tf.Variable(initial_value)\n",
        "print(a)"
      ]
    },
    {
      "cell_type": "markdown",
      "metadata": {
        "id": "2_U1J_lVs_-G"
      },
      "source": [
        "Pour changer la valeurs d'une variable, il faut utiliser les méthodes `.assign(value)`, ou `.assign_add(increment)` ou `.assign_sub(decrement)`:"
      ]
    },
    {
      "cell_type": "code",
      "execution_count": 17,
      "metadata": {
        "id": "l5HL2VGNs_-G"
      },
      "outputs": [],
      "source": [
        "new_value = tf.random.normal(shape=(2, 2))\n",
        "a.assign(new_value)\n",
        "# check\n",
        "for i in range(2):\n",
        "  for j in range(2):\n",
        "    assert a[i, j] == new_value[i, j]"
      ]
    },
    {
      "cell_type": "code",
      "execution_count": 18,
      "metadata": {
        "id": "Qg24v155s_-G"
      },
      "outputs": [],
      "source": [
        "added_value = tf.random.normal(shape=(2, 2))\n",
        "a.assign_add(added_value)\n",
        "# check\n",
        "for i in range(2):\n",
        "  for j in range(2):\n",
        "    assert a[i, j] == new_value[i, j] + added_value[i, j]"
      ]
    },
    {
      "cell_type": "markdown",
      "metadata": {
        "id": "zChQcUJBs_-G"
      },
      "source": [
        "## 5 - Calculer avec les tenseurs\n",
        "\n",
        "### 5.1 Tensorflow définit des graphes pour calculer\n",
        "\n",
        "Une façon pratique d'envisager et de visualiser les calculs dans TensorFlow est de les effectuer sous forme de graphiques. Nous pouvons définir ce graphique en termes de tenseurs, qui contiennent des données, et les opérations mathématiques qui agissent sur ces tenseurs dans un certain ordre. Prenons un exemple simple, et définissons ce calcul à l'aide de TensorFlow :\n",
        "\n",
        "<img src=\"https://drive.google.com/uc?export=view&id=1rns_AJ6k_Xdq1RBGTK3lcfUG6qQdU3tK\" style=\"width:600px;height:150px ;\">\n",
        "\n",
        "figure tiré de MIT Deep learning course"
      ]
    },
    {
      "cell_type": "code",
      "execution_count": 19,
      "metadata": {
        "id": "3gC4J2Dps_-H",
        "colab": {
          "base_uri": "https://localhost:8080/"
        },
        "outputId": "d561c810-f99c-4b7b-ea28-4dbfff42b561"
      },
      "outputs": [
        {
          "output_type": "stream",
          "name": "stdout",
          "text": [
            "tf.Tensor(76, shape=(), dtype=int32)\n",
            "tf.Tensor(76, shape=(), dtype=int32)\n"
          ]
        }
      ],
      "source": [
        "# Create the nodes in the graph, and initialize values\n",
        "a = tf.constant(15)\n",
        "b = tf.constant(61)\n",
        "\n",
        "# Add them!\n",
        "c1 = tf.add(a,b)\n",
        "c2 = a + b # TensorFlow overrides the \"+\" operation so that it is able to act on Tensors\n",
        "print(c1)\n",
        "print(c2)"
      ]
    },
    {
      "cell_type": "markdown",
      "metadata": {
        "id": "gIE7y5Vjs_-H"
      },
      "source": [
        "Pour obtenit le tenseur de valeur 76, un graphe de calculs composé d'opérations TensorFlow a été créé et exécuté.\n",
        "\n",
        "Considérons maintenant un exemple un peu plus compliqué :\n",
        "\n",
        "<img src=\"https://drive.google.com/uc?export=view&id=181ouV6fjRQ-Ejg26g8HjceUY4PGr6eR2\" style=\"width:400px;height:200px ;\">\n",
        "\n",
        "Ici, nous considérons deux entrées, `a`, `b`, et calculons une sortie `e`. Chaque noeud du graphique représente une opération qui prend une entrée, effectue un calcul et transmet sa sortie à un autre noeud.\n",
        "\n",
        "Définissons une fonction simple dans TensorFlow pour construire cette fonction de calcul :\n"
      ]
    },
    {
      "cell_type": "code",
      "execution_count": 20,
      "metadata": {
        "id": "7ClQShlcs_-I"
      },
      "outputs": [],
      "source": [
        "### Defining Tensor computations ###\n",
        "\n",
        "# Construct a simple computation function\n",
        "def func(a,b):\n",
        "\n",
        "    # ----------- Your code here --------------------->\n",
        "    # Define the operation for c, d, e (use tf.math.add, tf.math.subtract, tf.math.multiply).\n",
        "\n",
        "    c = tf.math.add(a, b)\n",
        "    d = tf.math.subtract(b, 1)\n",
        "    e = tf.math.multiply(c, d)\n",
        "\n",
        "    # ------------------------------------------------>\n",
        "\n",
        "\n",
        "    return e"
      ]
    },
    {
      "cell_type": "markdown",
      "metadata": {
        "id": "QCOI-Qkfs_-I"
      },
      "source": [
        "Exécutons cette fonction par le biais d'un graphe en assignant des valeurs aux variables `a,b`:"
      ]
    },
    {
      "cell_type": "code",
      "execution_count": 21,
      "metadata": {
        "id": "aTtxDzwks_-I",
        "colab": {
          "base_uri": "https://localhost:8080/"
        },
        "outputId": "2117bb8b-9ae8-487a-d3b2-60d3682144a4"
      },
      "outputs": [
        {
          "output_type": "stream",
          "name": "stdout",
          "text": [
            "tf.Tensor(6.0, shape=(), dtype=float32)\n"
          ]
        }
      ],
      "source": [
        "# Consider example values for a,b\n",
        "a, b = 1.5, 2.5\n",
        "\n",
        "# Execute the computation\n",
        "e_out = func(a, b)\n",
        "\n",
        "print(e_out)"
      ]
    },
    {
      "cell_type": "markdown",
      "metadata": {
        "id": "q-02ftA5s_-I"
      },
      "source": [
        "Autre exemple:"
      ]
    },
    {
      "cell_type": "code",
      "execution_count": 22,
      "metadata": {
        "id": "TmfLZms6s_-J"
      },
      "outputs": [],
      "source": [
        "a = tf.random.normal(shape=(2, 2))\n",
        "b = tf.random.normal(shape=(2, 2))\n",
        "\n",
        "c = a + b\n",
        "d = tf.square(c)\n",
        "e = tf.exp(d)"
      ]
    },
    {
      "cell_type": "markdown",
      "metadata": {
        "id": "_6fEX9VLs_-J"
      },
      "source": [
        "### 5.2 - Fonction linéaire (combinaison linéaire)\n",
        "\n",
        "Calculez l'équation suivante : $h_{W,b}(X) = WX + b$, où $W$ et $X$ sont des matrices aléatoires et $b$ est un vecteur aléatoire.\n",
        "\n",
        "- $X$ et $b$ sont tirés d'une distribution normale aléatoire.\n",
        "- $W$ est de dimension (4, 3), $X$ est (3,1) et $b$ est (4,1).\n",
        "\n",
        "Les fonctions suivantes peuvent vous être utiles :\n",
        "- tf.matmul(..., ...) pour effectuer une multiplication matricielle\n",
        "- tf.add(..., ...) pour faire une addition\n",
        "\n"
      ]
    },
    {
      "cell_type": "code",
      "execution_count": 23,
      "metadata": {
        "id": "XHG5OLqLs_-J",
        "colab": {
          "base_uri": "https://localhost:8080/"
        },
        "outputId": "1ca6b5be-833b-4645-da76-fc2395145627"
      },
      "outputs": [
        {
          "output_type": "stream",
          "name": "stdout",
          "text": [
            "result = tf.Tensor(\n",
            "[[-4.550702  ]\n",
            " [ 0.94197273]\n",
            " [-0.0261928 ]\n",
            " [-1.4554887 ]], shape=(4, 1), dtype=float32)\n"
          ]
        }
      ],
      "source": [
        "# GRADED FUNCTION: linear_function\n",
        "\n",
        "def linear_function():\n",
        "    \"\"\"\n",
        "    Implements a linear function:\n",
        "            Initializes W to be a random tensor of shape (4,3)\n",
        "            Initializes X to be a random tensor of shape (3,1)\n",
        "            Initializes b to be a random tensor of shape (4,1)\n",
        "    Returns:\n",
        "    result -- runs the session for H = WX + b\n",
        "    \"\"\"\n",
        "\n",
        "    # mis ici pour contrôler le résultat: Expected output\n",
        "    tf.random.set_seed(SEED)\n",
        "\n",
        "    # ----------- Your code here --------------------->\n",
        "    # START CODE HERE (4 lines of code)\n",
        "    # pour controler le résultat rajouter seed=SEED pour chaque génération aléatoire'''\n",
        "\n",
        "    W = tf.random.normal(shape=(4, 3), seed=SEED)\n",
        "    X = tf.random.normal(shape=(3, 1), seed=SEED)\n",
        "    b = tf.random.normal(shape=(4, 1), seed=SEED)\n",
        "    H = tf.add(tf.matmul(W, X), b)\n",
        "\n",
        "    # ------------------------------------------------>\n",
        "\n",
        "\n",
        "    return H\n",
        "\n",
        "print( \"result = \" + str(linear_function()))"
      ]
    },
    {
      "cell_type": "markdown",
      "metadata": {
        "id": "5bYdvy3Ys_-K"
      },
      "source": [
        "*** Expected Output ***:\n",
        "\n",
        "<table>\n",
        "<tr>\n",
        "<td>\n",
        "**result**\n",
        "</td>\n",
        "<td>\n",
        "[[-0.9966546 ]\n",
        " [-2.6214728 ]\n",
        " [ 3.096904  ]\n",
        " [ 0.02088326]]\n",
        "</td>\n",
        "</tr>\n",
        "\n",
        "</table>"
      ]
    },
    {
      "cell_type": "markdown",
      "metadata": {
        "id": "q645NGePs_-L"
      },
      "source": [
        "### 5.3 - Calculer avec la fonction sigmoïde\n",
        "\n",
        "Vous venez de prorammer une fonction linéaire. Tensorflow offre une variété de fonctions de réseaux de neurones couramment utilisées comme `tf.sigmoid` et `tf.softmax`. Pour cet exercice, nous allons calculer la fonction sigmoïde d'une entrée.\n",
        "\n",
        "Implémentez la fonction sigmoïde ci-dessous. Vous devez utiliser ce qui suit :\n"
      ]
    },
    {
      "cell_type": "code",
      "execution_count": 24,
      "metadata": {
        "id": "55boxFmJs_-L"
      },
      "outputs": [],
      "source": [
        "def sigmoid(x):\n",
        "    \"\"\"\n",
        "    Computes the sigmoid of z\n",
        "\n",
        "    Arguments:\n",
        "    z -- input value, scalar or vector\n",
        "\n",
        "    Returns:\n",
        "    results -- the sigmoid of z\n",
        "    \"\"\"\n",
        "\n",
        "    # ----------- Your code here --------------------->\n",
        "    # Use the tensorflow sigmoid function\n",
        "\n",
        "    result = tf.sigmoid(x)\n",
        "\n",
        "    # ------------------------------------------------>\n",
        "\n",
        "\n",
        "    return result\n"
      ]
    },
    {
      "cell_type": "code",
      "execution_count": null,
      "metadata": {
        "id": "eCV4eY15s_-L",
        "colab": {
          "base_uri": "https://localhost:8080/"
        },
        "outputId": "c68925ed-e544-4449-f6ff-cbae7f9528a4"
      },
      "outputs": [
        {
          "output_type": "stream",
          "name": "stdout",
          "text": [
            "sigmoid(0) = tf.Tensor(0.5, shape=(), dtype=float32)\n",
            "sigmoid(12) = tf.Tensor(0.99999386, shape=(), dtype=float32)\n"
          ]
        }
      ],
      "source": [
        "print (\"sigmoid(0) = \" + str(sigmoid(0.)))\n",
        "print (\"sigmoid(12) = \" + str(sigmoid(12.)))"
      ]
    },
    {
      "cell_type": "markdown",
      "metadata": {
        "id": "-o_Gj67Ks_-L"
      },
      "source": [
        "*** Expected Output ***:\n",
        "\n",
        "<table>\n",
        "<tr>\n",
        "<td>\n",
        "**sigmoid(0)**\n",
        "</td>\n",
        "<td>\n",
        "0.5\n",
        "</td>\n",
        "</tr>\n",
        "<tr>\n",
        "<td>\n",
        "**sigmoid(12)**\n",
        "</td>\n",
        "<td>\n",
        "0.999994\n",
        "</td>\n",
        "</tr>\n",
        "\n",
        "</table>"
      ]
    },
    {
      "cell_type": "markdown",
      "metadata": {
        "id": "AZOUSYCUs_-L"
      },
      "source": [
        "### 5.4 Calcul de la fonction de coût\n",
        "\n",
        "#### 5.4.1 Calcul de fonction de cout de régression\n",
        "\n",
        "Calculez avec Tensorflow la fonction suivante:\n",
        "$$loss = \\mathcal{L}(\\hat{y}, y) = (\\hat y^{(i)} - y^{(i)})^2 \\tag{1}$$"
      ]
    },
    {
      "cell_type": "code",
      "execution_count": 25,
      "metadata": {
        "id": "Ti9LKr7Os_-L",
        "colab": {
          "base_uri": "https://localhost:8080/"
        },
        "outputId": "37a49790-7803-4aca-ae41-a5d1e93c206e"
      },
      "outputs": [
        {
          "output_type": "stream",
          "name": "stdout",
          "text": [
            "<tf.Variable 'loss:0' shape=() dtype=int32, numpy=9>\n"
          ]
        }
      ],
      "source": [
        "y_hat = tf.constant(36, name='y_hat', dtype=tf.int32)            # Define y_hat constant. Set to 36.\n",
        "y = tf.constant(39, name='y', dtype=tf.int32)                    # Define y. Set to 39\n",
        "\n",
        "# ----------- Your code here --------------------->\n",
        "# Define the operation for loss.\n",
        "\n",
        "loss = tf.Variable(tf.square(tf.subtract(y_hat, y)), name='loss')\n",
        "\n",
        "# ------------------------------------------------>\n",
        "print(loss)"
      ]
    },
    {
      "cell_type": "markdown",
      "metadata": {
        "id": "WoNB8mxQs_-L"
      },
      "source": [
        "*** Expected Output ***:\n",
        "\n",
        "<tf.Variable 'loss:0' shape=() dtype=int32, numpy=9>\n"
      ]
    },
    {
      "cell_type": "markdown",
      "metadata": {
        "id": "id1WgspEs_-M"
      },
      "source": [
        "#### 5.4.2 - Calcul de la fonction de coût \"entropie croisée\" de classification\n",
        "\n",
        "Vous pouvez utiliser une fonction intégrée pour calculer le coût de votre réseau de neurones. Ainsi, au lieu de devoir écrire du code pour le calculer en fonction de $h_\\theta^{(i)}$ et de $y^{(i)}$ pour $i\\in\\{1,\\dots,m\\}$:\n",
        "\n",
        "$$ J(\\theta) = - \\frac{1}{m}  \\sum_{i = 1}^m  \\large ( \\small y^{(i)} \\log h_\\theta^{(i)}(x) + (1-y^{(i)})\\log (1-h_\\theta^{(i)}(x) )\\large )\\small\\tag{2}$$, vous pouvez appeler la fonction `tf.nn.sigmoid_cross_entropy_with_logits(logits = ..., labels = ...)`"
      ]
    },
    {
      "cell_type": "code",
      "execution_count": 26,
      "metadata": {
        "id": "mzJdcQAms_-M"
      },
      "outputs": [],
      "source": [
        "def cost(logits, labels):\n",
        "    \"\"\"\n",
        "    Computes the cost using the sigmoid cross entropy\n",
        "\n",
        "    Arguments:\n",
        "    logits -- vector containing z, output of the last linear unit (before the final sigmoid activation)\n",
        "    labels -- vector of labels y (1 or 0)\n",
        "\n",
        "    Returns:\n",
        "    cost -- the cost\n",
        "    \"\"\"\n",
        "\n",
        "    # ----------- Your code here --------------------->\n",
        "    # Use the loss function (approx. 1 line)\n",
        "\n",
        "    cost = tf.nn.sigmoid_cross_entropy_with_logits(logits=logits, labels=labels)\n",
        "\n",
        "    # ------------------------------------------------>\n",
        "\n",
        "    return cost"
      ]
    },
    {
      "cell_type": "markdown",
      "metadata": {
        "id": "F03Ql-4Ns_-N"
      },
      "source": [
        "Pour évaluer la fonction cost, vous devez mettre en entrée logits et labels:\n",
        "- La variable logits sera ici la sortie de la fonction `linear_function()` précédemment définie.\n",
        "- Définissez pour les labels un vecteur constant de 4 valeurs: 0., 0., 1., 1."
      ]
    },
    {
      "cell_type": "code",
      "execution_count": 28,
      "metadata": {
        "id": "cleP2c11s_-N",
        "colab": {
          "base_uri": "https://localhost:8080/"
        },
        "outputId": "32917c2c-8806-405d-94d1-8e1c9cd40c7d"
      },
      "outputs": [
        {
          "output_type": "stream",
          "name": "stdout",
          "text": [
            "cost_i =tf.Tensor([[0.01050442 1.2711743  0.70632935 1.6651711 ]], shape=(1, 4), dtype=float32)\n",
            "cost =tf.Tensor(0.9132948, shape=(), dtype=float32)\n"
          ]
        }
      ],
      "source": [
        "# ----------- Your code here --------------------->\n",
        "# Define logits as the outputs of linear_function and some compatible labels (use tf.transpose if )\n",
        "\n",
        "logits = tf.transpose(linear_function())\n",
        "labels = tf.transpose(tf.constant([[0.0], [0.0], [1.0], [1.0]], dtype=tf.float32))\n",
        "# ------------------------------------------------>\n",
        "\n",
        "# losses and loss\n",
        "cost_i = cost(logits, labels)\n",
        "print (\"cost_i =\" + str(cost_i))\n",
        "\n",
        "cost_tot = tf.math.reduce_mean(cost_i)\n",
        "print (\"cost =\" + str(cost_tot))\n"
      ]
    },
    {
      "cell_type": "markdown",
      "metadata": {
        "id": "S7jFMGjas_-N"
      },
      "source": [
        "*** Expected Output ***:\n",
        "\n",
        "<table>\n",
        "<tr>\n",
        "<td>\n",
        "**cost_i**\n",
        "</td>\n",
        "<td>\n",
        "[[0.3141625 ]\n",
        " [0.07017484]\n",
        " [0.04419762]\n",
        " [0.68276006]]\n",
        "</td>\n",
        "</tr>\n",
        "<tr>\n",
        "<td>\n",
        "**cost**\n",
        "</td>\n",
        "<td>\n",
        "0.27782375\n",
        "</td>\n",
        "</tr>\n",
        "\n",
        "</table>\n",
        "\n",
        "cost_i = tf.Tensor(\n",
        "[[0.3141625 ]\n",
        " [0.07017484]\n",
        " [0.04419762]\n",
        " [0.68276006]], shape=(4, 1), dtype=float32)\n",
        "\n",
        "cost = tf.Tensor(0.27782375, shape=(), dtype=float32)"
      ]
    },
    {
      "cell_type": "markdown",
      "metadata": {
        "id": "pgA6eYHus_-N"
      },
      "source": [
        "## 5 - Calculer les gradients automatiquement (Automatic differentiation)\n",
        "\n",
        "Le calcul des gradients ([Automatic differentiation](https://en.wikipedia.org/wiki/Automatic_differentiation) ) est une des plus importantes parties de Tensorflow car elle permet l'apprentissage des réseaux de neurones par [rétropropagation](https://en.wikipedia.org/wiki/Backpropagation).\n",
        "On utilisera le gestionnaire de contexte [`tf.GradientTape`](https://www.tensorflow.org/api_docs/python/tf/GradientTape?version=stable) pour calculer les gradients.\n",
        "\n",
        "L'exemple suivant montre comment calculer les gradients pour la fonction $ y = x^2$ :"
      ]
    },
    {
      "cell_type": "code",
      "execution_count": 29,
      "metadata": {
        "id": "F6GTYq7Ss_-O"
      },
      "outputs": [],
      "source": [
        "### Gradient computation with GradientTape ###\n",
        "\n",
        "# y = x^2\n",
        "# Example: x = 3.0\n",
        "x = tf.Variable(3.0)\n",
        "\n",
        "# Initiate the gradient tape\n",
        "with tf.GradientTape() as tape:\n",
        "  # Define the function\n",
        "  y = x * x\n",
        "\n",
        "# Access the gradient -- derivative of y with respect to x\n",
        "dy_dx = tape.gradient(y, x)\n",
        "\n",
        "assert dy_dx.numpy() == 6.0"
      ]
    },
    {
      "cell_type": "markdown",
      "metadata": {
        "id": "NQt083qLs_-P"
      },
      "source": [
        "A partir de l'exemple précédent utilisant `GradientTape`, nous allons examiner un exemple où nous utilisons la différenciation automatique et la SGD pour trouver le minimum de $J=(x-x_f)^2$. Ici, $x_f$ est une variable pour une valeur souhaitée que nous essayons d'estimer ; $J$ représente un coût que nous essayons de minimiser.\n",
        "\n",
        "Bien que nous puissions clairement résoudre ce problème de manière analytique ($x_{min}=x_f$), on va le faire avec `GradientTape`.\n",
        "\n"
      ]
    },
    {
      "cell_type": "code",
      "execution_count": 33,
      "metadata": {
        "id": "EN7gxVOus_-P",
        "colab": {
          "base_uri": "https://localhost:8080/",
          "height": 485
        },
        "outputId": "237cf789-fc7b-4319-bc75-1be6fa979ddb"
      },
      "outputs": [
        {
          "output_type": "stream",
          "name": "stdout",
          "text": [
            "Initializing x=[[1.6940167]]\n"
          ]
        },
        {
          "output_type": "execute_result",
          "data": {
            "text/plain": [
              "Text(0, 0.5, 'x value')"
            ]
          },
          "metadata": {},
          "execution_count": 33
        },
        {
          "output_type": "display_data",
          "data": {
            "text/plain": [
              "<Figure size 640x480 with 1 Axes>"
            ],
            "image/png": "[encoded data removed]"
          },
          "metadata": {}
        }
      ],
      "source": [
        "### Function minimization with automatic differentiation and SGD ###\n",
        "\n",
        "# Initialize a random value for our initial x\n",
        "x = tf.Variable([tf.random.normal([1])])\n",
        "print(\"Initializing x={}\".format(x.numpy()))\n",
        "\n",
        "learning_rate = 1e-2 # learning rate for SGD\n",
        "history = []\n",
        "# Define the target value\n",
        "x_f = 4\n",
        "\n",
        "# We will run SGD for a number of iterations. At each iteration, we compute the loss,\n",
        "#   compute the derivative of the loss with respect to x, and perform the SGD update.\n",
        "for i in range(500):\n",
        "  with tf.GradientTape() as tape:\n",
        "\n",
        "\n",
        "    # ----------- Your code here --------------------->\n",
        "    # define the loss as described above\n",
        "\n",
        "    loss = (x - x_f)**2\n",
        "\n",
        "    # ------------------------------------------------>\n",
        "\n",
        "  # loss minimization using gradient tape\n",
        "  grad = tape.gradient(loss, x) # compute the derivative of the loss with respect to x\n",
        "  new_x = x - learning_rate*grad # sgd update\n",
        "  x.assign(new_x) # update the value of x\n",
        "  history.append(x.numpy()[0])\n",
        "\n",
        "# Plot the evolution of x as we optimize towards x_f!\n",
        "plt.plot(history)\n",
        "plt.plot([0, 500],[x_f,x_f])\n",
        "plt.legend(('Predicted', 'True'))\n",
        "plt.xlabel('Iteration')\n",
        "plt.ylabel('x value')"
      ]
    },
    {
      "cell_type": "markdown",
      "metadata": {
        "id": "54yJEUCUs_-P"
      },
      "source": [
        "Notez qu'on peut calculer les dérivées d'ordre supérieur par imbrication:"
      ]
    },
    {
      "cell_type": "code",
      "execution_count": 34,
      "metadata": {
        "id": "74DVvF-ss_-Q",
        "colab": {
          "base_uri": "https://localhost:8080/"
        },
        "outputId": "706639bd-b005-41f3-8b0d-2effb3035be6"
      },
      "outputs": [
        {
          "output_type": "stream",
          "name": "stdout",
          "text": [
            "tf.Tensor(\n",
            "[[0.5934568  0.7498028 ]\n",
            " [0.05557543 0.00696731]], shape=(2, 2), dtype=float32)\n"
          ]
        }
      ],
      "source": [
        "a = tf.random.normal(shape=(2, 2))\n",
        "b = tf.random.normal(shape=(2, 2))\n",
        "a = tf.Variable(a)\n",
        "\n",
        "with tf.GradientTape() as outer_tape:\n",
        "  with tf.GradientTape() as tape:\n",
        "    c = tf.sqrt(tf.square(a) + tf.square(b))\n",
        "    dc_da = tape.gradient(c, a)\n",
        "  d2c_da2 = outer_tape.gradient(dc_da, a)\n",
        "  print(d2c_da2)"
      ]
    },
    {
      "cell_type": "markdown",
      "metadata": {
        "id": "YfXiv5uks_-Q"
      },
      "source": [
        "## 5.6 - Conversion de labels: one-hot-encoding\n",
        "\n",
        "Souvent, en machine learning, vous aurez un vecteur $y$ avec des nombres allant de $0$ à $C$, où $C$ est le nombre de classes. Si $C$ est par exemple 4, alors vous pourriez avoir le vecteur $y$ suivant que vous devrez convertir comme suit :\n",
        "\n",
        "<img src=\"https://drive.google.com/uc?export=view&id=1NfPufghD8v2LC6I0kSs76B-5pzxhMObA\" style=\"width:600px;height:150px ;\">\n",
        "\n",
        "\n",
        "On appelle cela un encodage \"one hot\", car dans la représentation finale, un seul élément de chaque colonne est \"hot\" (c'est-à-dire mis à 1). Dans tensorflow, vous pouvez utiliser une ligne de code :\n",
        "\n",
        "- tf.one_hot(labels, class_nb, axis)\n",
        "\n",
        "**Exercice : ** Implémentez la fonction ci-dessous pour prendre un vecteur d'étiquettes et le nombre total de classes $C$, et encoder le en one-hot. Utilisez `tf.one_hot()` pour faire cela."
      ]
    },
    {
      "cell_type": "code",
      "execution_count": 37,
      "metadata": {
        "id": "namsu6Jhs_-Q"
      },
      "outputs": [],
      "source": [
        "def one_hot_matrix(labels, class_nb):\n",
        "    \"\"\"\n",
        "    Creates a matrix where the i-th row corresponds to the ith class number and the jth column\n",
        "                     corresponds to the jth training example. So if example j had a label i. Then entry (i,j)\n",
        "                     will be 1.\n",
        "\n",
        "    Arguments:\n",
        "    labels -- vector containing the labels\n",
        "    class_nb -- number of classes, the depth of the one hot dimension\n",
        "\n",
        "    Returns:\n",
        "    one_hot -- one hot matrix\n",
        "    \"\"\"\n",
        "\n",
        "    # ----------- Your code here --------------------->\n",
        "\n",
        "    # Create a tf.constant equal to C (depth), name it 'C'. (approx. 1 line)\n",
        "    C = tf.constant(class_nb, name='C')\n",
        "\n",
        "    # Use tf.one_hot, be careful with the axis (approx. 1 line)\n",
        "    one_hot_matrix = tf.one_hot(labels, depth=C, axis=0)\n",
        "\n",
        "    # ------------------------------------------------>\n",
        "\n",
        "    return one_hot_matrix"
      ]
    },
    {
      "cell_type": "code",
      "execution_count": 38,
      "metadata": {
        "id": "x3oTXRSns_-R",
        "colab": {
          "base_uri": "https://localhost:8080/"
        },
        "outputId": "99b13914-c00f-495a-f278-e155ac3698e7"
      },
      "outputs": [
        {
          "output_type": "stream",
          "name": "stdout",
          "text": [
            "one_hot = tf.Tensor(\n",
            "[[0. 0. 0. 1. 0. 0.]\n",
            " [1. 0. 0. 0. 0. 1.]\n",
            " [0. 1. 0. 0. 1. 0.]\n",
            " [0. 0. 1. 0. 0. 0.]], shape=(4, 6), dtype=float32)\n"
          ]
        }
      ],
      "source": [
        "labels = np.array([1,2,3,0,2,1])\n",
        "one_hot = one_hot_matrix(labels, class_nb = 4)\n",
        "print (\"one_hot = \" + str(one_hot))"
      ]
    },
    {
      "cell_type": "markdown",
      "metadata": {
        "id": "02P6zzCms_-R"
      },
      "source": [
        "**Expected Output**:\n",
        "\n",
        "<table>\n",
        "    <tr>\n",
        "        <td>\n",
        "            **one_hot**\n",
        "        </td>\n",
        "        <td>\n",
        "        [[ 0.  0.  0.  1.  0.  0.]\n",
        " [ 1.  0.  0.  0.  0.  1.]\n",
        " [ 0.  1.  0.  0.  1.  0.]\n",
        " [ 0.  0.  1.  0.  0.  0.]]\n",
        "        </td>\n",
        "    </tr>\n",
        "\n",
        "</table>\n"
      ]
    }
  ],
  "metadata": {
    "colab": {
      "provenance": [],
      "include_colab_link": true
    },
    "kernelspec": {
      "display_name": "Python 3",
      "language": "python",
      "name": "python3"
    },
    "language_info": {
      "codemirror_mode": {
        "name": "ipython",
        "version": 3
      },
      "file_extension": ".py",
      "mimetype": "text/x-python",
      "name": "python",
      "nbconvert_exporter": "python",
      "pygments_lexer": "ipython3",
      "version": "3.10.10"
    }
  },
  "nbformat": 4,
  "nbformat_minor": 0
}