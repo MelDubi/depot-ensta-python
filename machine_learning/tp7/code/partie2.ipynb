{
  "cells": [
    {
      "cell_type": "markdown",
      "metadata": {
        "id": "view-in-github",
        "colab_type": "text"
      },
      "source": [
        "<a href=\"https://colab.research.google.com/github/tanguy-rdt/depot-ensta-python/blob/SA5/machine_learning/tp7/code/partie2.ipynb\" target=\"_parent\"><img src=\"https://colab.research.google.com/assets/colab-badge.svg\" alt=\"Open In Colab\"/></a>"
      ]
    },
    {
      "cell_type": "markdown",
      "metadata": {
        "id": "z9_kiE0qG-tO"
      },
      "source": [
        "## <center> Machine Learning Programming Exercise 7</center>\n",
        "# <center> **Partie 2: construction et apprentissage d'un réseau de neurones de classification avec Tensorflow 2.x** </center>"
      ]
    },
    {
      "cell_type": "markdown",
      "metadata": {
        "id": "LJDNLsuJG-tS"
      },
      "source": [
        "| <font size=6,font color='red'>Monôme / binôme</font> | <font size=6,font color='red'>Nom</font> | <font size=6,font color='red'>Prénom</font> |\n",
        "|:-------------: |:----------- |:------ |\n",
        "| binôme 1 | <span style=\"color:red\">DUBEE</span> | <span style=\"color:red\">Melvin</span> |\n",
        "| binôme 2 | <span style=\"color:red\">ROUDAUT</span> | <span style=\"color:red\">Tanguy</span> |\n"
      ]
    },
    {
      "cell_type": "markdown",
      "metadata": {
        "id": "PfpMYEaEG-tT"
      },
      "source": [
        "Nous allons balayer les différentes étapes permettant de réaliser cet objectif:\n",
        "- Chargement d'un dataset (ici avec tensorflow-dataset mais d'autres méthodes sont possibles)\n",
        "- Analyse et préparation des données\n",
        "- Prétraitements des données\n",
        "- Création du réseau\n",
        "- Apprentissage en choisissant une fonction de cout, des métriques d'évaluation et un optimiseur.\n",
        "- Mise en oeuvre et première analyse de l'apprentissage\n",
        "\n",
        "Vos objectifs sont:\n",
        "- d'analyser et comprendre les codes quand ils sont fournis\n",
        "- de les compléter si demander\n"
      ]
    },
    {
      "cell_type": "markdown",
      "metadata": {
        "id": "UaStlQ6hG-tU"
      },
      "source": [
        "## 1 - Imports\n",
        "\n",
        "Pour pouvoir commencer, vous importerez les librairies suivantes:"
      ]
    },
    {
      "cell_type": "markdown",
      "metadata": {
        "id": "RAKY4J4JG-tU"
      },
      "source": [
        "## 1.1 Colab or not"
      ]
    },
    {
      "cell_type": "code",
      "execution_count": 1,
      "metadata": {
        "colab": {
          "base_uri": "https://localhost:8080/"
        },
        "id": "6FZxXlRWG-tV",
        "outputId": "8ef5ef39-d811-4ccf-b19a-299160600f34"
      },
      "outputs": [
        {
          "output_type": "stream",
          "name": "stdout",
          "text": [
            "Mounted at /content/gdrive\n",
            "/content/gdrive/MyDrive/machine_learning\n",
            "partie1.ipynb  partie2.ipynb\n"
          ]
        }
      ],
      "source": [
        "# common imports\n",
        "import sys,os,glob\n",
        "\n",
        "# Colab preamble\n",
        "IN_COLAB = 'google.colab' in sys.modules\n",
        "if IN_COLAB:\n",
        "\n",
        "  # mount google drive directories\n",
        "  from google.colab import drive\n",
        "  drive.mount('/content/gdrive', force_remount=True)\n",
        "\n",
        "\n",
        "  # ----------- Your code here --------------------->\n",
        "  # replace the ipynb_name (below) with the name of your jupyter notebook file\n",
        "\n",
        "  ipynb_name = 'partie2.ipynb'\n",
        "\n",
        "  # ------------------------------------------------>\n",
        "\n",
        "  ipynb_name = glob.glob(os.getcwd() + '/gdrive/MyDrive/machine_learning/' + ipynb_name, recursive = True)\n",
        "  code_folder = os.path.dirname(ipynb_name[0])\n",
        "\n",
        "  # change to the right folder\n",
        "  %cd \"$code_folder\"\n",
        "  !ls"
      ]
    },
    {
      "cell_type": "markdown",
      "metadata": {
        "id": "ptWnPLbiG-tW"
      },
      "source": [
        "## 1.2 Import packages"
      ]
    },
    {
      "cell_type": "code",
      "execution_count": 2,
      "metadata": {
        "id": "7jf2DIcUG-tX"
      },
      "outputs": [],
      "source": [
        "import tensorflow as tf\n",
        "import tensorflow_datasets as tfds\n",
        "import tensorflow.keras as keras\n",
        "import numpy as np\n",
        "import matplotlib.pyplot as plt\n",
        "import pandas as pd"
      ]
    },
    {
      "cell_type": "markdown",
      "metadata": {
        "id": "Phz1TWN9G-tX"
      },
      "source": [
        "## 2 - Chargement du dataset avec tensorflow-dataset (tfds)\n",
        "\n",
        "Pour charger les données, nous allons utiliser le projet tensorflow-dataset qui a le mérite de transformer directement les données en objet tf.data.Dataset que je souhaite vous voir utiliser pour différentes raisons exposées en cours. Un grand nombre de projet/framework ou simple fichier excel ou csv peut être utilisé pour importer les données.\n",
        "\n",
        "Le jeu de données MNIST est d'environ 12 MB etsera téléchargé si il n'est pas trouvé dans le chemin par défaut. Le chemin par défaut est ~/tensorflow_datasets/mnist/3.0.1."
      ]
    },
    {
      "cell_type": "code",
      "execution_count": 3,
      "metadata": {
        "colab": {
          "base_uri": "https://localhost:8080/"
        },
        "id": "8GXCn3q1G-tY",
        "outputId": "12c1034d-065b-435c-d74e-49bc713d3d0a"
      },
      "outputs": [
        {
          "output_type": "stream",
          "name": "stdout",
          "text": [
            "<_PrefetchDataset element_spec=(TensorSpec(shape=(28, 28, 1), dtype=tf.uint8, name=None), TensorSpec(shape=(), dtype=tf.int64, name=None))>\n",
            "<_PrefetchDataset element_spec=(TensorSpec(shape=(28, 28, 1), dtype=tf.uint8, name=None), TensorSpec(shape=(), dtype=tf.int64, name=None))>\n"
          ]
        }
      ],
      "source": [
        "(ds_train, ds_test), ds_info = tfds.load(\n",
        "                        'mnist',\n",
        "                        split=['train', 'test'],\n",
        "                        shuffle_files=True,\n",
        "                        as_supervised=True,\n",
        "                        with_info=True,\n",
        "                        )\n",
        "\n",
        "# check if data is a tf.data.Dataset object\n",
        "assert isinstance(ds_train, tf.data.Dataset)\n",
        "assert isinstance(ds_test, tf.data.Dataset)\n",
        "\n",
        "print(ds_train)\n",
        "print(ds_test)"
      ]
    },
    {
      "cell_type": "markdown",
      "metadata": {
        "id": "NqKFOCcLG-tY"
      },
      "source": [
        "## 3 - Analyse et préparation des données avec l'API tf.data.Dataset\n",
        "\n",
        "Les données ont été chargées et regroupent 70.000 images associées à leur indice de chiffre manuscrit. Le jeu de données est déjà séparé en deux sous-ensembles mutuellement exclusifs.\n",
        "\n",
        "### 3.1 - Caractéristiques du dataset\n",
        "Dans cette section, analysez le dictionnaire ds_info pour renseigner les variables ci-dessous\n",
        "- **Nombre d'exemples dans chaque ensemble**"
      ]
    },
    {
      "cell_type": "code",
      "execution_count": 4,
      "metadata": {
        "colab": {
          "base_uri": "https://localhost:8080/"
        },
        "id": "cqTRsE4-G-tY",
        "outputId": "fab94fd1-05e2-4d77-dc43-889374833290"
      },
      "outputs": [
        {
          "output_type": "stream",
          "name": "stdout",
          "text": [
            "tfds.core.DatasetInfo(\n",
            "    name='mnist',\n",
            "    full_name='mnist/3.0.1',\n",
            "    description=\"\"\"\n",
            "    The MNIST database of handwritten digits.\n",
            "    \"\"\",\n",
            "    homepage='http://yann.lecun.com/exdb/mnist/',\n",
            "    data_dir='/root/tensorflow_datasets/mnist/3.0.1',\n",
            "    file_format=tfrecord,\n",
            "    download_size=11.06 MiB,\n",
            "    dataset_size=21.00 MiB,\n",
            "    features=FeaturesDict({\n",
            "        'image': Image(shape=(28, 28, 1), dtype=uint8),\n",
            "        'label': ClassLabel(shape=(), dtype=int64, num_classes=10),\n",
            "    }),\n",
            "    supervised_keys=('image', 'label'),\n",
            "    disable_shuffling=False,\n",
            "    splits={\n",
            "        'test': <SplitInfo num_examples=10000, num_shards=1>,\n",
            "        'train': <SplitInfo num_examples=60000, num_shards=1>,\n",
            "    },\n",
            "    citation=\"\"\"@article{lecun2010mnist,\n",
            "      title={MNIST handwritten digit database},\n",
            "      author={LeCun, Yann and Cortes, Corinna and Burges, CJ},\n",
            "      journal={ATT Labs [Online]. Available: http://yann.lecun.com/exdb/mnist},\n",
            "      volume={2},\n",
            "      year={2010}\n",
            "    }\"\"\",\n",
            ")\n",
            "Size of:\n",
            "- Training-set:\t\t60000\n",
            "- Testing-set:\t\t10000\n"
          ]
        }
      ],
      "source": [
        "print(ds_info)\n",
        "\n",
        "# ----------- Your code here --------------------->\n",
        "\n",
        "num_examples_train =  ds_info.splits['train'].num_examples\n",
        "num_examples_test =  ds_info.splits['test'].num_examples\n",
        "\n",
        "# ------------------------------------------------>\n",
        "\n",
        "\n",
        "print(\"Size of:\")\n",
        "print(\"- Training-set:\\t\\t{}\".format(num_examples_train))\n",
        "print(\"- Testing-set:\\t\\t{}\".format(num_examples_test))\n"
      ]
    },
    {
      "cell_type": "markdown",
      "metadata": {
        "id": "JoZ0ZjyoG-tZ"
      },
      "source": [
        "- **Caractéristiques des entrées: dimension, nombre de canaux, nombre de classes, etc**"
      ]
    },
    {
      "cell_type": "code",
      "execution_count": 5,
      "metadata": {
        "colab": {
          "base_uri": "https://localhost:8080/"
        },
        "id": "YK2R41xkG-tZ",
        "outputId": "a7449e12-6c43-4f2e-c197-96c4d0ad2c67"
      },
      "outputs": [
        {
          "output_type": "stream",
          "name": "stdout",
          "text": [
            "(28, 28)\n",
            "1\n",
            "10\n"
          ]
        }
      ],
      "source": [
        "# ----------- Your code here --------------------->\n",
        "\n",
        "# shape of one image MNIST\n",
        "img_shape = ds_info.features[\"image\"].shape[:2]\n",
        "\n",
        "# Number of colour channels for the images: 1 channel for gray-scale.\n",
        "num_channels = ds_info.features[\"image\"].shape[-1]\n",
        "\n",
        "# Number of classes, one class for each of 10 digits.\n",
        "num_classes = ds_info.features[\"label\"].num_classes\n",
        "\n",
        "# ------------------------------------------------>\n",
        "\n",
        "\n",
        "# Number of classes, one class for each of 10 digits.\n",
        "\n",
        "#img_nbLin, img_nbCol, img_nbChan = img_shape\n",
        "#img_size_flat = img_nbLin* img_nbCol\n",
        "\n",
        "print(img_shape)\n",
        "print(num_channels)\n",
        "print(num_classes)\n"
      ]
    },
    {
      "cell_type": "markdown",
      "metadata": {
        "id": "lKRAkyh7G-tZ"
      },
      "source": [
        "## 3.2 - Consume the dataset\n"
      ]
    },
    {
      "cell_type": "markdown",
      "metadata": {
        "id": "m5FMzYQFG-tZ"
      },
      "source": [
        "L'API de `tf.data.Dataset` créé un itérable python ce qui le rend facile à utiliser pour obtenir les éléments de la base de données.\n",
        "\n",
        "Voici comment on récupère le premier élément (il suffit de réexécuter pour le second, troisième, etc.):"
      ]
    },
    {
      "cell_type": "code",
      "execution_count": 6,
      "metadata": {
        "id": "l9GBhBX6G-tZ"
      },
      "outputs": [],
      "source": [
        "# créer explicitement un itérateur Python en utilisant iter\n",
        "ite = iter(ds_test)"
      ]
    },
    {
      "cell_type": "code",
      "execution_count": 40,
      "metadata": {
        "colab": {
          "base_uri": "https://localhost:8080/"
        },
        "id": "46xfuA3zG-ta",
        "outputId": "f77cf74b-d478-4983-8777-7ff8e2503cf9"
      },
      "outputs": [
        {
          "output_type": "stream",
          "name": "stdout",
          "text": [
            "(28, 28, 1)\n",
            "4\n",
            "[[[0.        ]\n",
            "  [0.        ]\n",
            "  [0.        ]\n",
            "  [0.        ]\n",
            "  [0.        ]\n",
            "  [0.        ]\n",
            "  [0.        ]\n",
            "  [0.        ]\n",
            "  [0.        ]\n",
            "  [0.        ]\n",
            "  [0.        ]\n",
            "  [0.        ]\n",
            "  [0.        ]\n",
            "  [0.        ]\n",
            "  [0.        ]\n",
            "  [0.        ]\n",
            "  [0.        ]\n",
            "  [0.        ]\n",
            "  [0.        ]\n",
            "  [0.        ]\n",
            "  [0.        ]\n",
            "  [0.        ]\n",
            "  [0.        ]\n",
            "  [0.        ]\n",
            "  [0.        ]\n",
            "  [0.        ]\n",
            "  [0.        ]\n",
            "  [0.        ]]\n",
            "\n",
            " [[0.        ]\n",
            "  [0.        ]\n",
            "  [0.        ]\n",
            "  [0.        ]\n",
            "  [0.        ]\n",
            "  [0.        ]\n",
            "  [0.        ]\n",
            "  [0.        ]\n",
            "  [0.        ]\n",
            "  [0.        ]\n",
            "  [0.        ]\n",
            "  [0.        ]\n",
            "  [0.        ]\n",
            "  [0.        ]\n",
            "  [0.        ]\n",
            "  [0.        ]\n",
            "  [0.        ]\n",
            "  [0.        ]\n",
            "  [0.        ]\n",
            "  [0.        ]\n",
            "  [0.        ]\n",
            "  [0.        ]\n",
            "  [0.        ]\n",
            "  [0.        ]\n",
            "  [0.        ]\n",
            "  [0.        ]\n",
            "  [0.        ]\n",
            "  [0.        ]]\n",
            "\n",
            " [[0.        ]\n",
            "  [0.        ]\n",
            "  [0.        ]\n",
            "  [0.        ]\n",
            "  [0.        ]\n",
            "  [0.        ]\n",
            "  [0.        ]\n",
            "  [0.        ]\n",
            "  [0.        ]\n",
            "  [0.        ]\n",
            "  [0.        ]\n",
            "  [0.        ]\n",
            "  [0.        ]\n",
            "  [0.        ]\n",
            "  [0.        ]\n",
            "  [0.        ]\n",
            "  [0.        ]\n",
            "  [0.        ]\n",
            "  [0.        ]\n",
            "  [0.        ]\n",
            "  [0.        ]\n",
            "  [0.        ]\n",
            "  [0.        ]\n",
            "  [0.        ]\n",
            "  [0.        ]\n",
            "  [0.        ]\n",
            "  [0.        ]\n",
            "  [0.        ]]\n",
            "\n",
            " [[0.        ]\n",
            "  [0.        ]\n",
            "  [0.        ]\n",
            "  [0.        ]\n",
            "  [0.        ]\n",
            "  [0.        ]\n",
            "  [0.        ]\n",
            "  [0.        ]\n",
            "  [0.        ]\n",
            "  [0.        ]\n",
            "  [0.        ]\n",
            "  [0.        ]\n",
            "  [0.        ]\n",
            "  [0.        ]\n",
            "  [0.        ]\n",
            "  [0.        ]\n",
            "  [0.        ]\n",
            "  [0.        ]\n",
            "  [0.        ]\n",
            "  [0.        ]\n",
            "  [0.        ]\n",
            "  [0.        ]\n",
            "  [0.        ]\n",
            "  [0.        ]\n",
            "  [0.        ]\n",
            "  [0.        ]\n",
            "  [0.        ]\n",
            "  [0.        ]]\n",
            "\n",
            " [[0.        ]\n",
            "  [0.        ]\n",
            "  [0.        ]\n",
            "  [0.        ]\n",
            "  [0.        ]\n",
            "  [0.        ]\n",
            "  [0.        ]\n",
            "  [0.        ]\n",
            "  [0.        ]\n",
            "  [0.        ]\n",
            "  [0.        ]\n",
            "  [0.        ]\n",
            "  [0.        ]\n",
            "  [0.        ]\n",
            "  [0.        ]\n",
            "  [0.        ]\n",
            "  [0.        ]\n",
            "  [0.        ]\n",
            "  [0.        ]\n",
            "  [0.        ]\n",
            "  [0.        ]\n",
            "  [0.        ]\n",
            "  [0.        ]\n",
            "  [0.        ]\n",
            "  [0.        ]\n",
            "  [0.        ]\n",
            "  [0.        ]\n",
            "  [0.        ]]\n",
            "\n",
            " [[0.        ]\n",
            "  [0.        ]\n",
            "  [0.        ]\n",
            "  [0.        ]\n",
            "  [0.        ]\n",
            "  [0.        ]\n",
            "  [0.        ]\n",
            "  [0.        ]\n",
            "  [0.        ]\n",
            "  [0.        ]\n",
            "  [0.        ]\n",
            "  [0.        ]\n",
            "  [0.        ]\n",
            "  [0.        ]\n",
            "  [0.        ]\n",
            "  [0.        ]\n",
            "  [0.        ]\n",
            "  [0.        ]\n",
            "  [0.        ]\n",
            "  [0.        ]\n",
            "  [0.        ]\n",
            "  [0.        ]\n",
            "  [0.        ]\n",
            "  [0.        ]\n",
            "  [0.        ]\n",
            "  [0.        ]\n",
            "  [0.        ]\n",
            "  [0.        ]]\n",
            "\n",
            " [[0.        ]\n",
            "  [0.        ]\n",
            "  [0.        ]\n",
            "  [0.        ]\n",
            "  [0.        ]\n",
            "  [0.        ]\n",
            "  [0.1764706 ]\n",
            "  [0.9137255 ]\n",
            "  [0.5137255 ]\n",
            "  [0.        ]\n",
            "  [0.        ]\n",
            "  [0.        ]\n",
            "  [0.        ]\n",
            "  [0.        ]\n",
            "  [0.        ]\n",
            "  [0.        ]\n",
            "  [0.        ]\n",
            "  [0.        ]\n",
            "  [0.36078432]\n",
            "  [0.6901961 ]\n",
            "  [0.07450981]\n",
            "  [0.        ]\n",
            "  [0.        ]\n",
            "  [0.        ]\n",
            "  [0.        ]\n",
            "  [0.        ]\n",
            "  [0.        ]\n",
            "  [0.        ]]\n",
            "\n",
            " [[0.        ]\n",
            "  [0.        ]\n",
            "  [0.        ]\n",
            "  [0.        ]\n",
            "  [0.        ]\n",
            "  [0.        ]\n",
            "  [0.5529412 ]\n",
            "  [0.99607843]\n",
            "  [0.8156863 ]\n",
            "  [0.12941177]\n",
            "  [0.        ]\n",
            "  [0.        ]\n",
            "  [0.        ]\n",
            "  [0.        ]\n",
            "  [0.        ]\n",
            "  [0.        ]\n",
            "  [0.        ]\n",
            "  [0.        ]\n",
            "  [0.83137256]\n",
            "  [0.99607843]\n",
            "  [0.6666667 ]\n",
            "  [0.        ]\n",
            "  [0.        ]\n",
            "  [0.        ]\n",
            "  [0.        ]\n",
            "  [0.        ]\n",
            "  [0.        ]\n",
            "  [0.        ]]\n",
            "\n",
            " [[0.        ]\n",
            "  [0.        ]\n",
            "  [0.        ]\n",
            "  [0.        ]\n",
            "  [0.        ]\n",
            "  [0.0627451 ]\n",
            "  [0.6627451 ]\n",
            "  [0.99607843]\n",
            "  [0.8784314 ]\n",
            "  [0.15294118]\n",
            "  [0.        ]\n",
            "  [0.        ]\n",
            "  [0.        ]\n",
            "  [0.        ]\n",
            "  [0.        ]\n",
            "  [0.        ]\n",
            "  [0.        ]\n",
            "  [0.12941177]\n",
            "  [0.87058824]\n",
            "  [0.99607843]\n",
            "  [0.92941177]\n",
            "  [0.        ]\n",
            "  [0.        ]\n",
            "  [0.        ]\n",
            "  [0.        ]\n",
            "  [0.        ]\n",
            "  [0.        ]\n",
            "  [0.        ]]\n",
            "\n",
            " [[0.        ]\n",
            "  [0.        ]\n",
            "  [0.        ]\n",
            "  [0.        ]\n",
            "  [0.        ]\n",
            "  [0.24313726]\n",
            "  [0.99607843]\n",
            "  [0.99607843]\n",
            "  [0.5137255 ]\n",
            "  [0.        ]\n",
            "  [0.        ]\n",
            "  [0.        ]\n",
            "  [0.        ]\n",
            "  [0.        ]\n",
            "  [0.        ]\n",
            "  [0.        ]\n",
            "  [0.        ]\n",
            "  [0.5176471 ]\n",
            "  [0.99607843]\n",
            "  [0.99607843]\n",
            "  [0.92941177]\n",
            "  [0.        ]\n",
            "  [0.        ]\n",
            "  [0.        ]\n",
            "  [0.        ]\n",
            "  [0.        ]\n",
            "  [0.        ]\n",
            "  [0.        ]]\n",
            "\n",
            " [[0.        ]\n",
            "  [0.        ]\n",
            "  [0.        ]\n",
            "  [0.        ]\n",
            "  [0.        ]\n",
            "  [0.84313726]\n",
            "  [0.99607843]\n",
            "  [0.99607843]\n",
            "  [0.5137255 ]\n",
            "  [0.        ]\n",
            "  [0.        ]\n",
            "  [0.        ]\n",
            "  [0.        ]\n",
            "  [0.        ]\n",
            "  [0.        ]\n",
            "  [0.        ]\n",
            "  [0.18431373]\n",
            "  [0.93333334]\n",
            "  [0.99607843]\n",
            "  [0.99607843]\n",
            "  [0.80784315]\n",
            "  [0.        ]\n",
            "  [0.        ]\n",
            "  [0.        ]\n",
            "  [0.        ]\n",
            "  [0.        ]\n",
            "  [0.        ]\n",
            "  [0.        ]]\n",
            "\n",
            " [[0.        ]\n",
            "  [0.        ]\n",
            "  [0.        ]\n",
            "  [0.        ]\n",
            "  [0.        ]\n",
            "  [0.9372549 ]\n",
            "  [0.99607843]\n",
            "  [0.99607843]\n",
            "  [0.5137255 ]\n",
            "  [0.        ]\n",
            "  [0.        ]\n",
            "  [0.        ]\n",
            "  [0.        ]\n",
            "  [0.        ]\n",
            "  [0.        ]\n",
            "  [0.        ]\n",
            "  [0.21176471]\n",
            "  [0.99607843]\n",
            "  [0.99607843]\n",
            "  [0.99607843]\n",
            "  [0.23921569]\n",
            "  [0.        ]\n",
            "  [0.        ]\n",
            "  [0.        ]\n",
            "  [0.        ]\n",
            "  [0.        ]\n",
            "  [0.        ]\n",
            "  [0.        ]]\n",
            "\n",
            " [[0.        ]\n",
            "  [0.        ]\n",
            "  [0.        ]\n",
            "  [0.        ]\n",
            "  [0.5019608 ]\n",
            "  [0.9843137 ]\n",
            "  [0.99607843]\n",
            "  [0.85882354]\n",
            "  [0.10588235]\n",
            "  [0.        ]\n",
            "  [0.        ]\n",
            "  [0.        ]\n",
            "  [0.        ]\n",
            "  [0.        ]\n",
            "  [0.        ]\n",
            "  [0.        ]\n",
            "  [0.21176471]\n",
            "  [0.99607843]\n",
            "  [0.99607843]\n",
            "  [0.99607843]\n",
            "  [0.23921569]\n",
            "  [0.        ]\n",
            "  [0.        ]\n",
            "  [0.        ]\n",
            "  [0.        ]\n",
            "  [0.        ]\n",
            "  [0.        ]\n",
            "  [0.        ]]\n",
            "\n",
            " [[0.        ]\n",
            "  [0.        ]\n",
            "  [0.        ]\n",
            "  [0.        ]\n",
            "  [0.62352943]\n",
            "  [0.99607843]\n",
            "  [0.99607843]\n",
            "  [0.8980392 ]\n",
            "  [0.21568628]\n",
            "  [0.        ]\n",
            "  [0.        ]\n",
            "  [0.        ]\n",
            "  [0.        ]\n",
            "  [0.        ]\n",
            "  [0.        ]\n",
            "  [0.        ]\n",
            "  [0.21176471]\n",
            "  [0.99607843]\n",
            "  [0.99607843]\n",
            "  [0.99607843]\n",
            "  [0.23921569]\n",
            "  [0.        ]\n",
            "  [0.        ]\n",
            "  [0.        ]\n",
            "  [0.        ]\n",
            "  [0.        ]\n",
            "  [0.        ]\n",
            "  [0.        ]]\n",
            "\n",
            " [[0.        ]\n",
            "  [0.        ]\n",
            "  [0.        ]\n",
            "  [0.        ]\n",
            "  [0.17254902]\n",
            "  [0.92941177]\n",
            "  [0.99607843]\n",
            "  [0.99607843]\n",
            "  [0.8666667 ]\n",
            "  [0.7254902 ]\n",
            "  [0.7254902 ]\n",
            "  [0.7254902 ]\n",
            "  [0.7254902 ]\n",
            "  [0.7254902 ]\n",
            "  [0.7254902 ]\n",
            "  [0.7254902 ]\n",
            "  [0.78431374]\n",
            "  [0.99607843]\n",
            "  [0.99607843]\n",
            "  [0.99607843]\n",
            "  [0.7411765 ]\n",
            "  [0.02352941]\n",
            "  [0.        ]\n",
            "  [0.        ]\n",
            "  [0.        ]\n",
            "  [0.        ]\n",
            "  [0.        ]\n",
            "  [0.        ]]\n",
            "\n",
            " [[0.        ]\n",
            "  [0.        ]\n",
            "  [0.        ]\n",
            "  [0.        ]\n",
            "  [0.        ]\n",
            "  [0.16078432]\n",
            "  [0.84313726]\n",
            "  [0.99607843]\n",
            "  [0.99607843]\n",
            "  [0.99607843]\n",
            "  [0.99607843]\n",
            "  [0.99607843]\n",
            "  [0.99607843]\n",
            "  [0.99607843]\n",
            "  [0.99607843]\n",
            "  [0.99607843]\n",
            "  [0.99607843]\n",
            "  [0.99607843]\n",
            "  [0.99607843]\n",
            "  [0.99607843]\n",
            "  [0.99607843]\n",
            "  [0.6156863 ]\n",
            "  [0.        ]\n",
            "  [0.        ]\n",
            "  [0.        ]\n",
            "  [0.        ]\n",
            "  [0.        ]\n",
            "  [0.        ]]\n",
            "\n",
            " [[0.        ]\n",
            "  [0.        ]\n",
            "  [0.        ]\n",
            "  [0.        ]\n",
            "  [0.        ]\n",
            "  [0.        ]\n",
            "  [0.19215687]\n",
            "  [0.45490196]\n",
            "  [0.99607843]\n",
            "  [0.99607843]\n",
            "  [0.99607843]\n",
            "  [0.99607843]\n",
            "  [0.99607843]\n",
            "  [0.99607843]\n",
            "  [0.99607843]\n",
            "  [0.99607843]\n",
            "  [0.99607843]\n",
            "  [0.99607843]\n",
            "  [0.99607843]\n",
            "  [0.99607843]\n",
            "  [0.9529412 ]\n",
            "  [0.21176471]\n",
            "  [0.        ]\n",
            "  [0.        ]\n",
            "  [0.        ]\n",
            "  [0.        ]\n",
            "  [0.        ]\n",
            "  [0.        ]]\n",
            "\n",
            " [[0.        ]\n",
            "  [0.        ]\n",
            "  [0.        ]\n",
            "  [0.        ]\n",
            "  [0.        ]\n",
            "  [0.        ]\n",
            "  [0.        ]\n",
            "  [0.00784314]\n",
            "  [0.03137255]\n",
            "  [0.5803922 ]\n",
            "  [0.43529412]\n",
            "  [0.03137255]\n",
            "  [0.27058825]\n",
            "  [0.72156864]\n",
            "  [0.72156864]\n",
            "  [0.72156864]\n",
            "  [0.972549  ]\n",
            "  [0.99607843]\n",
            "  [0.99607843]\n",
            "  [0.56078434]\n",
            "  [0.02745098]\n",
            "  [0.        ]\n",
            "  [0.        ]\n",
            "  [0.        ]\n",
            "  [0.        ]\n",
            "  [0.        ]\n",
            "  [0.        ]\n",
            "  [0.        ]]\n",
            "\n",
            " [[0.        ]\n",
            "  [0.        ]\n",
            "  [0.        ]\n",
            "  [0.        ]\n",
            "  [0.        ]\n",
            "  [0.        ]\n",
            "  [0.        ]\n",
            "  [0.        ]\n",
            "  [0.        ]\n",
            "  [0.        ]\n",
            "  [0.        ]\n",
            "  [0.        ]\n",
            "  [0.        ]\n",
            "  [0.        ]\n",
            "  [0.        ]\n",
            "  [0.        ]\n",
            "  [0.9019608 ]\n",
            "  [0.99607843]\n",
            "  [0.91764706]\n",
            "  [0.22745098]\n",
            "  [0.        ]\n",
            "  [0.        ]\n",
            "  [0.        ]\n",
            "  [0.        ]\n",
            "  [0.        ]\n",
            "  [0.        ]\n",
            "  [0.        ]\n",
            "  [0.        ]]\n",
            "\n",
            " [[0.        ]\n",
            "  [0.        ]\n",
            "  [0.        ]\n",
            "  [0.        ]\n",
            "  [0.        ]\n",
            "  [0.        ]\n",
            "  [0.        ]\n",
            "  [0.        ]\n",
            "  [0.        ]\n",
            "  [0.        ]\n",
            "  [0.        ]\n",
            "  [0.        ]\n",
            "  [0.        ]\n",
            "  [0.        ]\n",
            "  [0.        ]\n",
            "  [0.        ]\n",
            "  [0.9019608 ]\n",
            "  [0.99607843]\n",
            "  [0.85882354]\n",
            "  [0.        ]\n",
            "  [0.        ]\n",
            "  [0.        ]\n",
            "  [0.        ]\n",
            "  [0.        ]\n",
            "  [0.        ]\n",
            "  [0.        ]\n",
            "  [0.        ]\n",
            "  [0.        ]]\n",
            "\n",
            " [[0.        ]\n",
            "  [0.        ]\n",
            "  [0.        ]\n",
            "  [0.        ]\n",
            "  [0.        ]\n",
            "  [0.        ]\n",
            "  [0.        ]\n",
            "  [0.        ]\n",
            "  [0.        ]\n",
            "  [0.        ]\n",
            "  [0.        ]\n",
            "  [0.        ]\n",
            "  [0.        ]\n",
            "  [0.        ]\n",
            "  [0.        ]\n",
            "  [0.        ]\n",
            "  [0.9019608 ]\n",
            "  [0.99607843]\n",
            "  [0.85882354]\n",
            "  [0.        ]\n",
            "  [0.        ]\n",
            "  [0.        ]\n",
            "  [0.        ]\n",
            "  [0.        ]\n",
            "  [0.        ]\n",
            "  [0.        ]\n",
            "  [0.        ]\n",
            "  [0.        ]]\n",
            "\n",
            " [[0.        ]\n",
            "  [0.        ]\n",
            "  [0.        ]\n",
            "  [0.        ]\n",
            "  [0.        ]\n",
            "  [0.        ]\n",
            "  [0.        ]\n",
            "  [0.        ]\n",
            "  [0.        ]\n",
            "  [0.        ]\n",
            "  [0.        ]\n",
            "  [0.        ]\n",
            "  [0.        ]\n",
            "  [0.        ]\n",
            "  [0.        ]\n",
            "  [0.49411765]\n",
            "  [0.98039216]\n",
            "  [0.99607843]\n",
            "  [0.85882354]\n",
            "  [0.        ]\n",
            "  [0.        ]\n",
            "  [0.        ]\n",
            "  [0.        ]\n",
            "  [0.        ]\n",
            "  [0.        ]\n",
            "  [0.        ]\n",
            "  [0.        ]\n",
            "  [0.        ]]\n",
            "\n",
            " [[0.        ]\n",
            "  [0.        ]\n",
            "  [0.        ]\n",
            "  [0.        ]\n",
            "  [0.        ]\n",
            "  [0.        ]\n",
            "  [0.        ]\n",
            "  [0.        ]\n",
            "  [0.        ]\n",
            "  [0.        ]\n",
            "  [0.        ]\n",
            "  [0.        ]\n",
            "  [0.        ]\n",
            "  [0.        ]\n",
            "  [0.        ]\n",
            "  [0.5882353 ]\n",
            "  [0.99607843]\n",
            "  [0.99607843]\n",
            "  [0.54509807]\n",
            "  [0.        ]\n",
            "  [0.        ]\n",
            "  [0.        ]\n",
            "  [0.        ]\n",
            "  [0.        ]\n",
            "  [0.        ]\n",
            "  [0.        ]\n",
            "  [0.        ]\n",
            "  [0.        ]]\n",
            "\n",
            " [[0.        ]\n",
            "  [0.        ]\n",
            "  [0.        ]\n",
            "  [0.        ]\n",
            "  [0.        ]\n",
            "  [0.        ]\n",
            "  [0.        ]\n",
            "  [0.        ]\n",
            "  [0.        ]\n",
            "  [0.        ]\n",
            "  [0.        ]\n",
            "  [0.        ]\n",
            "  [0.        ]\n",
            "  [0.        ]\n",
            "  [0.        ]\n",
            "  [0.5882353 ]\n",
            "  [0.99607843]\n",
            "  [0.99607843]\n",
            "  [0.16862746]\n",
            "  [0.        ]\n",
            "  [0.        ]\n",
            "  [0.        ]\n",
            "  [0.        ]\n",
            "  [0.        ]\n",
            "  [0.        ]\n",
            "  [0.        ]\n",
            "  [0.        ]\n",
            "  [0.        ]]\n",
            "\n",
            " [[0.        ]\n",
            "  [0.        ]\n",
            "  [0.        ]\n",
            "  [0.        ]\n",
            "  [0.        ]\n",
            "  [0.        ]\n",
            "  [0.        ]\n",
            "  [0.        ]\n",
            "  [0.        ]\n",
            "  [0.        ]\n",
            "  [0.        ]\n",
            "  [0.        ]\n",
            "  [0.        ]\n",
            "  [0.        ]\n",
            "  [0.        ]\n",
            "  [0.5882353 ]\n",
            "  [0.99607843]\n",
            "  [0.99607843]\n",
            "  [0.16862746]\n",
            "  [0.        ]\n",
            "  [0.        ]\n",
            "  [0.        ]\n",
            "  [0.        ]\n",
            "  [0.        ]\n",
            "  [0.        ]\n",
            "  [0.        ]\n",
            "  [0.        ]\n",
            "  [0.        ]]\n",
            "\n",
            " [[0.        ]\n",
            "  [0.        ]\n",
            "  [0.        ]\n",
            "  [0.        ]\n",
            "  [0.        ]\n",
            "  [0.        ]\n",
            "  [0.        ]\n",
            "  [0.        ]\n",
            "  [0.        ]\n",
            "  [0.        ]\n",
            "  [0.        ]\n",
            "  [0.        ]\n",
            "  [0.        ]\n",
            "  [0.        ]\n",
            "  [0.        ]\n",
            "  [0.18039216]\n",
            "  [0.78431374]\n",
            "  [0.30588236]\n",
            "  [0.05098039]\n",
            "  [0.        ]\n",
            "  [0.        ]\n",
            "  [0.        ]\n",
            "  [0.        ]\n",
            "  [0.        ]\n",
            "  [0.        ]\n",
            "  [0.        ]\n",
            "  [0.        ]\n",
            "  [0.        ]]\n",
            "\n",
            " [[0.        ]\n",
            "  [0.        ]\n",
            "  [0.        ]\n",
            "  [0.        ]\n",
            "  [0.        ]\n",
            "  [0.        ]\n",
            "  [0.        ]\n",
            "  [0.        ]\n",
            "  [0.        ]\n",
            "  [0.        ]\n",
            "  [0.        ]\n",
            "  [0.        ]\n",
            "  [0.        ]\n",
            "  [0.        ]\n",
            "  [0.        ]\n",
            "  [0.        ]\n",
            "  [0.        ]\n",
            "  [0.        ]\n",
            "  [0.        ]\n",
            "  [0.        ]\n",
            "  [0.        ]\n",
            "  [0.        ]\n",
            "  [0.        ]\n",
            "  [0.        ]\n",
            "  [0.        ]\n",
            "  [0.        ]\n",
            "  [0.        ]\n",
            "  [0.        ]]\n",
            "\n",
            " [[0.        ]\n",
            "  [0.        ]\n",
            "  [0.        ]\n",
            "  [0.        ]\n",
            "  [0.        ]\n",
            "  [0.        ]\n",
            "  [0.        ]\n",
            "  [0.        ]\n",
            "  [0.        ]\n",
            "  [0.        ]\n",
            "  [0.        ]\n",
            "  [0.        ]\n",
            "  [0.        ]\n",
            "  [0.        ]\n",
            "  [0.        ]\n",
            "  [0.        ]\n",
            "  [0.        ]\n",
            "  [0.        ]\n",
            "  [0.        ]\n",
            "  [0.        ]\n",
            "  [0.        ]\n",
            "  [0.        ]\n",
            "  [0.        ]\n",
            "  [0.        ]\n",
            "  [0.        ]\n",
            "  [0.        ]\n",
            "  [0.        ]\n",
            "  [0.        ]]]\n"
          ]
        }
      ],
      "source": [
        "# Prendre le prochain element en consommant ses éléments en utilisant next :\n",
        "elem = next(ite)\n",
        "image = elem[0].numpy()\n",
        "label = elem[1].numpy()\n",
        "\n",
        "print(image.shape)\n",
        "print(label)\n",
        "print(image)\n"
      ]
    },
    {
      "cell_type": "markdown",
      "metadata": {
        "id": "n5xbtnD6G-ta"
      },
      "source": [
        "Affichez l'image avec le label correspondant dans le titre\n",
        "\n"
      ]
    },
    {
      "cell_type": "code",
      "execution_count": 8,
      "metadata": {
        "colab": {
          "base_uri": "https://localhost:8080/",
          "height": 437
        },
        "id": "6du3yTGnG-ta",
        "outputId": "94f8c2a7-bdff-47ab-8b6a-e1c5c8a7aba5"
      },
      "outputs": [
        {
          "output_type": "display_data",
          "data": {
            "text/plain": [
              "<Figure size 640x480 with 2 Axes>"
            ],
            "image/png": "[encoded data removed]"
          },
          "metadata": {}
        }
      ],
      "source": [
        "# ----------- Your code here --------------------->\n",
        "plt.imshow(image, cmap='gray')\n",
        "plt.title(f\"Label: {label}\")\n",
        "plt.axis('off')\n",
        "plt.colorbar()\n",
        "plt.show()\n",
        "# ------------------------------------------------>"
      ]
    },
    {
      "cell_type": "markdown",
      "metadata": {
        "id": "fsZLH2CRG-ta"
      },
      "source": [
        "## 3.3 - Prétraitement du dataset avec tf.data.Dataset API\n",
        "\n",
        "L'API `tf.data.Dataset` permet de définir assez simplement des chaînes de traitements efficaces efficient. Ainsi, le schéma classique est :\n",
        "- la création d'un dataset source à partir des données d'entrée (déjà fait ici);\n",
        "- la définition et l'application de transformations du datasets pour prétraiter les données;\n",
        "- l'itération sur le dataset et traiter tous les éléments (consume the dataset).\n",
        "\n",
        "L'itération fonctionne un peu comme un streaming, de telle manière que le dataset n'a pas besoin de tenir dans la mémoire de l'ordinateur ou dans celle du GPU.\n",
        "\n",
        "### 3.3.1 - Normaliser tous les éléments\n",
        "Pour cela, il suffit de créer une fonction `normalize_img` et d'utiliser la méthode `map` de l'objet `tf.data.Dataset`. La sortie représente un autre dataset dans lequel à chaque appel, à chaque itération sur l'objet la fonction `normalize_img` sera appliquée."
      ]
    },
    {
      "cell_type": "code",
      "execution_count": 9,
      "metadata": {
        "id": "8seqIzU7G-ta"
      },
      "outputs": [],
      "source": [
        "def normalize_img(image, label):\n",
        "  \"\"\"Normalizes images: `uint8` -> `float32`.\"\"\"\n",
        "  return tf.cast(image, tf.float32) / 255., label\n",
        "\n",
        "ds_train = ds_train.map(normalize_img)\n",
        "ds_test  = ds_test.map(normalize_img)\n"
      ]
    },
    {
      "cell_type": "markdown",
      "metadata": {
        "id": "fWyKj2m5G-tb"
      },
      "source": [
        "Ecrivez quelques commandes pour vérifier que la transformation a été faite."
      ]
    },
    {
      "cell_type": "code",
      "execution_count": 10,
      "metadata": {
        "colab": {
          "base_uri": "https://localhost:8080/",
          "height": 437
        },
        "id": "_-CrTA08G-tb",
        "outputId": "c1e32ee5-6b16-4dde-864c-71472f1222cd"
      },
      "outputs": [
        {
          "output_type": "display_data",
          "data": {
            "text/plain": [
              "<Figure size 640x480 with 2 Axes>"
            ],
            "image/png": "[encoded data removed]"
          },
          "metadata": {}
        }
      ],
      "source": [
        "# ----------- Your code here --------------------->\n",
        "ite = iter(ds_test)\n",
        "elem = next(ite)\n",
        "image = elem[0].numpy()\n",
        "label = elem[1].numpy()\n",
        "\n",
        "plt.imshow(image, cmap='gray')\n",
        "plt.title(f\"Label: {label}\")\n",
        "plt.axis('off')\n",
        "plt.colorbar()\n",
        "plt.show()\n",
        "# ------------------------------------------------>\n"
      ]
    },
    {
      "cell_type": "markdown",
      "metadata": {
        "id": "nABPg2SAG-tb"
      },
      "source": [
        "### 3.3.2 - Mélanger les éléments de la base de données\n",
        "Pour cela, il suffit d'utiliser la méthode `shuffle` de l'objet `tf.data.Dataset`. Il est utile de mélanger les exemples d'apprentissage pour que la méthode de recueil/tri des données n'influence pas l'apprentissage. A noter qu'il est inutile de le faire sur la base de test."
      ]
    },
    {
      "cell_type": "code",
      "execution_count": 11,
      "metadata": {
        "id": "WaK_DXAkG-tb"
      },
      "outputs": [],
      "source": [
        "ds_train = ds_train.shuffle(ds_info.splits['train'].num_examples)\n"
      ]
    },
    {
      "cell_type": "markdown",
      "metadata": {
        "id": "gGtKuSaVG-tb"
      },
      "source": [
        "### 3.3.3 - Mise en batch des données\n",
        "\n",
        "L'apprentissage des réseaux de neurones fonctionne par rétropropragation des gradients. Dans le cas des grandes bases de données, il est préférable de ne pas calculer les gradients sur toute la base de données d'apprentissage car le calcul pourrait être extrêment long et difficile à réaliser algorithmiquement. On préfère évaluer ce gradient sur une petite quantité de données mise en batch (de données). Le calcul des gradients est moins précis mais réalisé beaucoup plus souvent. Ce formalisme donne naissance à l'algorithme de descente de gradient stochastique (SGD). L'appel à la méthode `batch` de tensorflow fait cela.\n"
      ]
    },
    {
      "cell_type": "code",
      "execution_count": 12,
      "metadata": {
        "id": "Pu3BADI2G-tb"
      },
      "outputs": [],
      "source": [
        "batch_size = 100\n",
        "ds_train = ds_train.batch(batch_size, drop_remainder=True)  # drop_remainder=False epresenting whether the last batch should be dropped in the case it has fewer than batch_size elements; the default behavior is not to drop the smaller batch.\n",
        "ds_test = ds_test.batch(batch_size, drop_remainder=True) # drop_remainder=False epresenting whether the last batch should be dropped in the case it has fewer than batch_size elements; the default behavior is not to drop the smaller batch.\n"
      ]
    },
    {
      "cell_type": "markdown",
      "metadata": {
        "id": "VuZcTXv6G-tb"
      },
      "source": [
        "Ecrire quelques lignes de codes pour vérifier qu'on obtient bien un batch de taille `batch_size`"
      ]
    },
    {
      "cell_type": "code",
      "execution_count": 13,
      "metadata": {
        "id": "h5wFOQn7G-tc",
        "colab": {
          "base_uri": "https://localhost:8080/"
        },
        "outputId": "62221a1e-292f-4eae-8cea-a1323c474863"
      },
      "outputs": [
        {
          "output_type": "stream",
          "name": "stdout",
          "text": [
            "(100, 28, 28, 1)\n",
            "(100,)\n"
          ]
        }
      ],
      "source": [
        "elem = next(iter(ds_test))\n",
        "image = elem[0].numpy()\n",
        "label = elem[1].numpy()\n",
        "print(image.shape)\n",
        "print(label.shape)\n"
      ]
    },
    {
      "cell_type": "markdown",
      "metadata": {
        "id": "943eEg1FG-tc"
      },
      "source": [
        "La fonction `plot_images` permet l'affichage de 9 éléments de la base de données. Executez là en changeant l'appel pour coller avec vos variables."
      ]
    },
    {
      "cell_type": "code",
      "execution_count": 14,
      "metadata": {
        "id": "uFh8gMhlG-tc",
        "colab": {
          "base_uri": "https://localhost:8080/",
          "height": 426
        },
        "outputId": "54fab119-a3cc-474c-8f5e-bdbf181d7a7a"
      },
      "outputs": [
        {
          "output_type": "display_data",
          "data": {
            "text/plain": [
              "<Figure size 640x480 with 9 Axes>"
            ],
            "image/png": "[encoded data removed]"
          },
          "metadata": {}
        }
      ],
      "source": [
        "def plot_images(images, target_true, target_pred=None):\n",
        "    assert images.shape[0] == target_true.shape[0] == 9\n",
        "\n",
        "    # Create figure with 3x3 sub-plots.\n",
        "    fig, axes = plt.subplots(3, 3)\n",
        "    fig.subplots_adjust(hspace=0.3, wspace=0.3)\n",
        "\n",
        "    for i, ax in enumerate(axes.flat):\n",
        "        # Plot image.\n",
        "        ax.imshow(images[i, ..., 0], cmap='binary')\n",
        "\n",
        "        # Show true and predicted classes.\n",
        "        if target_pred is None:\n",
        "            xlabel = \"True: {0}\".format(target_true[i])\n",
        "        else:\n",
        "            xlabel = \"True: {0}, Pred: {1}\".format(target_true[i], target_pred[i])\n",
        "\n",
        "        # Show the classes as the label on the x-axis.\n",
        "        ax.set_xlabel(xlabel)\n",
        "\n",
        "        # Remove ticks from the plot.\n",
        "        ax.set_xticks([])\n",
        "        ax.set_yticks([])\n",
        "\n",
        "    # Ensure the plot is shown correctly with multiple plots\n",
        "    # in a single Notebook cell.\n",
        "    plt.show()\n",
        "\n",
        "# ----------- Your code here --------------------->\n",
        "\n",
        "plot_images(image[0:9,...], label[0:9])\n",
        "\n",
        "# ------------------------------------------------>\n"
      ]
    },
    {
      "cell_type": "markdown",
      "metadata": {
        "id": "5fsbbEpbG-tc"
      },
      "source": [
        "## 4 - Créer et analyser le modèle de réseau de neurones avec Keras\n",
        "\n",
        "La version 2 de Tensorflow intègre désormais Keras (`tf.keras`) facilitant notamment la création d'architecture pour les réseaux de neurones.\n",
        "\n",
        "\n",
        "### 4.1 Créer un réseau simple\n",
        "\n",
        "L'architecture d'un réseau de neurones est définie par un empilement de couches de neurones. Dans Keras, un grand nombre de couches est possible ([layers possibles dans tf.keras.layers](https://www.tensorflow.org/api_docs/python/tf/keras/layers/)). On les découvrira au fur et à mesure. Dans ce TP, nous allons nous restreindre aux réseaux de neurones qu'on appelle `Dense` ou `fully connected` c'est à dire que tous les neurones d'une couche sont connectés à tous les neurones de la couche suivante.\n",
        "\n",
        "Cette couche `Dense` implemente l'opération: output = activation(dot(input, kernel) + bias). Cette couche Dense est caractérisée ([lien vers Tensorflow](https://www.tensorflow.org/api_docs/python/tf/keras/layers/Dense)) notamment par:\n",
        " - un nombre de neurones de sortie;\n",
        " - le type d'activation appliqué à tous les neurones à la sortie;\n",
        " - Un aspect important est la méthode d'initialisation des poids et des biais (kernel_initializer, bias_initializer) qu'on explicitera plus tard (cf cours sur l'apprentissage des réseaux de neurones profonds)\n",
        " - vous noterez que par défaut il n'y a pas de régularisation.\n",
        "\n",
        "\n",
        "Comme les entrées ont une structure spatiale (ce sont des images), et que les couches denses ne traitent pas la structure spatiale (nous verrons la semaine prochaine comment on traite les structures spatiales; cf cours sur les CNN), il faut modifier les entrées par une couche appelée `Flatten` chargée de vectoriser les images.\n",
        "\n",
        "Ainsi, un modèle à une couche dense prenant en entrée des images de shape: img_shape est défini par la fonction `tf.keras.Sequential`. Vous trouverez [ici](https://www.tensorflow.org/api_docs/python/tf/keras/Sequential) les différentes méthodes associés avec le modèle créé.\n"
      ]
    },
    {
      "cell_type": "code",
      "execution_count": 25,
      "metadata": {
        "id": "U4Kz6UtYG-tc"
      },
      "outputs": [],
      "source": [
        "model = tf.keras.Sequential([\n",
        "    tf.keras.layers.Flatten(input_shape=img_shape),\n",
        "    tf.keras.layers.Dense(num_classes, activation=\"softmax\")\n",
        "])\n",
        "\n",
        "# deuxième solution équivalente\n",
        "# model = tf.keras.Sequential()\n",
        "# model.add(tf.keras.layers.Flatten(input_shape=img_shape))\n",
        "# model.add(tf.keras.layers.Dense(num_classes, activation=\"softmax\"))\n"
      ]
    },
    {
      "cell_type": "markdown",
      "metadata": {
        "id": "SsKw7bysG-tc"
      },
      "source": [
        "### 4.2 Evaluer les performances d'un modèle\n",
        "\n",
        "Au cours de l'apprentissage, il est important d'évaluer les performances. La boucle d'évaluation suivante permet de faire cela pour l'accuracy. Vous noterez l'utilisation de la boucle sur les données de la base de test et des fonctions `tf.equal` et de `tf.reduce_mean`. Notez également comment appliquer le modèle à un batch d'images (tenseurs).\n",
        "\n",
        "Quelques questions auxquelles vous devez répondre pour comprendre ce code:\n",
        "- Combien d'itérations sont réalisées par la boucle for?\n",
        "- Quelle est la dimension de target_pred_ohe? Pourquoi? Quel est le nom de ce codage?\n",
        "- Comment est calculée l'accuracy?\n"
      ]
    },
    {
      "cell_type": "code",
      "execution_count": 27,
      "metadata": {
        "id": "mw-GYRBCG-tc",
        "colab": {
          "base_uri": "https://localhost:8080/"
        },
        "outputId": "bc2b92b2-0b3a-41fe-d4af-f17bf169f7c4"
      },
      "outputs": [
        {
          "output_type": "stream",
          "name": "stdout",
          "text": [
            "model accuracy: 0.08049999922513962\n"
          ]
        }
      ],
      "source": [
        "# Evaluation des performances du modèle:\n",
        "#  1- appliquer le modèle pour obtenir les prédictions sur un batch d'images\n",
        "#  2- évaluer les performances en calculant l'accuracy\n",
        "#  3- recommencer en épuisant les batchs de données de tests (for loop)\n",
        "\n",
        "def eval_loop():\n",
        "\n",
        "    cor_pred = []\n",
        "    accuracy_tot = []\n",
        "    for i_batch, (img, target_label) in enumerate(ds_test):\n",
        "\n",
        "        # appliquer le modèle (logits = tf.matmul(img, weights) + biases) à un batch d'image\n",
        "        target_pred_ohe = model(img, training=False)\n",
        "        # autre possibilité: target_pred_ohe = model.predict(img)\n",
        "\n",
        "        # Déterminer la classe prédite\n",
        "        target_pred = tf.argmax(target_pred_ohe, axis=1)\n",
        "\n",
        "        # performance measures\n",
        "        correct_prediction = tf.equal(target_pred, target_label)\n",
        "        accuracy = tf.reduce_mean(tf.cast(correct_prediction, tf.float32))\n",
        "\n",
        "        cor_pred.append(correct_prediction)\n",
        "        accuracy_tot.append(accuracy.numpy())\n",
        "\n",
        "    print('model accuracy: {}'.format(np.mean(accuracy_tot)))\n",
        "\n",
        "#\n",
        "eval_loop()\n"
      ]
    },
    {
      "cell_type": "markdown",
      "metadata": {
        "id": "RnYO0RKkG-td"
      },
      "source": [
        "### 4.3 Visualiser les poids du réseau\n",
        "\n",
        "En supplément de la performance, les poids du modèle peuvent également être représentés.\n",
        "Cette représentation donne des informations sur ce qui a été appris par la machine.\n",
        "La fonction `plot_weights` permet de faire cela."
      ]
    },
    {
      "cell_type": "code",
      "execution_count": 34,
      "metadata": {
        "id": "oTUGVGI_G-td",
        "colab": {
          "base_uri": "https://localhost:8080/",
          "height": 424
        },
        "outputId": "85f7a5fd-c7d0-45cc-e827-48c5f1b0b15b"
      },
      "outputs": [
        {
          "output_type": "display_data",
          "data": {
            "text/plain": [
              "<Figure size 640x480 with 12 Axes>"
            ],
            "image/png": "[encoded data removed]"
          },
          "metadata": {}
        }
      ],
      "source": [
        "def plot_weights(weights, img_shape):\n",
        "\n",
        "        # Get the lowest and highest values for the weights.\n",
        "        # This is used to correct the colour intensity across\n",
        "        # the images so they can be compared with each other.\n",
        "        w_min = np.min(weights)\n",
        "        w_max = np.max(weights)\n",
        "\n",
        "        # Create figure with 3x4 sub-plots,\n",
        "        # where the last 2 sub-plots are unused.\n",
        "        fig, axes = plt.subplots(3, 4)\n",
        "        fig.subplots_adjust(hspace=0.3, wspace=0.3)\n",
        "\n",
        "        for i, ax in enumerate(axes.flat):\n",
        "            # Only use the weights for the first 10 sub-plots.\n",
        "            if i < 10:\n",
        "                # Get the weights for the i'th digit and reshape it.\n",
        "                # Note that w.shape == (img_size_flat, 10)\n",
        "                image = weights[:, i].reshape(img_shape)\n",
        "\n",
        "                # Set the label for the sub-plot.\n",
        "                ax.set_xlabel(\"Weights: {0}\".format(i))\n",
        "\n",
        "                # Plot the image.\n",
        "                ax.imshow(image, vmin=w_min, vmax=w_max, cmap='seismic')\n",
        "\n",
        "            # Remove ticks from each sub-plot.\n",
        "            ax.set_xticks([])\n",
        "            ax.set_yticks([])\n",
        "\n",
        "        # Ensure the plot is shown correctly with multiple plots\n",
        "        # in a single Notebook cell.\n",
        "        plt.show()\n",
        "\n",
        "\n",
        "\n",
        "\n",
        "# ----------- Your code here --------------------->\n",
        "# Get the values for the weights from the TensorFlow variable (méthode get_weights).\n",
        "\n",
        "weights = model.get_weights()[0]\n",
        "\n",
        "# ------------------------------------------------>\n",
        "\n",
        "# visualisation des poids\n",
        "plot_weights(weights, img_shape[0:2])\n",
        "\n"
      ]
    },
    {
      "cell_type": "markdown",
      "metadata": {
        "id": "XcpSFF6nG-td"
      },
      "source": [
        "Les poids positifs sont rouges et les poids négatifs sont bleus. Ces poids peuvent être intuitivement compris comme des filtres d'images. On verra plus tard l'évolution de ces poids le long de l'apprentissage.\n"
      ]
    },
    {
      "cell_type": "markdown",
      "metadata": {
        "id": "txUn6Pa4G-tm"
      },
      "source": [
        "## 5 - Définir la fonction de coût à optimiser\n",
        "\n",
        "Pour que le modèle puisse mieux classer les images en entrée, nous devons d'une manière ou d'une autre modifier les variables pour les poids et les biais. Pour ce faire, il faut définir une fonction de coût mesurant l'adéquation entre la sortie prédite du modèle et à la sortie souhaitée.\n",
        "\n",
        "L'entropie croisée est la fonction classiquement utilisée dans la classification pour actualiser les poids. L'objectif de l'optimisation est donc de minimiser l'entropie croisée afin qu'elle soit aussi proche de zéro que possible en modifiant les poids et les biais du modèle. TensorFlow dispose d'une fonction intégrée pour calculer l'entropie croisée. Notez qu'elle utilise les valeurs des logits car il calcule également la softmax en interne.\n",
        "Vous pouvez vous reporter [ici](https://www.tensorflow.org/api_docs/python/tf/keras/losses) pour voir les différentes fonctions de coût déjà implémentées dans Tensorflow.\n",
        "\n",
        "Notre modèle calculera le coût à l'aide de la fonction `tf.keras.losses.SparseCategoricalCrossentropy` qui prend les prédictions de probabilité de classe du modèle et l'étiquette souhaitée (codée en entier), et renvoie la perte moyenne à travers les exemples. La fonction calculant les gradients est aussi donnée.\n",
        "\n",
        "A noter qu'il existe la fonction `tf.keras.losses.CategoricalCrossentropy` qui réalise exactement le même calcul mais à partir de l'étiquette codée en `one-hot`.\n",
        "\n"
      ]
    },
    {
      "cell_type": "code",
      "execution_count": 35,
      "metadata": {
        "id": "_WioXmcOG-tm",
        "colab": {
          "base_uri": "https://localhost:8080/"
        },
        "outputId": "41810d94-b239-4692-a1ea-ce775e263437"
      },
      "outputs": [
        {
          "output_type": "stream",
          "name": "stdout",
          "text": [
            "Loss test: 2.4707822799682617\n"
          ]
        }
      ],
      "source": [
        "loss_fcn = tf.keras.losses.SparseCategoricalCrossentropy(from_logits=False)\n",
        "\n",
        "def loss(model, x, y, training):\n",
        "    # training=training is needed only if there are layers with different behavior during training versus inference (e.g. Dropout).\n",
        "    y_ = model(x, training=training)\n",
        "\n",
        "    return loss_fcn(y_true=y, y_pred=y_)\n",
        "\n",
        "l = loss(model, image, label, training=False)\n",
        "print(\"Loss test: {}\".format(l))\n",
        "\n",
        "\n",
        " # Utilisez le contexte tf.GradientTape pour calculer les gradients utilisés pour optimiser votre modèle:\n",
        "\n",
        "def grad(model, inputs, targets):\n",
        "\n",
        "    with tf.GradientTape() as tape:\n",
        "        loss_value = loss(model, inputs, targets, training=True)\n",
        "\n",
        "    return loss_value, tape.gradient(loss_value, model.trainable_variables)\n",
        "\n",
        "\n",
        "\n"
      ]
    },
    {
      "cell_type": "markdown",
      "metadata": {
        "id": "T45iq9ZlG-tn"
      },
      "source": [
        "## 6 - Définir la méthode d'optimisation\n",
        "\n",
        "Maintenant, il s'agit de définir un optimiseur qui va trouver le minimum de la fonction. Nous connaissons maintenant la descente de gradient stochastique qu'il s'agit de définir avec son `learning rate`.\n",
        "\n",
        "Notez que l'optimisation n'est pas faite à ce stade. En fait, on définit juste la fonction.\n",
        "Notez également les différents [choix possibles](https://www.tensorflow.org/api_docs/python/tf/keras/optimizers) qui seront un peu plus détailler plus tard.\n",
        "\n"
      ]
    },
    {
      "cell_type": "code",
      "execution_count": 36,
      "metadata": {
        "id": "0VQFMHn7G-tn"
      },
      "outputs": [],
      "source": [
        "optimizer_fcn = tf.keras.optimizers.SGD(learning_rate=1.0)\n",
        "\n",
        "def optimize(features, target_labels):\n",
        "\n",
        "    # Compute the loss and the gradient\n",
        "    loss_value, grads = grad(model, features, target_labels)\n",
        "\n",
        "    # mise à jour des paramètres\n",
        "    optimizer_fcn.apply_gradients(zip(grads, model.trainable_variables))\n",
        "\n",
        "    return grads\n"
      ]
    },
    {
      "cell_type": "markdown",
      "metadata": {
        "id": "hZdAc5ikG-tn"
      },
      "source": [
        "Pour tester cette fonction, nous allons grâce à ce qui a été mis en place auparavant:\n",
        "- optimiser une fois\n",
        "- évaluer le nouveau coût (la commande est donnée)\n",
        "- évaluer les performances\n",
        "- visualiser les nouveaux poids"
      ]
    },
    {
      "cell_type": "code",
      "execution_count": 44,
      "metadata": {
        "id": "3IzndJyHG-tn",
        "colab": {
          "base_uri": "https://localhost:8080/",
          "height": 460
        },
        "outputId": "f9e62e3d-42c6-45ae-b2a0-44a3739aba5e"
      },
      "outputs": [
        {
          "output_type": "stream",
          "name": "stdout",
          "text": [
            "Step: 4,         Loss: 4.256643772125244\n",
            "model accuracy: 0.46209999918937683\n"
          ]
        },
        {
          "output_type": "display_data",
          "data": {
            "text/plain": [
              "<Figure size 640x480 with 12 Axes>"
            ],
            "image/png": "[encoded data removed]"
          },
          "metadata": {}
        }
      ],
      "source": [
        "# ----------- Your code here --------------------->\n",
        "# Get a batch of (images, labels) from the training set use next et itet commands)\n",
        "(img_batch, label_batch) = next(iter(ds_train))\n",
        "\n",
        "# Call the optimize function\n",
        "grads = optimize(img_batch, label_batch)\n",
        "\n",
        "# Evaluate the loss for each step\n",
        "print(\"Step: {},         Loss: {}\".format(optimizer_fcn.iterations.numpy(), loss(model, img_batch, label_batch, training=True).numpy()))\n",
        "\n",
        "# Evaluate the accuracy\n",
        "eval_loop()\n",
        "\n",
        "# Visualize the weights of the model\n",
        "weights = model.get_weights()[0]\n",
        "plot_weights(weights, img_shape[0:2])\n",
        "\n",
        "# ------------------------------------------------>\n"
      ]
    },
    {
      "cell_type": "markdown",
      "metadata": {
        "id": "gYRf6TVGG-tn"
      },
      "source": [
        "## 7 - Définir la boucle d'apprentissage\n",
        "\n",
        "### 7.1 - Définir la boucle d'apprentissage avec Tensorflow\n",
        "\n",
        "Une fois qu'on a défini tous les éléments, la boucle d'apprentissage est très simple.\n",
        "Elle prend en entrée le nombre d'epochs `num_epochs`."
      ]
    },
    {
      "cell_type": "code",
      "execution_count": 45,
      "metadata": {
        "id": "NN7NgyBwG-tn"
      },
      "outputs": [],
      "source": [
        "def train_loop(num_epochs):\n",
        "    for epoch in range(0, num_epochs, 1):\n",
        "\n",
        "        # Get a batch of training examples.\n",
        "        # img_batch now holds a batch of images and\n",
        "        # label_batch are the true labels for those images.\n",
        "        (img_batch, label_batch) = next(iter(ds_train))\n",
        "\n",
        "        # optimize\n",
        "        optimize(img_batch, label_batch)\n",
        "\n",
        "        print(\"Step: {},         Loss: {}\".format(optimizer_fcn.iterations.numpy(), loss(model, img_batch, label_batch, training=True).numpy()))\n",
        "\n"
      ]
    },
    {
      "cell_type": "markdown",
      "metadata": {
        "id": "_MIjyGF8G-tn"
      },
      "source": [
        "Faites tourner cette fonction pour une epoch et analyser les résultats comme auparavant:\n",
        "- évaluer le nouveau coût (la commande est donnée)\n",
        "- évaluer les performances\n",
        "- visualiser les nouveaux poids\n"
      ]
    },
    {
      "cell_type": "code",
      "execution_count": 46,
      "metadata": {
        "id": "EzJ37FrIG-to",
        "colab": {
          "base_uri": "https://localhost:8080/",
          "height": 460
        },
        "outputId": "f2881643-114c-4a82-d3d4-b5279204296c"
      },
      "outputs": [
        {
          "output_type": "stream",
          "name": "stdout",
          "text": [
            "Step: 5,         Loss: 3.768256902694702\n",
            "model accuracy: 0.4677000045776367\n"
          ]
        },
        {
          "output_type": "display_data",
          "data": {
            "text/plain": [
              "<Figure size 640x480 with 12 Axes>"
            ],
            "image/png": "[encoded data removed]"
          },
          "metadata": {}
        }
      ],
      "source": [
        "num_epochs = 1\n",
        "\n",
        "\n",
        "# ----------- Your code here --------------------->\n",
        "\n",
        "# Call the train loop function\n",
        "train_loop(num_epochs)\n",
        "\n",
        "# Evaluate the accuracy\n",
        "eval_loop()\n",
        "\n",
        "# Visualize the weights of the model\n",
        "weights = model.get_weights()[0]\n",
        "plot_weights(weights, img_shape[0:2])\n",
        "\n",
        "# ------------------------------------------------>\n"
      ]
    },
    {
      "cell_type": "markdown",
      "metadata": {
        "id": "0fedofmoG-to"
      },
      "source": [
        "Refaites tourner cette fonction pour 10 epoch et analyser les résultats comme auparavant:\n",
        "- évaluer le nouveau coût (la commande est donnée)\n",
        "- évaluer les performances\n",
        "- visualiser les nouveaux poids\n"
      ]
    },
    {
      "cell_type": "code",
      "execution_count": 47,
      "metadata": {
        "id": "vuQnShziG-to",
        "colab": {
          "base_uri": "https://localhost:8080/",
          "height": 620
        },
        "outputId": "68d9eec9-a598-45b8-d1d7-7f393f0be1cb"
      },
      "outputs": [
        {
          "output_type": "stream",
          "name": "stdout",
          "text": [
            "Step: 6,         Loss: 2.7815332412719727\n",
            "Step: 7,         Loss: 1.6576526165008545\n",
            "Step: 8,         Loss: 2.163205623626709\n",
            "Step: 9,         Loss: 2.5099587440490723\n",
            "Step: 10,         Loss: 1.9085471630096436\n",
            "Step: 11,         Loss: 0.8015267252922058\n",
            "Step: 12,         Loss: 0.5979529023170471\n",
            "Step: 13,         Loss: 0.3265587091445923\n",
            "Step: 14,         Loss: 0.5227189064025879\n",
            "Step: 15,         Loss: 0.4902021884918213\n",
            "model accuracy: 0.7999999523162842\n"
          ]
        },
        {
          "output_type": "display_data",
          "data": {
            "text/plain": [
              "<Figure size 640x480 with 12 Axes>"
            ],
            "image/png": "[encoded data removed]"
          },
          "metadata": {}
        }
      ],
      "source": [
        "num_epochs = 10\n",
        "\n",
        "\n",
        "# ----------- Your code here --------------------->\n",
        "\n",
        "# Call the train loop function\n",
        "train_loop(num_epochs)\n",
        "\n",
        "# Evaluate the accuracy\n",
        "eval_loop()\n",
        "\n",
        "# Visualize the weights of the model\n",
        "weights = model.get_weights()[0]\n",
        "plot_weights(weights, img_shape[0:2])\n",
        "# ------------------------------------------------>\n"
      ]
    },
    {
      "cell_type": "markdown",
      "metadata": {
        "id": "YT7jc7G8G-to"
      },
      "source": [
        "### 7.2 - Keras offre la possibilité de simplifier la démarche\n",
        "\n",
        "En fait, l'API Keras facilite le code en intégrant une bonne partie de toutes ces étapes. Après avoir défini, l'architecture du modèle avec `Sequential`. Vous devrez le compiler avec la méthode `compile` en choisissant la fonction de coût, l'optimiseur et la métrique de performance.\n"
      ]
    },
    {
      "cell_type": "code",
      "execution_count": 48,
      "metadata": {
        "id": "unpD3IIhG-to"
      },
      "outputs": [],
      "source": [
        "model.compile(\n",
        "              loss=loss_fcn,\n",
        "              optimizer=optimizer_fcn,\n",
        "              metrics=[tf.keras.metrics.sparse_categorical_accuracy]\n",
        "             )\n"
      ]
    },
    {
      "cell_type": "markdown",
      "metadata": {
        "id": "dvsKi_FVG-to"
      },
      "source": [
        "L'apprentissage sur un nombre d'epochs se fera par un simple appel à la méthode `.fit`.\n",
        "Elle permet de définir un ensemble de validation sur lequel on vient estimer les performances de généralisation."
      ]
    },
    {
      "cell_type": "code",
      "execution_count": 49,
      "metadata": {
        "id": "jt5Io5pWG-tp",
        "colab": {
          "base_uri": "https://localhost:8080/",
          "height": 1000
        },
        "outputId": "b790f331-c20a-4010-a3cb-e8c3c734a026"
      },
      "outputs": [
        {
          "output_type": "stream",
          "name": "stdout",
          "text": [
            "Epoch 1/100\n",
            "600/600 [==============================] - 4s 3ms/step - loss: 0.3743 - sparse_categorical_accuracy: 0.8900 - val_loss: 0.3202 - val_sparse_categorical_accuracy: 0.9073\n",
            "Epoch 2/100\n",
            "600/600 [==============================] - 4s 3ms/step - loss: 0.3116 - sparse_categorical_accuracy: 0.9114 - val_loss: 0.2883 - val_sparse_categorical_accuracy: 0.9192\n",
            "Epoch 3/100\n",
            "600/600 [==============================] - 5s 4ms/step - loss: 0.3009 - sparse_categorical_accuracy: 0.9149 - val_loss: 0.2973 - val_sparse_categorical_accuracy: 0.9150\n",
            "Epoch 4/100\n",
            "600/600 [==============================] - 6s 5ms/step - loss: 0.2947 - sparse_categorical_accuracy: 0.9175 - val_loss: 0.2927 - val_sparse_categorical_accuracy: 0.9179\n",
            "Epoch 5/100\n",
            "600/600 [==============================] - 5s 5ms/step - loss: 0.2920 - sparse_categorical_accuracy: 0.9172 - val_loss: 0.2869 - val_sparse_categorical_accuracy: 0.9198\n",
            "Epoch 6/100\n",
            "600/600 [==============================] - 5s 3ms/step - loss: 0.2864 - sparse_categorical_accuracy: 0.9193 - val_loss: 0.2944 - val_sparse_categorical_accuracy: 0.9188\n",
            "Epoch 7/100\n",
            "600/600 [==============================] - 4s 3ms/step - loss: 0.2835 - sparse_categorical_accuracy: 0.9208 - val_loss: 0.2767 - val_sparse_categorical_accuracy: 0.9240\n",
            "Epoch 8/100\n",
            "600/600 [==============================] - 4s 3ms/step - loss: 0.2817 - sparse_categorical_accuracy: 0.9211 - val_loss: 0.2972 - val_sparse_categorical_accuracy: 0.9185\n",
            "Epoch 9/100\n",
            "600/600 [==============================] - 5s 4ms/step - loss: 0.2804 - sparse_categorical_accuracy: 0.9207 - val_loss: 0.2952 - val_sparse_categorical_accuracy: 0.9186\n",
            "Epoch 10/100\n",
            "600/600 [==============================] - 4s 3ms/step - loss: 0.2796 - sparse_categorical_accuracy: 0.9222 - val_loss: 0.2838 - val_sparse_categorical_accuracy: 0.9204\n",
            "Epoch 11/100\n",
            "600/600 [==============================] - 4s 3ms/step - loss: 0.2764 - sparse_categorical_accuracy: 0.9230 - val_loss: 0.2789 - val_sparse_categorical_accuracy: 0.9251\n",
            "Epoch 12/100\n",
            "600/600 [==============================] - 6s 6ms/step - loss: 0.2728 - sparse_categorical_accuracy: 0.9234 - val_loss: 0.2830 - val_sparse_categorical_accuracy: 0.9238\n",
            "Epoch 13/100\n",
            "600/600 [==============================] - 4s 3ms/step - loss: 0.2716 - sparse_categorical_accuracy: 0.9233 - val_loss: 0.3209 - val_sparse_categorical_accuracy: 0.9116\n",
            "Epoch 14/100\n",
            "600/600 [==============================] - 4s 3ms/step - loss: 0.2735 - sparse_categorical_accuracy: 0.9224 - val_loss: 0.2877 - val_sparse_categorical_accuracy: 0.9207\n",
            "Epoch 15/100\n",
            "600/600 [==============================] - 5s 5ms/step - loss: 0.2710 - sparse_categorical_accuracy: 0.9237 - val_loss: 0.2911 - val_sparse_categorical_accuracy: 0.9199\n",
            "Epoch 16/100\n",
            "600/600 [==============================] - 4s 3ms/step - loss: 0.2709 - sparse_categorical_accuracy: 0.9241 - val_loss: 0.2972 - val_sparse_categorical_accuracy: 0.9157\n",
            "Epoch 17/100\n",
            "600/600 [==============================] - 4s 3ms/step - loss: 0.2693 - sparse_categorical_accuracy: 0.9248 - val_loss: 0.3256 - val_sparse_categorical_accuracy: 0.9119\n",
            "Epoch 18/100\n",
            "600/600 [==============================] - 6s 6ms/step - loss: 0.2675 - sparse_categorical_accuracy: 0.9247 - val_loss: 0.2873 - val_sparse_categorical_accuracy: 0.9204\n",
            "Epoch 19/100\n",
            "600/600 [==============================] - 5s 4ms/step - loss: 0.2684 - sparse_categorical_accuracy: 0.9239 - val_loss: 0.2943 - val_sparse_categorical_accuracy: 0.9209\n",
            "Epoch 20/100\n",
            "600/600 [==============================] - 4s 3ms/step - loss: 0.2687 - sparse_categorical_accuracy: 0.9253 - val_loss: 0.2929 - val_sparse_categorical_accuracy: 0.9184\n",
            "Epoch 21/100\n",
            "600/600 [==============================] - 4s 3ms/step - loss: 0.2671 - sparse_categorical_accuracy: 0.9241 - val_loss: 0.3045 - val_sparse_categorical_accuracy: 0.9175\n",
            "Epoch 22/100\n",
            "600/600 [==============================] - 6s 6ms/step - loss: 0.2684 - sparse_categorical_accuracy: 0.9246 - val_loss: 0.2973 - val_sparse_categorical_accuracy: 0.9176\n",
            "Epoch 23/100\n",
            "600/600 [==============================] - 5s 5ms/step - loss: 0.2648 - sparse_categorical_accuracy: 0.9258 - val_loss: 0.2889 - val_sparse_categorical_accuracy: 0.9227\n",
            "Epoch 24/100\n",
            "600/600 [==============================] - 6s 6ms/step - loss: 0.2656 - sparse_categorical_accuracy: 0.9254 - val_loss: 0.2869 - val_sparse_categorical_accuracy: 0.9249\n",
            "Epoch 25/100\n"
          ]
        },
        {
          "output_type": "error",
          "ename": "KeyboardInterrupt",
          "evalue": "ignored",
          "traceback": [
            "\u001b[0;31m---------------------------------------------------------------------------\u001b[0m",
            "\u001b[0;31mKeyboardInterrupt\u001b[0m                         Traceback (most recent call last)",
            "\u001b[0;32m<ipython-input-49-6ae72c3bfdca>\u001b[0m in \u001b[0;36m<cell line: 2>\u001b[0;34m()\u001b[0m\n\u001b[1;32m      1\u001b[0m \u001b[0mnum_epochs\u001b[0m \u001b[0;34m=\u001b[0m \u001b[0;36m100\u001b[0m\u001b[0;34m\u001b[0m\u001b[0;34m\u001b[0m\u001b[0m\n\u001b[0;32m----> 2\u001b[0;31m \u001b[0mhistory\u001b[0m \u001b[0;34m=\u001b[0m \u001b[0mmodel\u001b[0m\u001b[0;34m.\u001b[0m\u001b[0mfit\u001b[0m\u001b[0;34m(\u001b[0m\u001b[0mds_train\u001b[0m\u001b[0;34m,\u001b[0m \u001b[0mepochs\u001b[0m\u001b[0;34m=\u001b[0m\u001b[0mnum_epochs\u001b[0m\u001b[0;34m,\u001b[0m \u001b[0mvalidation_data\u001b[0m\u001b[0;34m=\u001b[0m\u001b[0mds_test\u001b[0m\u001b[0;34m)\u001b[0m\u001b[0;34m\u001b[0m\u001b[0;34m\u001b[0m\u001b[0m\n\u001b[0m",
            "\u001b[0;32m/usr/local/lib/python3.10/dist-packages/keras/src/utils/traceback_utils.py\u001b[0m in \u001b[0;36merror_handler\u001b[0;34m(*args, **kwargs)\u001b[0m\n\u001b[1;32m     63\u001b[0m         \u001b[0mfiltered_tb\u001b[0m \u001b[0;34m=\u001b[0m \u001b[0;32mNone\u001b[0m\u001b[0;34m\u001b[0m\u001b[0;34m\u001b[0m\u001b[0m\n\u001b[1;32m     64\u001b[0m         \u001b[0;32mtry\u001b[0m\u001b[0;34m:\u001b[0m\u001b[0;34m\u001b[0m\u001b[0;34m\u001b[0m\u001b[0m\n\u001b[0;32m---> 65\u001b[0;31m             \u001b[0;32mreturn\u001b[0m \u001b[0mfn\u001b[0m\u001b[0;34m(\u001b[0m\u001b[0;34m*\u001b[0m\u001b[0margs\u001b[0m\u001b[0;34m,\u001b[0m \u001b[0;34m**\u001b[0m\u001b[0mkwargs\u001b[0m\u001b[0;34m)\u001b[0m\u001b[0;34m\u001b[0m\u001b[0;34m\u001b[0m\u001b[0m\n\u001b[0m\u001b[1;32m     66\u001b[0m         \u001b[0;32mexcept\u001b[0m \u001b[0mException\u001b[0m \u001b[0;32mas\u001b[0m \u001b[0me\u001b[0m\u001b[0;34m:\u001b[0m\u001b[0;34m\u001b[0m\u001b[0;34m\u001b[0m\u001b[0m\n\u001b[1;32m     67\u001b[0m             \u001b[0mfiltered_tb\u001b[0m \u001b[0;34m=\u001b[0m \u001b[0m_process_traceback_frames\u001b[0m\u001b[0;34m(\u001b[0m\u001b[0me\u001b[0m\u001b[0;34m.\u001b[0m\u001b[0m__traceback__\u001b[0m\u001b[0;34m)\u001b[0m\u001b[0;34m\u001b[0m\u001b[0;34m\u001b[0m\u001b[0m\n",
            "\u001b[0;32m/usr/local/lib/python3.10/dist-packages/keras/src/engine/training.py\u001b[0m in \u001b[0;36mfit\u001b[0;34m(self, x, y, batch_size, epochs, verbose, callbacks, validation_split, validation_data, shuffle, class_weight, sample_weight, initial_epoch, steps_per_epoch, validation_steps, validation_batch_size, validation_freq, max_queue_size, workers, use_multiprocessing)\u001b[0m\n\u001b[1;32m   1781\u001b[0m                         ):\n\u001b[1;32m   1782\u001b[0m                             \u001b[0mcallbacks\u001b[0m\u001b[0;34m.\u001b[0m\u001b[0mon_train_batch_begin\u001b[0m\u001b[0;34m(\u001b[0m\u001b[0mstep\u001b[0m\u001b[0;34m)\u001b[0m\u001b[0;34m\u001b[0m\u001b[0;34m\u001b[0m\u001b[0m\n\u001b[0;32m-> 1783\u001b[0;31m                             \u001b[0mtmp_logs\u001b[0m \u001b[0;34m=\u001b[0m \u001b[0mself\u001b[0m\u001b[0;34m.\u001b[0m\u001b[0mtrain_function\u001b[0m\u001b[0;34m(\u001b[0m\u001b[0miterator\u001b[0m\u001b[0;34m)\u001b[0m\u001b[0;34m\u001b[0m\u001b[0;34m\u001b[0m\u001b[0m\n\u001b[0m\u001b[1;32m   1784\u001b[0m                             \u001b[0;32mif\u001b[0m \u001b[0mdata_handler\u001b[0m\u001b[0;34m.\u001b[0m\u001b[0mshould_sync\u001b[0m\u001b[0;34m:\u001b[0m\u001b[0;34m\u001b[0m\u001b[0;34m\u001b[0m\u001b[0m\n\u001b[1;32m   1785\u001b[0m                                 \u001b[0mcontext\u001b[0m\u001b[0;34m.\u001b[0m\u001b[0masync_wait\u001b[0m\u001b[0;34m(\u001b[0m\u001b[0;34m)\u001b[0m\u001b[0;34m\u001b[0m\u001b[0;34m\u001b[0m\u001b[0m\n",
            "\u001b[0;32m/usr/local/lib/python3.10/dist-packages/tensorflow/python/util/traceback_utils.py\u001b[0m in \u001b[0;36merror_handler\u001b[0;34m(*args, **kwargs)\u001b[0m\n\u001b[1;32m    148\u001b[0m     \u001b[0mfiltered_tb\u001b[0m \u001b[0;34m=\u001b[0m \u001b[0;32mNone\u001b[0m\u001b[0;34m\u001b[0m\u001b[0;34m\u001b[0m\u001b[0m\n\u001b[1;32m    149\u001b[0m     \u001b[0;32mtry\u001b[0m\u001b[0;34m:\u001b[0m\u001b[0;34m\u001b[0m\u001b[0;34m\u001b[0m\u001b[0m\n\u001b[0;32m--> 150\u001b[0;31m       \u001b[0;32mreturn\u001b[0m \u001b[0mfn\u001b[0m\u001b[0;34m(\u001b[0m\u001b[0;34m*\u001b[0m\u001b[0margs\u001b[0m\u001b[0;34m,\u001b[0m \u001b[0;34m**\u001b[0m\u001b[0mkwargs\u001b[0m\u001b[0;34m)\u001b[0m\u001b[0;34m\u001b[0m\u001b[0;34m\u001b[0m\u001b[0m\n\u001b[0m\u001b[1;32m    151\u001b[0m     \u001b[0;32mexcept\u001b[0m \u001b[0mException\u001b[0m \u001b[0;32mas\u001b[0m \u001b[0me\u001b[0m\u001b[0;34m:\u001b[0m\u001b[0;34m\u001b[0m\u001b[0;34m\u001b[0m\u001b[0m\n\u001b[1;32m    152\u001b[0m       \u001b[0mfiltered_tb\u001b[0m \u001b[0;34m=\u001b[0m \u001b[0m_process_traceback_frames\u001b[0m\u001b[0;34m(\u001b[0m\u001b[0me\u001b[0m\u001b[0;34m.\u001b[0m\u001b[0m__traceback__\u001b[0m\u001b[0;34m)\u001b[0m\u001b[0;34m\u001b[0m\u001b[0;34m\u001b[0m\u001b[0m\n",
            "\u001b[0;32m/usr/local/lib/python3.10/dist-packages/tensorflow/python/eager/polymorphic_function/polymorphic_function.py\u001b[0m in \u001b[0;36m__call__\u001b[0;34m(self, *args, **kwds)\u001b[0m\n\u001b[1;32m    829\u001b[0m \u001b[0;34m\u001b[0m\u001b[0m\n\u001b[1;32m    830\u001b[0m       \u001b[0;32mwith\u001b[0m \u001b[0mOptionalXlaContext\u001b[0m\u001b[0;34m(\u001b[0m\u001b[0mself\u001b[0m\u001b[0;34m.\u001b[0m\u001b[0m_jit_compile\u001b[0m\u001b[0;34m)\u001b[0m\u001b[0;34m:\u001b[0m\u001b[0;34m\u001b[0m\u001b[0;34m\u001b[0m\u001b[0m\n\u001b[0;32m--> 831\u001b[0;31m         \u001b[0mresult\u001b[0m \u001b[0;34m=\u001b[0m \u001b[0mself\u001b[0m\u001b[0;34m.\u001b[0m\u001b[0m_call\u001b[0m\u001b[0;34m(\u001b[0m\u001b[0;34m*\u001b[0m\u001b[0margs\u001b[0m\u001b[0;34m,\u001b[0m \u001b[0;34m**\u001b[0m\u001b[0mkwds\u001b[0m\u001b[0;34m)\u001b[0m\u001b[0;34m\u001b[0m\u001b[0;34m\u001b[0m\u001b[0m\n\u001b[0m\u001b[1;32m    832\u001b[0m \u001b[0;34m\u001b[0m\u001b[0m\n\u001b[1;32m    833\u001b[0m       \u001b[0mnew_tracing_count\u001b[0m \u001b[0;34m=\u001b[0m \u001b[0mself\u001b[0m\u001b[0;34m.\u001b[0m\u001b[0mexperimental_get_tracing_count\u001b[0m\u001b[0;34m(\u001b[0m\u001b[0;34m)\u001b[0m\u001b[0;34m\u001b[0m\u001b[0;34m\u001b[0m\u001b[0m\n",
            "\u001b[0;32m/usr/local/lib/python3.10/dist-packages/tensorflow/python/eager/polymorphic_function/polymorphic_function.py\u001b[0m in \u001b[0;36m_call\u001b[0;34m(self, *args, **kwds)\u001b[0m\n\u001b[1;32m    865\u001b[0m       \u001b[0;31m# In this case we have created variables on the first call, so we run the\u001b[0m\u001b[0;34m\u001b[0m\u001b[0;34m\u001b[0m\u001b[0m\n\u001b[1;32m    866\u001b[0m       \u001b[0;31m# defunned version which is guaranteed to never create variables.\u001b[0m\u001b[0;34m\u001b[0m\u001b[0;34m\u001b[0m\u001b[0m\n\u001b[0;32m--> 867\u001b[0;31m       return tracing_compilation.call_function(\n\u001b[0m\u001b[1;32m    868\u001b[0m           \u001b[0margs\u001b[0m\u001b[0;34m,\u001b[0m \u001b[0mkwds\u001b[0m\u001b[0;34m,\u001b[0m \u001b[0mself\u001b[0m\u001b[0;34m.\u001b[0m\u001b[0m_no_variable_creation_config\u001b[0m\u001b[0;34m\u001b[0m\u001b[0;34m\u001b[0m\u001b[0m\n\u001b[1;32m    869\u001b[0m       )\n",
            "\u001b[0;32m/usr/local/lib/python3.10/dist-packages/tensorflow/python/eager/polymorphic_function/tracing_compilation.py\u001b[0m in \u001b[0;36mcall_function\u001b[0;34m(args, kwargs, tracing_options)\u001b[0m\n\u001b[1;32m    137\u001b[0m   \u001b[0mbound_args\u001b[0m \u001b[0;34m=\u001b[0m \u001b[0mfunction\u001b[0m\u001b[0;34m.\u001b[0m\u001b[0mfunction_type\u001b[0m\u001b[0;34m.\u001b[0m\u001b[0mbind\u001b[0m\u001b[0;34m(\u001b[0m\u001b[0;34m*\u001b[0m\u001b[0margs\u001b[0m\u001b[0;34m,\u001b[0m \u001b[0;34m**\u001b[0m\u001b[0mkwargs\u001b[0m\u001b[0;34m)\u001b[0m\u001b[0;34m\u001b[0m\u001b[0;34m\u001b[0m\u001b[0m\n\u001b[1;32m    138\u001b[0m   \u001b[0mflat_inputs\u001b[0m \u001b[0;34m=\u001b[0m \u001b[0mfunction\u001b[0m\u001b[0;34m.\u001b[0m\u001b[0mfunction_type\u001b[0m\u001b[0;34m.\u001b[0m\u001b[0munpack_inputs\u001b[0m\u001b[0;34m(\u001b[0m\u001b[0mbound_args\u001b[0m\u001b[0;34m)\u001b[0m\u001b[0;34m\u001b[0m\u001b[0;34m\u001b[0m\u001b[0m\n\u001b[0;32m--> 139\u001b[0;31m   return function._call_flat(  # pylint: disable=protected-access\n\u001b[0m\u001b[1;32m    140\u001b[0m       \u001b[0mflat_inputs\u001b[0m\u001b[0;34m,\u001b[0m \u001b[0mcaptured_inputs\u001b[0m\u001b[0;34m=\u001b[0m\u001b[0mfunction\u001b[0m\u001b[0;34m.\u001b[0m\u001b[0mcaptured_inputs\u001b[0m\u001b[0;34m\u001b[0m\u001b[0;34m\u001b[0m\u001b[0m\n\u001b[1;32m    141\u001b[0m   )\n",
            "\u001b[0;32m/usr/local/lib/python3.10/dist-packages/tensorflow/python/eager/polymorphic_function/concrete_function.py\u001b[0m in \u001b[0;36m_call_flat\u001b[0;34m(self, tensor_inputs, captured_inputs)\u001b[0m\n\u001b[1;32m   1262\u001b[0m         and executing_eagerly):\n\u001b[1;32m   1263\u001b[0m       \u001b[0;31m# No tape is watching; skip to running the function.\u001b[0m\u001b[0;34m\u001b[0m\u001b[0;34m\u001b[0m\u001b[0m\n\u001b[0;32m-> 1264\u001b[0;31m       \u001b[0;32mreturn\u001b[0m \u001b[0mself\u001b[0m\u001b[0;34m.\u001b[0m\u001b[0m_inference_function\u001b[0m\u001b[0;34m.\u001b[0m\u001b[0mflat_call\u001b[0m\u001b[0;34m(\u001b[0m\u001b[0margs\u001b[0m\u001b[0;34m)\u001b[0m\u001b[0;34m\u001b[0m\u001b[0;34m\u001b[0m\u001b[0m\n\u001b[0m\u001b[1;32m   1265\u001b[0m     forward_backward = self._select_forward_and_backward_functions(\n\u001b[1;32m   1266\u001b[0m         \u001b[0margs\u001b[0m\u001b[0;34m,\u001b[0m\u001b[0;34m\u001b[0m\u001b[0;34m\u001b[0m\u001b[0m\n",
            "\u001b[0;32m/usr/local/lib/python3.10/dist-packages/tensorflow/python/eager/polymorphic_function/atomic_function.py\u001b[0m in \u001b[0;36mflat_call\u001b[0;34m(self, args)\u001b[0m\n\u001b[1;32m    215\u001b[0m   \u001b[0;32mdef\u001b[0m \u001b[0mflat_call\u001b[0m\u001b[0;34m(\u001b[0m\u001b[0mself\u001b[0m\u001b[0;34m,\u001b[0m \u001b[0margs\u001b[0m\u001b[0;34m:\u001b[0m \u001b[0mSequence\u001b[0m\u001b[0;34m[\u001b[0m\u001b[0mcore\u001b[0m\u001b[0;34m.\u001b[0m\u001b[0mTensor\u001b[0m\u001b[0;34m]\u001b[0m\u001b[0;34m)\u001b[0m \u001b[0;34m->\u001b[0m \u001b[0mAny\u001b[0m\u001b[0;34m:\u001b[0m\u001b[0;34m\u001b[0m\u001b[0;34m\u001b[0m\u001b[0m\n\u001b[1;32m    216\u001b[0m     \u001b[0;34m\"\"\"Calls with tensor inputs and returns the structured output.\"\"\"\u001b[0m\u001b[0;34m\u001b[0m\u001b[0;34m\u001b[0m\u001b[0m\n\u001b[0;32m--> 217\u001b[0;31m     \u001b[0mflat_outputs\u001b[0m \u001b[0;34m=\u001b[0m \u001b[0mself\u001b[0m\u001b[0;34m(\u001b[0m\u001b[0;34m*\u001b[0m\u001b[0margs\u001b[0m\u001b[0;34m)\u001b[0m\u001b[0;34m\u001b[0m\u001b[0;34m\u001b[0m\u001b[0m\n\u001b[0m\u001b[1;32m    218\u001b[0m     \u001b[0;32mreturn\u001b[0m \u001b[0mself\u001b[0m\u001b[0;34m.\u001b[0m\u001b[0mfunction_type\u001b[0m\u001b[0;34m.\u001b[0m\u001b[0mpack_output\u001b[0m\u001b[0;34m(\u001b[0m\u001b[0mflat_outputs\u001b[0m\u001b[0;34m)\u001b[0m\u001b[0;34m\u001b[0m\u001b[0;34m\u001b[0m\u001b[0m\n\u001b[1;32m    219\u001b[0m \u001b[0;34m\u001b[0m\u001b[0m\n",
            "\u001b[0;32m/usr/local/lib/python3.10/dist-packages/tensorflow/python/eager/polymorphic_function/atomic_function.py\u001b[0m in \u001b[0;36m__call__\u001b[0;34m(self, *args)\u001b[0m\n\u001b[1;32m    250\u001b[0m         \u001b[0;32mwith\u001b[0m \u001b[0mrecord\u001b[0m\u001b[0;34m.\u001b[0m\u001b[0mstop_recording\u001b[0m\u001b[0;34m(\u001b[0m\u001b[0;34m)\u001b[0m\u001b[0;34m:\u001b[0m\u001b[0;34m\u001b[0m\u001b[0;34m\u001b[0m\u001b[0m\n\u001b[1;32m    251\u001b[0m           \u001b[0;32mif\u001b[0m \u001b[0mself\u001b[0m\u001b[0;34m.\u001b[0m\u001b[0m_bound_context\u001b[0m\u001b[0;34m.\u001b[0m\u001b[0mexecuting_eagerly\u001b[0m\u001b[0;34m(\u001b[0m\u001b[0;34m)\u001b[0m\u001b[0;34m:\u001b[0m\u001b[0;34m\u001b[0m\u001b[0;34m\u001b[0m\u001b[0m\n\u001b[0;32m--> 252\u001b[0;31m             outputs = self._bound_context.call_function(\n\u001b[0m\u001b[1;32m    253\u001b[0m                 \u001b[0mself\u001b[0m\u001b[0;34m.\u001b[0m\u001b[0mname\u001b[0m\u001b[0;34m,\u001b[0m\u001b[0;34m\u001b[0m\u001b[0;34m\u001b[0m\u001b[0m\n\u001b[1;32m    254\u001b[0m                 \u001b[0mlist\u001b[0m\u001b[0;34m(\u001b[0m\u001b[0margs\u001b[0m\u001b[0;34m)\u001b[0m\u001b[0;34m,\u001b[0m\u001b[0;34m\u001b[0m\u001b[0;34m\u001b[0m\u001b[0m\n",
            "\u001b[0;32m/usr/local/lib/python3.10/dist-packages/tensorflow/python/eager/context.py\u001b[0m in \u001b[0;36mcall_function\u001b[0;34m(self, name, tensor_inputs, num_outputs)\u001b[0m\n\u001b[1;32m   1477\u001b[0m     \u001b[0mcancellation_context\u001b[0m \u001b[0;34m=\u001b[0m \u001b[0mcancellation\u001b[0m\u001b[0;34m.\u001b[0m\u001b[0mcontext\u001b[0m\u001b[0;34m(\u001b[0m\u001b[0;34m)\u001b[0m\u001b[0;34m\u001b[0m\u001b[0;34m\u001b[0m\u001b[0m\n\u001b[1;32m   1478\u001b[0m     \u001b[0;32mif\u001b[0m \u001b[0mcancellation_context\u001b[0m \u001b[0;32mis\u001b[0m \u001b[0;32mNone\u001b[0m\u001b[0;34m:\u001b[0m\u001b[0;34m\u001b[0m\u001b[0;34m\u001b[0m\u001b[0m\n\u001b[0;32m-> 1479\u001b[0;31m       outputs = execute.execute(\n\u001b[0m\u001b[1;32m   1480\u001b[0m           \u001b[0mname\u001b[0m\u001b[0;34m.\u001b[0m\u001b[0mdecode\u001b[0m\u001b[0;34m(\u001b[0m\u001b[0;34m\"utf-8\"\u001b[0m\u001b[0;34m)\u001b[0m\u001b[0;34m,\u001b[0m\u001b[0;34m\u001b[0m\u001b[0;34m\u001b[0m\u001b[0m\n\u001b[1;32m   1481\u001b[0m           \u001b[0mnum_outputs\u001b[0m\u001b[0;34m=\u001b[0m\u001b[0mnum_outputs\u001b[0m\u001b[0;34m,\u001b[0m\u001b[0;34m\u001b[0m\u001b[0;34m\u001b[0m\u001b[0m\n",
            "\u001b[0;32m/usr/local/lib/python3.10/dist-packages/tensorflow/python/eager/execute.py\u001b[0m in \u001b[0;36mquick_execute\u001b[0;34m(op_name, num_outputs, inputs, attrs, ctx, name)\u001b[0m\n\u001b[1;32m     58\u001b[0m         \u001b[0;32mfor\u001b[0m \u001b[0mt\u001b[0m \u001b[0;32min\u001b[0m \u001b[0minputs\u001b[0m\u001b[0;34m\u001b[0m\u001b[0;34m\u001b[0m\u001b[0m\n\u001b[1;32m     59\u001b[0m     ]\n\u001b[0;32m---> 60\u001b[0;31m     tensors = pywrap_tfe.TFE_Py_Execute(ctx._handle, device_name, op_name,\n\u001b[0m\u001b[1;32m     61\u001b[0m                                         inputs, attrs, num_outputs)\n\u001b[1;32m     62\u001b[0m   \u001b[0;32mexcept\u001b[0m \u001b[0mcore\u001b[0m\u001b[0;34m.\u001b[0m\u001b[0m_NotOkStatusException\u001b[0m \u001b[0;32mas\u001b[0m \u001b[0me\u001b[0m\u001b[0;34m:\u001b[0m\u001b[0;34m\u001b[0m\u001b[0;34m\u001b[0m\u001b[0m\n",
            "\u001b[0;31mKeyboardInterrupt\u001b[0m: "
          ]
        }
      ],
      "source": [
        "num_epochs = 100\n",
        "history = model.fit(ds_train, epochs=num_epochs, validation_data=ds_test)"
      ]
    },
    {
      "cell_type": "markdown",
      "metadata": {
        "id": "aUjRaYhdG-tp"
      },
      "source": [
        "Le modèle peut alors être sauver dans un fichier (selon deux formats) et éventuellement recharger par la suite."
      ]
    },
    {
      "cell_type": "code",
      "execution_count": null,
      "metadata": {
        "id": "mfKdGWmkG-tp",
        "scrolled": true
      },
      "outputs": [],
      "source": [
        "# Saving and Restoring the model\n",
        "# architecture and weights\n",
        "model.save(\"my_keras_model.h5\")\n",
        "model = keras.models.load_model(\"my_keras_model.h5\")\n",
        "\n",
        "# weights only\n",
        "model.save_weights(\"my_keras_weights.ckpt\")\n",
        "model.load_weights(\"my_keras_weights.ckpt\")\n",
        "\n"
      ]
    },
    {
      "cell_type": "markdown",
      "metadata": {
        "id": "V7IgUbfWG-tp"
      },
      "source": [
        "Une fois le modèle appris, la méthode `predict` permet de le prédire sur toutes les données de `ds_test`."
      ]
    },
    {
      "cell_type": "code",
      "execution_count": null,
      "metadata": {
        "id": "i0YBFEqIG-tp"
      },
      "outputs": [],
      "source": [
        "target_pred = model.predict(ds_test) # noter que la méthode target_pred = model(ds_test) ne marche pas\n",
        "\n",
        "target_label_pred = tf.argmax(target_pred, axis=1).numpy()\n",
        "print(target_label_pred.shape)"
      ]
    },
    {
      "cell_type": "markdown",
      "metadata": {
        "id": "tqks3-nGG-tp"
      },
      "source": [
        "## 8 - Analyser les résultats\n",
        "Une fois le modèle appris, il s'agit de recenser tous les résultats en affichant (et en les commentant!!!!):\n",
        " - les learning curves;\n",
        " - les métriques de performance;\n",
        " - les poids et les gradients;\n",
        " - les erreurs de classification.\n",
        "\n",
        "### 8.1 learning curves and accuracies\n",
        "\n",
        "Deux possibilités existent pour les métriques de performance:\n",
        "- soit la méthode `evaluate` de Keras\n",
        "- soit la fonction `eval_loop()`"
      ]
    },
    {
      "cell_type": "code",
      "execution_count": null,
      "metadata": {
        "id": "WySsgLFtG-tq"
      },
      "outputs": [],
      "source": [
        "# learning curves\n",
        "pd.DataFrame(history.history).plot(figsize=(8, 5))\n",
        "plt.grid(True)\n",
        "plt.gca().set_ylim(0, 2)  # set the vertical range to [0-1]\n",
        "plt.show()\n",
        "\n",
        "# métriques de performance:\n",
        "result = model.evaluate(ds_test)\n",
        "print(dict(zip(model.metrics_names, result)))\n",
        "\n",
        "\n",
        "\n"
      ]
    },
    {
      "cell_type": "markdown",
      "metadata": {
        "id": "JQVEftoCG-tq"
      },
      "source": [
        "**Question:** Commenter ces métriques de performances?"
      ]
    },
    {
      "cell_type": "markdown",
      "metadata": {
        "id": "MmwA1f-PG-tq"
      },
      "source": [
        "## 8.2 - Examiner les poids et les gradients"
      ]
    },
    {
      "cell_type": "code",
      "execution_count": null,
      "metadata": {
        "id": "B8E-CBkGG-tq"
      },
      "outputs": [],
      "source": [
        "# Visualize the weights of the model\n",
        "weights = model.get_weights()\n",
        "weights = weights[0]\n",
        "plot_weights(weights, img_shape[0:2])\n"
      ]
    },
    {
      "cell_type": "markdown",
      "metadata": {
        "id": "1Ud29afoG-tq"
      },
      "source": [
        "Les poids positifs sont en rouge et en bleu pour les négatifs. Par exemple, les poids utilisés pour déterminer si une image montre un chiffre zéro ont une réaction positive (rouge) à une image d'un cercle, et ont une réaction négative (bleu) aux images dont le contenu se trouve au centre du cercle.\n",
        "\n",
        "De même, les pondérations utilisées pour déterminer si une image montre un chiffre 1 réagissent positivement (rouge) à une ligne verticale au centre de l'image, et réagissent négativement (bleu) aux images dont le contenu se trouve autour de cette ligne.\n",
        "\n",
        "Notez que les poids ressemblent surtout aux chiffres qu'ils sont censés reconnaître après quelques itérations. Après un entraînement sur plusieurs milliers d'images, les poids deviennent plus difficiles à interpréter car ils doivent reconnaître de nombreuses variations de la façon dont les chiffres peuvent être écrits."
      ]
    },
    {
      "cell_type": "markdown",
      "metadata": {
        "id": "KSOH03UCG-tq"
      },
      "source": [
        "### 8.3 - Afficher les erreurs de classification\n"
      ]
    },
    {
      "cell_type": "code",
      "execution_count": null,
      "metadata": {
        "id": "bQ7rubUJG-tq"
      },
      "outputs": [],
      "source": [
        "target_pred = model.predict(ds_test)\n",
        "target_label_pred = tf.argmax(target_pred, axis=1).numpy()\n"
      ]
    },
    {
      "cell_type": "markdown",
      "metadata": {
        "id": "Esp145MEG-tq"
      },
      "source": [
        "**Plotting example errors**"
      ]
    },
    {
      "cell_type": "code",
      "execution_count": null,
      "metadata": {
        "id": "0GhZJh8xG-tq"
      },
      "outputs": [],
      "source": [
        "tmp = [target_label_actual for (img, target_label_actual) in ds_test]\n",
        "\n",
        "target_label_actual = []\n",
        "[ target_label_actual.extend(el.numpy()) for el in tmp]\n",
        "target_label_actual = np.array(target_label_actual)\n",
        "\n",
        "tmp = [img for (img, target_label_actual) in ds_test]\n",
        "imgs = []\n",
        "[ imgs.extend(el.numpy()) for el in tmp]\n",
        "imgs = np.array(imgs)\n",
        "\n",
        "uncorrect = np.where(target_label_pred != target_label_actual)[0]\n",
        "uncorrect = uncorrect[0:9] # juste pour le display\n",
        "plot_images(imgs[uncorrect,:,:,:], target_label_actual[uncorrect], target_pred=target_label_pred[uncorrect])\n"
      ]
    }
  ],
  "metadata": {
    "colab": {
      "provenance": [],
      "include_colab_link": true
    },
    "kernelspec": {
      "display_name": "Python 3",
      "language": "python",
      "name": "python3"
    },
    "language_info": {
      "codemirror_mode": {
        "name": "ipython",
        "version": 3
      },
      "file_extension": ".py",
      "mimetype": "text/x-python",
      "name": "python",
      "nbconvert_exporter": "python",
      "pygments_lexer": "ipython3",
      "version": "3.10.10"
    }
  },
  "nbformat": 4,
  "nbformat_minor": 0
}