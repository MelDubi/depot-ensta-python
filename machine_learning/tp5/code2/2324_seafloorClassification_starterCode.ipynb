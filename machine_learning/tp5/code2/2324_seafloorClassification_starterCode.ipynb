{
 "cells": [
  {
   "cell_type": "markdown",
   "metadata": {},
   "source": [
    "# <center> Machine Learning Programming Exercise 5:</center> \n",
    "# <center> <ins>Supervised classification </ins></center> \n",
    "\n",
    "| <font size=6,font color='red'>Monôme / binôme</font> | <font size=6,font color='red'>Noms</font> | <font size=6,font color='red'>Prénoms</font>   |\n",
    "|:-------------:     |:-----------   |:------  |\n",
    "| monôme/binôme 1  | <span style=\"color:red\">Remplacer ici</span> | <span style=\"color:red\">et ici</span>     |\n",
    "| binôme 2         | <span style=\"color:red\">Remplacer ici</span> | <span style=\"color:red\">et ici</span>     | \n"
   ]
  },
  {
   "cell_type": "markdown",
   "metadata": {
    "id": "SZiULAOAv6AZ"
   },
   "source": [
    "## 1. Objectifs\n",
    "\n",
    "\n",
    "Nous allons dans ce TP classer automatiquement des patchs extraits d'images sonar (cf. figure ci-dessous) en types de fond marin (roches, sables, vases, rides de sable verticales et à 45°, [Posidonie](https://fr.wikipedia.org/wiki/Posidonia_oceanica)).\n",
    "\n",
    "Quelques exemples de patchs d'image sonar de fond marin:\n",
    "\n",
    "<img src=\"https://drive.google.com/uc?export=view&id=1cS7gN2XAYBMmcmyhUjmtQRDlL44_wERM\" style=\"width:600px;height:400px ;\" />\n",
    "\n",
    "L'objectif est d'écrire un ou plusieurs scripts permettant de mettre en oeuvre un système basé sur différentes approches supervisées de machine learning. Ces scripts devront ainsi suivre la chaîne générale décrite en cours (à l'exception de la phase de captation; cf. figure ci-dessous ) :\n",
    "* prétraitements\n",
    "* extraction des descripteurs\n",
    "* apprentissage d'un modèle de classement\n",
    "* classement des patchs\n",
    "* évaluation du classifieur appris\n",
    "* comparaison et analyse des performances de différents classifieurs\n",
    "\n",
    "<img src=\"https://drive.google.com/uc?export=view&id=1yz-HuFs3zn7Q_AwXflOqdFFjyEAocf1s\" />\n",
    "\n",
    "Le TP est globalement organisé de la manière suivante:\n",
    "\n",
    "**Données**\n",
    "\n",
    "Il s'agira d'entraîner les classifieurs à partir de descripteurs extraits grâce à un algorithme performant d'analyse de textures appelé [scattering operator](https://www.di.ens.fr/data/scattering) (le fonctionnement exact n'est pas au programme mais il s'apparente à des bancs de filtres (succession de filtres) ; à chaque niveau un ou plusieurs descripteurs sont calculés). \n",
    " \n",
    "**Prétraitements**\n",
    "\n",
    "Aucun autre prétraitement ne sera réalisé. \n",
    "\n",
    "**Ensembles de données**\n",
    "\n",
    "Les deux ensembles de données (apprentissage et test) seront composés de 2/3 et 1/3 de la base totale d'images. \n",
    "\n",
    "**Algorithmes** \n",
    "\n",
    "Concernant les algorithmes supervisés de machine learning, l'objectif est de découvrir le package python [scikit-learn](http://scikit-learn.org/stable/user_guide.html) qui vous permettra d'utiliser les algorithmes de [régression logistique](https://scikit-learn.org/stable/modules/linear_model.html#logistic-regression), [réseaux de neurones](https://scikit-learn.org/stable/modules/neural_networks_supervised.html), [random forests](https://scikit-learn.org/stable/modules/ensemble.html#forest) et [svm](https://scikit-learn.org/stable/modules/svm.html#svm-classification).\n",
    "\n",
    "\n",
    "**Travail demandé**\n",
    "\n",
    "<span style=\"color:red\">**Dans cet exercice, il vous est demandé de fournir un seul rapport regroupant les réponses aux questions, vos analyses et vos codes. Ce rapport pourra prendre la forme d'un jupyter notebook ou d'un pdf. Il est de plus conseillé de faire tourner les codes sur [google colab](https://colab.research.google.com/?hl=fr) si votre machine manque de puissance (dans ce cas un jupyter notebook est nécessaire). Il est également conseillé de répondre aux questions par des phrases pour obtenir la totalité des points**.</span>\n",
    "\n",
    "\n",
    "\n",
    "## Fichiers inclus dans le starter code pour cette séance\n",
    "* **seafloorClassification_data.npz** - fichier contenant les données nécessaires\n",
    "\n"
   ]
  },
  {
   "cell_type": "markdown",
   "metadata": {
    "id": "8-Y6TWZBv6Ab"
   },
   "source": [
    "# 2. Découverte de la base de patchs"
   ]
  },
  {
   "cell_type": "markdown",
   "metadata": {
    "id": "wsF0iPYhv6Ae"
   },
   "source": [
    "## 2.1 Imports des packages python\n"
   ]
  },
  {
   "cell_type": "code",
   "execution_count": null,
   "metadata": {
    "colab": {
     "base_uri": "https://localhost:8080/",
     "height": 52
    },
    "id": "vQhXCVuAv6Ag",
    "outputId": "e52b044d-8b30-4414-9a24-3a1bab9807f0"
   },
   "outputs": [],
   "source": [
    "# on supprime les warnings pénibles de scikit-learn\n",
    "def warn(*args, **kwargs):\n",
    "    pass\n",
    "import warnings\n",
    "warnings.warn = warn\n",
    "\n",
    "# numpy\n",
    "import numpy as np\n",
    "\n",
    "# links with google drive and colab\n",
    "import sys\n",
    "IN_COLAB = 'google.colab' in sys.modules\n",
    "\n",
    "if IN_COLAB:\n",
    "  from google.colab import drive\n",
    "  drive.mount('/content/gdrive')\t\n",
    "  import sys\n",
    "  code_folder = '/content/gdrive/My Drive/Colab Notebooks/ex06_supervised_seabedClassification/'\n",
    "  sys.path.append(code_folder)\n",
    "  # !ls \"/content/gdrive/My Drive/Colab Notebooks/ex06_supervised_seabedClassification\"\n",
    "  %cd \"$code_folder\"\n",
    "  !ls \"$code_folder\"\n",
    "   "
   ]
  },
  {
   "cell_type": "markdown",
   "metadata": {},
   "source": [
    "## 2.2 Chargement et examen des données\n",
    "\n",
    "**Utiliser les lignes de code suivantes permettant de charger les données comprises dans le fichier __seafloorClassification_data.npz__**"
   ]
  },
  {
   "cell_type": "code",
   "execution_count": null,
   "metadata": {},
   "outputs": [],
   "source": [
    "# ---------------------------------------------------------------------------------------------------------------\n",
    "# LOAD Data, Features, Labels\n",
    "# ---------------------------------------------------------------------------------------------------------------\n",
    "\n",
    "tmp = np.load('seafloorClassification_data.npz',allow_pickle=True)\n",
    "\n",
    "image_values = tmp['image_values'] # images sonar\n",
    "label_names = tmp['label_names'] # types de fond marin\n",
    "feature_values = tmp['feature_values'] # features extraits avec le scaterring operator\n",
    "instance_nb = tmp['instance_nb'] # nb d'images sonar\n",
    "feature_nb = tmp['feature_nb'] # nb de features\n"
   ]
  },
  {
   "cell_type": "markdown",
   "metadata": {},
   "source": [
    "##### **<ins>Question 2.2.1:</ins> Ecrire du code permettant d'afficher quelques patchs (comme la première image de ce notebook, chaque patch a une taille de 200x200)**"
   ]
  },
  {
   "cell_type": "markdown",
   "metadata": {
    "id": "H9vExjoNv6Af"
   },
   "source": [
    "**_Your commented code below_**"
   ]
  },
  {
   "cell_type": "code",
   "execution_count": null,
   "metadata": {},
   "outputs": [],
   "source": [
    "# ----------- Your code here --------------------->\n",
    "\n",
    "\n",
    "\n",
    "# ------------------------------------------------>"
   ]
  },
  {
   "cell_type": "markdown",
   "metadata": {},
   "source": [
    "**<ins>Question 2.2.2: </ins> Ecrire du code permettant de donner quelques statistiques de chaque descripteur extrait des images grâce au scattering operator.**"
   ]
  },
  {
   "cell_type": "markdown",
   "metadata": {
    "id": "H9vExjoNv6Af"
   },
   "source": [
    "**_Your commented code below_**"
   ]
  },
  {
   "cell_type": "code",
   "execution_count": null,
   "metadata": {},
   "outputs": [],
   "source": [
    "# ----------- Your code here --------------------->\n",
    "\n",
    "\n",
    "\n",
    "# ------------------------------------------------>"
   ]
  },
  {
   "cell_type": "markdown",
   "metadata": {
    "id": "jbI5IPb4v6Az"
   },
   "source": [
    "**<ins>Question 2.2.3: commentez ces statistiques</ins>** "
   ]
  },
  {
   "cell_type": "markdown",
   "metadata": {
    "id": "fZ2JIo5Jv6A0"
   },
   "source": [
    "**_Double cliquez ici pour écrire votre réponse ici!_**\n"
   ]
  },
  {
   "cell_type": "markdown",
   "metadata": {
    "jp-MarkdownHeadingCollapsed": true
   },
   "source": [
    "## 3. Traitements"
   ]
  },
  {
   "cell_type": "markdown",
   "metadata": {
    "id": "0tu9u9Oqv6A8"
   },
   "source": [
    "## 3.1 Normalisation des descripteurs \n",
    "\n",
    "**<ins>Question 3.1.1:</ins> Écrire des lignes de code permettant de [centrer et réduire](https://scikit-learn.org/stable/modules/preprocessing.html) les données si besoin. Proposez et mettez en oeuvre un procédé pour vérifier cette normalisation.**\n"
   ]
  },
  {
   "cell_type": "markdown",
   "metadata": {
    "id": "g1p9-v4cv6A9"
   },
   "source": [
    "**_Your commented code below_**"
   ]
  },
  {
   "cell_type": "code",
   "execution_count": null,
   "metadata": {},
   "outputs": [],
   "source": [
    "# ----------- Your code here --------------------->\n",
    "\n",
    "\n",
    "# ------------------------------------------------>"
   ]
  },
  {
   "cell_type": "markdown",
   "metadata": {
    "id": "fZ2JIo5Jv6A0"
   },
   "source": [
    "**<ins>Question 3.1.2</ins>: Pourquoi doit-on faire cette normalisation?**"
   ]
  },
  {
   "cell_type": "markdown",
   "metadata": {
    "id": "fZ2JIo5Jv6A0"
   },
   "source": [
    "**_Double cliquez ici pour écrire votre réponse ici!_**\n"
   ]
  },
  {
   "cell_type": "markdown",
   "metadata": {
    "id": "0tu9u9Oqv6A8"
   },
   "source": [
    "## 3.2 Séparation des données en ensembles \n",
    "\n",
    "**<ins>Question 3.2.1:</ins> Écrire des lignes de code permettant de [créer deux ensembles](https://scikit-learn.org/stable/modules/generated/sklearn.model_selection.train_test_split.html#sklearn.model_selection.train_test_split): un pour l'apprentissage et un pour le test en proportions 2/3-1/3.**\n"
   ]
  },
  {
   "cell_type": "markdown",
   "metadata": {
    "id": "g1p9-v4cv6A9"
   },
   "source": [
    "**_Your commented code below_**"
   ]
  },
  {
   "cell_type": "code",
   "execution_count": null,
   "metadata": {
    "colab": {
     "base_uri": "https://localhost:8080/",
     "height": 364
    },
    "id": "xjAfwumev6A-",
    "outputId": "2337cfe2-b29f-4769-d502-7ef858fc7505"
   },
   "outputs": [],
   "source": [
    "# ----------- Your code here --------------------->\n",
    "\n",
    "\n",
    "# ------------------------------------------------>"
   ]
  },
  {
   "cell_type": "markdown",
   "metadata": {},
   "source": [
    "**<ins>Question 3.2.2:</ins> Pourquoi doit-on faire cela?**"
   ]
  },
  {
   "cell_type": "markdown",
   "metadata": {},
   "source": [
    "**_Double cliquez ici pour écrire votre réponse ici!_**\n",
    "\n"
   ]
  },
  {
   "cell_type": "markdown",
   "metadata": {
    "id": "jCk7ykINv6A1"
   },
   "source": [
    "### 3.3 Gestion des labels\n",
    "\n",
    "**<ins>Question 3.2.3:</ins> Écrire des lignes de code permettant de disposer des labels pour chaque ensemble de données dans différents [codages](https://scikit-learn.org/stable/modules/preprocessing_targets.html) (noms vers indices, indices vers [one-hot-encoding](https://scikit-learn.org/stable/modules/preprocessing.html#encoding-categorical-features), noms vers one-hot-encoding).**\n"
   ]
  },
  {
   "cell_type": "markdown",
   "metadata": {
    "id": "-1GzYnP5v6A3"
   },
   "source": [
    "**_Your commented code below_**"
   ]
  },
  {
   "cell_type": "code",
   "execution_count": null,
   "metadata": {
    "colab": {
     "base_uri": "https://localhost:8080/",
     "height": 34
    },
    "id": "CW41N-eHv6A3",
    "outputId": "19c1a8ec-d25b-4525-d245-c3b35983b52b"
   },
   "outputs": [],
   "source": [
    "# ----------- Your code here --------------------->\n",
    "\n",
    "\n",
    "# ------------------------------------------------>"
   ]
  },
  {
   "cell_type": "markdown",
   "metadata": {
    "id": "pcDIy1Nmv6BD"
   },
   "source": [
    "**<ins>Question 3.2.4:</ins> Etudiez la répartition du nombre de données (d'images) pour chaque <ins>type de fonds marins et pour chaque ensemble de données</ins>. Est-ce important? Pourquoi?**"
   ]
  },
  {
   "cell_type": "markdown",
   "metadata": {
    "id": "g1p9-v4cv6A9"
   },
   "source": [
    "**_Your commented code below_**\n"
   ]
  },
  {
   "cell_type": "code",
   "execution_count": null,
   "metadata": {},
   "outputs": [],
   "source": [
    "# ----------- Your code here --------------------->\n",
    "\n",
    "\n",
    "# ------------------------------------------------>"
   ]
  },
  {
   "cell_type": "markdown",
   "metadata": {
    "id": "8nCFuRy2v6BE"
   },
   "source": [
    "**_Double cliquez ici pour écrire votre réponse ici!_**\n"
   ]
  },
  {
   "cell_type": "markdown",
   "metadata": {
    "id": "b6nioyvrv6BE",
    "jp-MarkdownHeadingCollapsed": true
   },
   "source": [
    "## 4. Approche supervisée à partir des descripteurs du scattering operator"
   ]
  },
  {
   "cell_type": "markdown",
   "metadata": {
    "id": "b6nioyvrv6BE"
   },
   "source": [
    "## 4.1 Apprentissage des classifieurs\n"
   ]
  },
  {
   "cell_type": "markdown",
   "metadata": {
    "id": "b6nioyvrv6BE"
   },
   "source": [
    "**<ins>Question 4.1.1:</ins> Faire la liste expliquée des hyper-paramètres (paramètre uniquement lié à l'algorithme d'apprentissage) les plus importants des algorithmes: [régression logistique](https://scikit-learn.org/stable/modules/linear_model.html#logistic-regression), [réseaux de neurones](https://scikit-learn.org/stable/modules/neural_networks_supervised.html), [random forests](https://scikit-learn.org/stable/modules/ensemble.html#forest) et [svm](https://scikit-learn.org/stable/modules/svm.html#svm-classification).Vous vous concentrerez sur les hyperparamètres que nous avons rencontré précédemment (cours et TPs).**"
   ]
  },
  {
   "cell_type": "markdown",
   "metadata": {
    "id": "8nCFuRy2v6BE"
   },
   "source": [
    "**_Double cliquez ici pour écrire votre réponse ici!_**\n",
    "\n"
   ]
  },
  {
   "cell_type": "markdown",
   "metadata": {
    "id": "01PQN1yev6Bl"
   },
   "source": [
    "**<ins>Question 4.1.2</ins>: Réalisez l'apprentissage successif des modèles: régression logistique, réseaux de neurones, svm et random forest en utilisant les fonctions du package scikit-learn. Les valeurs des hyper-paramètres seront choisis comme les valeurs par défaut de scikit-learn.**"
   ]
  },
  {
   "cell_type": "markdown",
   "metadata": {
    "id": "g1p9-v4cv6A9"
   },
   "source": [
    "**_Your commented code below_**"
   ]
  },
  {
   "cell_type": "markdown",
   "metadata": {
    "id": "01PQN1yev6Bl"
   },
   "source": [
    "**<ins>Question 4.1.3</ins>: A l'aide des fonctions fournies, évaluer les modèles appris avec la procédure d'évaluation des performances pour les grands jeux de données en calculant et en affichant la matrice de confusion, puis les [métriques extraites de cette matrice](https://scikit-learn.org/stable/modules/generated/sklearn.metrics.classification_report.html). Commenter.**"
   ]
  },
  {
   "cell_type": "markdown",
   "metadata": {
    "id": "g1p9-v4cv6A9"
   },
   "source": [
    "**_Your commented code below_**"
   ]
  },
  {
   "cell_type": "code",
   "execution_count": null,
   "metadata": {},
   "outputs": [],
   "source": [
    "# ----------- Your code here --------------------->\n",
    "\n",
    "\n",
    "\n",
    "# ------------------------------------------------>"
   ]
  },
  {
   "cell_type": "markdown",
   "metadata": {},
   "source": [
    "## 4.2 Première évaluation (biaisée) des classifieurs"
   ]
  },
  {
   "cell_type": "markdown",
   "metadata": {
    "id": "FPJ1qExlv6BQ"
   },
   "source": [
    "**<ins>Question 4.2.1</ins>: Le jeu de données étant petit, la procédure précédente n'est pas adaptée. Vous évaluerez les performances par [cross-validation](https://scikit-learn.org/stable/modules/cross_validation.html\\#computing-cross-validated-metrics) et reporterez la moyenne et l'écart-type de la métrique `accuracy`. Commenter**"
   ]
  },
  {
   "cell_type": "markdown",
   "metadata": {
    "id": "7w4tk5JUv6BS"
   },
   "source": [
    "**_Your commented code below_**"
   ]
  },
  {
   "cell_type": "code",
   "execution_count": null,
   "metadata": {
    "colab": {
     "base_uri": "https://localhost:8080/",
     "height": 1000
    },
    "id": "dp4dnNeVv6BS",
    "outputId": "ce6c23ed-e68f-4f49-86c1-b93b80abdc9e"
   },
   "outputs": [],
   "source": [
    "# ----------- Your code here --------------------->\n",
    "\n",
    "\n",
    "# ------------------------------------------------>"
   ]
  },
  {
   "cell_type": "markdown",
   "metadata": {
    "id": "gNAFZTFvv6BS"
   },
   "source": [
    "**_Double cliquez ici pour écrire votre réponse ici!_**\n",
    "\n"
   ]
  },
  {
   "cell_type": "markdown",
   "metadata": {},
   "source": [
    "## 4.3 Optimisation des hyper-paramètres du modèle\n",
    "\n",
    "Le jeu de données étant très petit, la valeur des hyper-paramètres doit être fixée de manière optimale en évaluant les modèles par cross validation sur l'ensemble de training."
   ]
  },
  {
   "cell_type": "markdown",
   "metadata": {
    "id": "FPJ1qExlv6BQ"
   },
   "source": [
    "**<ins>Question 4.3.1</ins>:** Lisez le [tutoriel suivant](https://scikit-learn.org/stable/auto_examples/model_selection/plot_grid_search_digits.html) en faisant particulièrement attention à la façon dont est gérée la détermination des hyperparamètres et l'évaluation des performances. Reproduisez cette méthodologie en testant différents nombres de plis (fold):\n",
    "* pour la **<ins>Régression logistique:</ins>**:\n",
    "    * C: 0.001, 0.01,0.1,1,10\n",
    "    * penalty = 'l1', 'l2', 'elasticnet', 'None'\n",
    "    \n",
    "* pour le **<ins>réseau de neurones</ins>:**\n",
    "    * hidden_layer_sizes: une couche de 100 neurones, 2 couches de 100 neurones, 3 couches de 100 neurones\n",
    "    * activation: 'logistic', 'tanh', 'relu'\n",
    "    * alpha: 0.0001, 0.001, 0.01, 0.1, 1, 10\n",
    "\n",
    "* pour le **<ins>Random Forest</ins>:**\n",
    "    * n_estimators: 1, 10, 100, 500, 1000\n",
    "    * max_depth: 5, 10, 20\n",
    "    * min_samples_leaf: 1, 5, 10\n",
    "\n",
    "* pour le **<ins>SVM</ins>:**\n",
    "    * kernel: 'rbf' \n",
    "    * C: 1e3, 5e3, 1e4, 5e4, 1e5, 1e6\n",
    "    * gamma: 0.0001, 0.0005, 0.001, 0.005, 0.01, 0.1, 0.5\n",
    "\n",
    "\n",
    "N'hésitez pas à fixer le paramètre `verbose` pour comprendre ce qui est fait."
   ]
  },
  {
   "cell_type": "markdown",
   "metadata": {
    "id": "7w4tk5JUv6BS"
   },
   "source": [
    "**_Your commented code below_**"
   ]
  },
  {
   "cell_type": "code",
   "execution_count": null,
   "metadata": {},
   "outputs": [],
   "source": [
    "# ----------- Your code here --------------------->\n",
    "\n",
    "\n",
    "        \n",
    "# ------------------------------------------------>        "
   ]
  },
  {
   "cell_type": "markdown",
   "metadata": {},
   "source": [
    "**<ins>Question 4.3.2</ins>: Donner la valeur des paramètres optimaux pour chaque classifieur.**"
   ]
  },
  {
   "cell_type": "markdown",
   "metadata": {
    "id": "7w4tk5JUv6BS"
   },
   "source": [
    "_Your commented code below_"
   ]
  },
  {
   "cell_type": "code",
   "execution_count": null,
   "metadata": {
    "id": "rthsnlIvv6Bu"
   },
   "outputs": [],
   "source": [
    "# ----------- Your code here --------------------->\n",
    "\n",
    "# ------------------------------------------------>"
   ]
  },
  {
   "cell_type": "markdown",
   "metadata": {},
   "source": [
    "**_Double cliquez ici pour écrire votre réponse ici!_**\n",
    "\n"
   ]
  },
  {
   "cell_type": "markdown",
   "metadata": {},
   "source": [
    "**<ins>Question 4.3.3</ins>: Apprendre le modèle final pour chaque classifieur avec les paramètres optimaux et évaluer leurs performances avec les métriques (precision, recall, f1).**\n"
   ]
  },
  {
   "cell_type": "markdown",
   "metadata": {
    "id": "7w4tk5JUv6BS"
   },
   "source": [
    "**_Your commented code below_**"
   ]
  },
  {
   "cell_type": "code",
   "execution_count": null,
   "metadata": {},
   "outputs": [],
   "source": [
    "# ----------- Your code here --------------------->\n",
    "\n",
    "         \n",
    " # ------------------------------------------------>"
   ]
  },
  {
   "cell_type": "markdown",
   "metadata": {},
   "source": [
    "## 4.4 Evaluation optimale pour les petits jeux de données\n",
    "\n",
    "**<ins>Question 4.4.1</ins>: Les performances espérées par le modèle final sont biaisées car nous avons un petit jeu de données et nous avons évaluées les performances sur des données vues lors de l'apprentissage ou pour fixer les hyperparamètres. La procédure adaptée pour évaluer proprement les performances dans ce cas se nomme validations croisées imbriquées. Le tutoriel [Nested Cross-Validation for Machine Learning with Python](https://machinelearningmastery.com/nested-cross-validation-for-machine-learning-with-python/) décrit cette procédure. Evaluer les performances pour une validation croisée extérieure (outer) de 4 et intérieure (inner) de 3**.\n"
   ]
  },
  {
   "cell_type": "code",
   "execution_count": null,
   "metadata": {},
   "outputs": [],
   "source": [
    "# ----------- Your code here --------------------->\n",
    "\n",
    "\n",
    "# ------------------------------------------------>"
   ]
  },
  {
   "cell_type": "markdown",
   "metadata": {},
   "source": [
    "_Double cliquez ici pour écrire votre réponse ici!_\n"
   ]
  },
  {
   "cell_type": "markdown",
   "metadata": {},
   "source": [
    "# 5. Approche supervisée sur données brutes"
   ]
  },
  {
   "cell_type": "markdown",
   "metadata": {},
   "source": [
    "**<ins>Question 5.1</ins>:** Réalisez l'apprentissage du classifieur random forest en utilisant les fonctions du package scikit-learn sur les valeurs des pixels des images. Pensez vous qu'un autre classifieur donnerait des meilleurs résultats? Analysez les résultats (décrivez et proposez une interprétation de ce qu'il se passe)"
   ]
  },
  {
   "cell_type": "code",
   "execution_count": null,
   "metadata": {},
   "outputs": [],
   "source": [
    "# ----------- Your code here --------------------->\n",
    "\n",
    "\n",
    "\n",
    "# ------------------------------------------------>\n"
   ]
  },
  {
   "cell_type": "markdown",
   "metadata": {
    "id": "7w4tk5JUv6BS"
   },
   "source": [
    "**_Your commented code below_**"
   ]
  },
  {
   "cell_type": "markdown",
   "metadata": {},
   "source": [
    "**_Double cliquez ici pour écrire votre réponse ici!_**\n"
   ]
  },
  {
   "cell_type": "markdown",
   "metadata": {},
   "source": [
    "# 6. Analyse finale"
   ]
  },
  {
   "cell_type": "markdown",
   "metadata": {},
   "source": [
    "**<ins>Question 6.1</ins>: Faites une synthèse des résultats obtenus. Dresser en particulier des conclusions en fonction des descripteurs utilisés, des algorithmes utilisés (et leurs caractéristiques) et des prétraitements effectués.**"
   ]
  },
  {
   "cell_type": "markdown",
   "metadata": {
    "id": "7w4tk5JUv6BS"
   },
   "source": [
    "**_Double cliquez ici pour écrire votre réponse ici!_**\n"
   ]
  },
  {
   "cell_type": "markdown",
   "metadata": {},
   "source": [
    "# 7. Diagramme fonctionnel"
   ]
  },
  {
   "cell_type": "markdown",
   "metadata": {
    "id": "_Xw7bbYtv6BX"
   },
   "source": [
    "**<ins>Question 7.1</ins>:** Réalisez un diagramme fonctionnel décrivant le flux des données au travers de différents blocs (représentant des fonctions) tout au long de l'approche supervisée. Ce diagramme devra faire apparaître au minimum: les trois ensembles d'images, les descripteurs, le modèle de machine learning appris, les différents algorithmes d'apprentissage, l'évaluation (mettre une image dans le répertoire courant et dans la cellule ci-dessous remplacer par le nom du fichier)"
   ]
  },
  {
   "cell_type": "markdown",
   "metadata": {
    "id": "KDclLV6xv6BX"
   },
   "source": [
    "**_Your image here_** <img src=\"fichierDiagramme.png\" />"
   ]
  },
  {
   "cell_type": "markdown",
   "metadata": {},
   "source": [
    "**<ins>Question 7.2</ins>:**  Mettez vous dans le cadre d'**un jeu de données de grande taille** et réalisez un autre diagramme fonctionnel répondant à la question précédente. "
   ]
  },
  {
   "cell_type": "markdown",
   "metadata": {
    "id": "KDclLV6xv6BX"
   },
   "source": [
    "**_Your image here_** <img src=\"fichierDiagramme2.png\" />"
   ]
  },
  {
   "cell_type": "code",
   "execution_count": null,
   "metadata": {},
   "outputs": [],
   "source": []
  }
 ],
 "metadata": {
  "accelerator": "GPU",
  "colab": {
   "collapsed_sections": [],
   "name": "seafloorClassification_solution.ipynb",
   "provenance": []
  },
  "kernelspec": {
   "display_name": "Python 3",
   "language": "python",
   "name": "python3"
  },
  "language_info": {
   "codemirror_mode": {
    "name": "ipython",
    "version": 3
   },
   "file_extension": ".py",
   "mimetype": "text/x-python",
   "name": "python",
   "nbconvert_exporter": "python",
   "pygments_lexer": "ipython3",
   "version": "3.10.10"
  }
 },
 "nbformat": 4,
 "nbformat_minor": 4
}
