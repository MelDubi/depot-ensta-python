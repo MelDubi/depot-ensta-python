{
  "cells": [
    {
      "cell_type": "markdown",
      "id": "501e38d6",
      "metadata": {
        "id": "501e38d6"
      },
      "source": [
        "# <center> **Deep Learning: Supervised Seafloor classification with CNN** </center>\n",
        "## <center> Machine Learning Programming Exercise 8 part 2.1: **From scratch**</center>"
      ]
    },
    {
      "cell_type": "markdown",
      "id": "960313b9",
      "metadata": {
        "id": "960313b9"
      },
      "source": [
        "| <font size=6,font color='red'>Monôme / binôme</font> | <font size=6,font color='red'>Nom</font> | <font size=6,font color='red'>Prénom</font> |\n",
        "|:-------------: |:----------- |:------ |\n",
        "| binôme 1 | <span style=\"color:red\">DUBEE</span> | <span style=\"color:red\">Melvin</span> |\n",
        "| binôme 2 | <span style=\"color:red\">ROUDAUT</span> | <span style=\"color:red\">Tanguy</span> |\n"
      ]
    },
    {
      "cell_type": "markdown",
      "id": "10851ebb",
      "metadata": {
        "id": "10851ebb"
      },
      "source": [
        "Vous proposerez une architecture de réseau profond convolutif, apprendrez le modèle avec les patchs et évaluerez ses performances.\n",
        "- Expliquez votre architecture et en particulier à quoi servent les couches (et leur enchainement) de votre architecture.\n",
        "- Vous comparerez ensuite les performances obtenus (par rapport à celles obtenues à la partie précédente) sur la matrice de confusion et les métriques de performance classiques.\n",
        "\n",
        "- Suivre les différentes étapes du tuto.\n",
        "- **remarque**: comme les images sonar sont en niveaux de gris, il s'agira de conserver un seul canal.\n",
        "\n",
        "- Enfin, vous évaluerez proprement les performances obtenues (learning curves, matrice de confusion)."
      ]
    },
    {
      "cell_type": "markdown",
      "id": "108081af-8eb9-4572-8cf8-414b41fb0f89",
      "metadata": {
        "id": "108081af-8eb9-4572-8cf8-414b41fb0f89"
      },
      "source": [
        "# 1. Import useful packages\n",
        "Pour pouvoir commencer, vous importerez les librairies suivantes:"
      ]
    },
    {
      "cell_type": "markdown",
      "id": "604aee9f-1243-4c6e-a239-a084f8fcd266",
      "metadata": {
        "id": "604aee9f-1243-4c6e-a239-a084f8fcd266"
      },
      "source": [
        "## 1.1 Colab or not colab"
      ]
    },
    {
      "cell_type": "code",
      "execution_count": 1,
      "id": "6fcdf32a-4b2e-48e2-a3d7-7c8ca08bb40e",
      "metadata": {
        "colab": {
          "base_uri": "https://localhost:8080/"
        },
        "id": "6fcdf32a-4b2e-48e2-a3d7-7c8ca08bb40e",
        "outputId": "2cf53503-23c9-4cf0-d84e-c1b7653995dc"
      },
      "outputs": [
        {
          "output_type": "stream",
          "name": "stdout",
          "text": [
            "Mounted at /content/gdrive\n",
            "/content/gdrive/MyDrive/machine_learning\n",
            " dataset\t\t        results\n",
            "'Learning CNNs Starter.ipynb'   tp2.1_tuto_cnns_startercode.ipynb\n",
            " partie1.ipynb\t\t        tp2.2_learning_cnns_fine_tuning_startercode.ipynb\n",
            " partie2.ipynb\n"
          ]
        }
      ],
      "source": [
        "# common imports\n",
        "import sys,os,glob\n",
        "\n",
        "# Colab preamble\n",
        "IN_COLAB = 'google.colab' in sys.modules\n",
        "if IN_COLAB:\n",
        "\n",
        "  # mount google drive directories\n",
        "  from google.colab import drive\n",
        "  drive.mount('/content/gdrive', force_remount=True)\n",
        "\n",
        "\n",
        "  # ----------- Your code here --------------------->\n",
        "  # replace the ipynb_name (below) with the name of your jupyter notebook file\n",
        "\n",
        "  ipynb_name = 'Learning CNNs Starter.ipynb'\n",
        "\n",
        "  # ------------------------------------------------>\n",
        "\n",
        "  ipynb_name = glob.glob(os.getcwd() + '/gdrive/MyDrive/machine_learning/' + ipynb_name, recursive = True)\n",
        "  code_folder = os.path.dirname(ipynb_name[0])\n",
        "\n",
        "  # change to the right folder\n",
        "  %cd \"$code_folder\"\n",
        "  !ls\n"
      ]
    },
    {
      "cell_type": "markdown",
      "id": "a850476e-96ba-436b-b99d-c84949f0db7b",
      "metadata": {
        "id": "a850476e-96ba-436b-b99d-c84949f0db7b"
      },
      "source": [
        "## 1.2 Import packages"
      ]
    },
    {
      "cell_type": "code",
      "execution_count": 2,
      "id": "057d41e3",
      "metadata": {
        "scrolled": true,
        "colab": {
          "base_uri": "https://localhost:8080/"
        },
        "id": "057d41e3",
        "outputId": "6845d2f5-19d5-43f8-cbaf-f22fd0852def"
      },
      "outputs": [
        {
          "output_type": "stream",
          "name": "stdout",
          "text": [
            "[PhysicalDevice(name='/physical_device:CPU:0', device_type='CPU')]\n",
            "No GPU was detected. CNNs can be very slow without a GPU.\n",
            "Go to Runtime > Change runtime and select a GPU hardware accelerator.\n"
          ]
        }
      ],
      "source": [
        "# Common imports\n",
        "import os\n",
        "from time import time\n",
        "import numpy as np\n",
        "import pandas as pd\n",
        "from matplotlib import pyplot as plt\n",
        "import seaborn as sns\n",
        "from functools import partial\n",
        "import pickle\n",
        "\n",
        "# machine learning packages\n",
        "from sklearn import preprocessing\n",
        "from sklearn.model_selection import train_test_split\n",
        "from sklearn.metrics import confusion_matrix, classification_report\n",
        "import tensorflow as tf\n",
        "import tensorflow.keras as keras\n",
        "from tensorflow.keras.preprocessing.image import img_to_array, load_img\n",
        "\n",
        "print(tf.config.list_physical_devices())\n",
        "if not tf.config.list_physical_devices('GPU'):\n",
        "    print(\"No GPU was detected. CNNs can be very slow without a GPU.\")\n",
        "    if IN_COLAB:\n",
        "        print(\"Go to Runtime > Change runtime and select a GPU hardware accelerator.\")\n",
        "\n"
      ]
    },
    {
      "cell_type": "markdown",
      "id": "1124ed5d-5873-4e6c-875f-97513c9cd4a0",
      "metadata": {
        "id": "1124ed5d-5873-4e6c-875f-97513c9cd4a0"
      },
      "source": [
        "## 1.3 Useful codes"
      ]
    },
    {
      "cell_type": "code",
      "execution_count": 14,
      "id": "85c96a3b-7d14-4b6d-95d9-219a54064360",
      "metadata": {
        "colab": {
          "base_uri": "https://localhost:8080/"
        },
        "id": "85c96a3b-7d14-4b6d-95d9-219a54064360",
        "outputId": "67e5504c-c49f-48e7-b398-85cd390f03d0"
      },
      "outputs": [
        {
          "output_type": "stream",
          "name": "stdout",
          "text": [
            "dimension du batch dimages: (360, 200, 200, 1)\n",
            "dimension des labels: (360,)\n",
            "Split into 3 sets...\n",
            "Format du set de train :  (180, 200, 200, 1)\n",
            "Format du set de validation :  (90, 200, 200, 1)\n",
            "Format du set de test :  (90, 200, 200, 1)\n",
            "------------------------------\n",
            "Seafloor Training Set Summary \n",
            "------------------------------\n",
            "Feature Shape: (180, 200, 200, 1)\n",
            "Labels Shape: (180,)\n",
            "labels distrib over labels: [30, 30, 30, 30, 30, 30]\n",
            "------------------------------\n",
            "Seafloor Validation Set Summary \n",
            "------------------------------\n",
            "Validation Features Shape: (90, 200, 200, 1)\n",
            "Validation Labels Shape: (90,)\n",
            "labels distrib over classe: [15, 15, 15, 15, 15, 15]\n",
            "------------------------------\n",
            "Seafloor Testing Set Summary \n",
            "------------------------------\n",
            "Testing Features Shape: (90, 200, 200, 1)\n",
            "Testing Labels Shape: (90,)\n",
            "labels distrib over classe: [15, 15, 15, 15, 15, 15]\n",
            "------------------------------\n",
            "Split into 3 sets...done\n",
            "Encoding done...\n"
          ]
        },
        {
          "output_type": "stream",
          "name": "stderr",
          "text": [
            "/usr/local/lib/python3.10/dist-packages/sklearn/preprocessing/_encoders.py:868: FutureWarning: `sparse` was renamed to `sparse_output` in version 1.2 and will be removed in 1.4. `sparse_output` is ignored unless you leave `sparse` to its default value.\n",
            "  warnings.warn(\n",
            "/usr/local/lib/python3.10/dist-packages/sklearn/preprocessing/_encoders.py:868: FutureWarning: `sparse` was renamed to `sparse_output` in version 1.2 and will be removed in 1.4. `sparse_output` is ignored unless you leave `sparse` to its default value.\n",
            "  warnings.warn(\n"
          ]
        }
      ],
      "source": [
        "\n",
        "# Définition du chemin vers le répertoire dataset pour les images et les labels\n",
        "DATASET_PATH = r'./dataset/imgs/'\n",
        "LABEL_PATH = r'./dataset/labels/labels.csv'\n",
        "\n",
        "# Flag pour le chargement des images\n",
        "# True for fine tuning | False for from scratch\n",
        "flag_load_as_rgb = False\n",
        "\n",
        "# Taille d'entrée du modèle (>=71 pour xception)\n",
        "target_size = 200\n",
        "\n",
        "# Import des données\n",
        "def importData():\n",
        "\n",
        "    # Charger le fichier CSV\n",
        "    dataset_df = pd.read_csv(LABEL_PATH)\n",
        "\n",
        "    # We add another column to the labels dataset to identify image path\n",
        "    dataset_df['image_path'] = dataset_df.apply(lambda row: (DATASET_PATH + row[\"id\"]), axis=1)\n",
        "\n",
        "    # Récupération des labels\n",
        "    label_names = dataset_df['seafloor']\n",
        "\n",
        "    # Chargement des images\n",
        "\n",
        "\n",
        "    # Changement de la taille des images et duplication sur canaux RGB\n",
        "\n",
        "    batch_imgs = []\n",
        "    for img in dataset_df['image_path'].values.tolist():\n",
        "\n",
        "        if flag_load_as_rgb:\n",
        "            tmp = load_img(img, color_mode = \"rgb\", target_size=(target_size, target_size))\n",
        "        else:\n",
        "            tmp = load_img(img, color_mode = \"grayscale\", target_size=(target_size, target_size))\n",
        "\n",
        "        # Converts a PIL Image instance to a Numpy array\n",
        "        tmp = img_to_array(tmp)\n",
        "        batch_imgs.append(tmp)\n",
        "\n",
        "    # conversion en numpy array\n",
        "    batch_imgs = np.array(batch_imgs).astype('float32')\n",
        "\n",
        "    return batch_imgs, label_names\n",
        "\n",
        "# call importData\n",
        "batch_imgs, label_names = importData()\n",
        "\n",
        "# variables utiles\n",
        "instance_nb, height, width, channel_nb = batch_imgs.shape\n",
        "feature_nb = batch_imgs.shape[1]*batch_imgs.shape[2]\n",
        "channel_nb = batch_imgs.shape[-1]\n",
        "\n",
        "print('dimension du batch d''images: {}'.format(batch_imgs.shape))\n",
        "print('dimension des labels: {}'.format(label_names.shape))\n",
        "\n",
        "# ---------------------------------------------------------------------------------------------------------------\n",
        "# PREPARE DATASETS Split into 3 sets\n",
        "# ---------------------------------------------------------------------------------------------------------------\n",
        "def prepare_datasets(batch_imgs, label_names):\n",
        "    print('Split into 3 sets...')\n",
        "\n",
        "    tmp = train_test_split(batch_imgs,\n",
        "                           label_names,\n",
        "                           test_size=0.5,\n",
        "                           stratify=np.array(label_names),\n",
        "                           random_state=42)\n",
        "    batch_imgs_train, batch_imgs_test, labelNames_train, labelNames_test = tmp\n",
        "\n",
        "    tmp = train_test_split(batch_imgs_test,\n",
        "                           labelNames_test,\n",
        "                           test_size=0.5,\n",
        "                           stratify=np.array(labelNames_test),\n",
        "                           random_state=42)\n",
        "    batch_imgs_test, batch_imgs_val, labelNames_test, labelNames_val = tmp\n",
        "\n",
        "    # taille du dataset\n",
        "    dataset_size = batch_imgs.shape[0]\n",
        "\n",
        "    # nb de classes\n",
        "    labelNames_unique = label_names.unique()\n",
        "    label_nb = labelNames_unique.shape[0]\n",
        "\n",
        "\n",
        "    return batch_imgs_train, labelNames_train, batch_imgs_val, labelNames_val, batch_imgs_test, labelNames_test\n",
        "\n",
        "# call prepare_datasets\n",
        "batch_imgs_train, labelNames_train, batch_imgs_val, labelNames_val, batch_imgs_test, labelNames_test = prepare_datasets(batch_imgs, label_names)\n",
        "\n",
        "# Vérification des formats des ensembles\n",
        "print(\"Format du set de train : \"     , batch_imgs_train.shape)\n",
        "print(\"Format du set de validation : \", batch_imgs_val.shape)\n",
        "print(\"Format du set de test : \"      , batch_imgs_test.shape)\n",
        "\n",
        "\n",
        "# ---------------------------------------------------------------------------------------------------------------\n",
        "#  transformation des labels selon différents codages\n",
        "# ---------------------------------------------------------------------------------------------------------------\n",
        "\n",
        "#  Noms des labels\n",
        "labelNames_unique = label_names.unique()\n",
        "\n",
        "# nb de classes\n",
        "label_nb = labelNames_unique.shape[0]\n",
        "\n",
        "# enc labelNames to indices\n",
        "encName2Ind = preprocessing.LabelEncoder()\n",
        "encName2Ind.fit(labelNames_unique)\n",
        "labelIndices_unique = encName2Ind.transform(labelNames_unique)\n",
        "labelIndices  = encName2Ind.transform(label_names)\n",
        "\n",
        "# enc indices to  one-hot-encoding\n",
        "encInd2Ohe = preprocessing.OneHotEncoder(sparse=False)\n",
        "encInd2Ohe.fit(labelIndices_unique.reshape(-1, 1))\n",
        "labelOhe = encInd2Ohe.transform(labelIndices.reshape(-1, 1))\n",
        "\n",
        "# enc labelNames to  one-hot-encoding\n",
        "encName2Ohe = preprocessing.OneHotEncoder(sparse=False)\n",
        "encName2Ohe.fit(labelNames_unique.reshape(-1, 1))\n",
        "#labelOhe2 = encName2Ohe.transform(label_names.reset_index(drop=True).values.reshape(-1, 1))\n",
        "\n",
        "\n",
        "# Conversion des noms des labels en indices\n",
        "labelInd_train = encName2Ind.transform(labelNames_train)\n",
        "labelInd_val = encName2Ind.transform(labelNames_val)\n",
        "labelInd_test = encName2Ind.transform(labelNames_test)\n",
        "\n",
        "# Conversion des noms des labels en  one-hot-encoding\n",
        "labelOhe_train = encName2Ohe.transform(labelNames_train.reset_index(drop=True).values.reshape(-1, 1))\n",
        "labelOhe_val   = encName2Ohe.transform(labelNames_val.reset_index(drop=True).values.reshape(-1, 1))\n",
        "labelOhe_test  = encName2Ohe.transform(labelNames_test.reset_index(drop=True).values.reshape(-1, 1))\n",
        "\n",
        "# autre solution avec panda\n",
        "# labelOhe_train = pd.get_dummies(labelNames_train.reset_index(drop=True)).values\n",
        "# labelOhe_val   = pd.get_dummies(labelNames_val.reset_index(drop=True)).values\n",
        "# labelOhe_test  = pd.get_dummies(labelNames_test.reset_index(drop=True)).values\n",
        "\n",
        "\n",
        "\n",
        "# ---------------------------------------------------------------------------------------------------------------\n",
        "# DATASETS Summary\n",
        "# ---------------------------------------------------------------------------------------------------------------\n",
        "#  Noms et indices des labels\n",
        "labelNames_unique   = label_names.unique()\n",
        "labelIndices_unique = encName2Ind.transform(labelNames_unique)\n",
        "label_nb            = labelNames_unique.shape[0]\n",
        "\n",
        "# taille du dataset\n",
        "dataset_size = batch_imgs.shape[0]\n",
        "\n",
        "print('------------------------------')\n",
        "print('Seafloor Training Set Summary ')\n",
        "print('------------------------------')\n",
        "print('Feature Shape:', batch_imgs_train.shape)\n",
        "print('Labels Shape:', labelNames_train.shape)\n",
        "print('labels distrib over labels:', [sum(labelInd_train == ind) for ind in labelIndices_unique])\n",
        "print('------------------------------')\n",
        "print('Seafloor Validation Set Summary ')\n",
        "print('------------------------------')\n",
        "print('Validation Features Shape:', batch_imgs_val.shape)\n",
        "print('Validation Labels Shape:', labelNames_val.shape)\n",
        "print('labels distrib over classe:', [sum(labelInd_val == ind) for ind in labelIndices_unique])\n",
        "print('------------------------------')\n",
        "print('Seafloor Testing Set Summary ')\n",
        "print('------------------------------')\n",
        "print('Testing Features Shape:', batch_imgs_test.shape)\n",
        "print('Testing Labels Shape:', labelNames_test.shape)\n",
        "print('labels distrib over classe:', [sum(labelInd_test == ind) for ind in labelIndices_unique])\n",
        "print('------------------------------')\n",
        "print('Split into 3 sets...done')\n",
        "\n",
        "\n",
        "print('Encoding done...')\n",
        "\n",
        "\n",
        "# ---------------------------------------------------------------------------------------------------------------\n",
        "# Normalisation\n",
        "# ---------------------------------------------------------------------------------------------------------------\n",
        "# estimation\n",
        "images_mean = batch_imgs_train.mean(axis=0, keepdims=True)\n",
        "images_std = batch_imgs_train.std(axis=0, keepdims=True) + 1e-7\n",
        "\n",
        "# normalisation\n",
        "batch_imgs_train = (batch_imgs_train - images_mean) / images_std\n",
        "batch_imgs_val = (batch_imgs_val - images_mean) / images_std\n",
        "batch_imgs_test = (batch_imgs_test - images_mean) / images_std\n",
        "\n",
        "\n",
        "\n",
        "# ---------------------------------------------------------------------------------------------------------------\n",
        "# Création du dataset en objet tf.data.Dataset\n",
        "# ---------------------------------------------------------------------------------------------------------------\n",
        "\n",
        "ds_train = tf.data.Dataset.from_tensor_slices((batch_imgs_train, labelInd_train))\n",
        "ds_val = tf.data.Dataset.from_tensor_slices((batch_imgs_val, labelInd_val))\n",
        "ds_test = tf.data.Dataset.from_tensor_slices((batch_imgs_test, labelInd_test))\n",
        "\n",
        "# variables utiles\n",
        "train_instance_nb = ds_train.cardinality().numpy()\n",
        "val_instance_nb = ds_val.cardinality().numpy()\n",
        "test_instance_nb = ds_test.cardinality().numpy()\n",
        "\n"
      ]
    },
    {
      "cell_type": "markdown",
      "id": "252bf851",
      "metadata": {
        "id": "252bf851"
      },
      "source": [
        "### 5.1 Paramètres (optionnel)"
      ]
    },
    {
      "cell_type": "code",
      "execution_count": null,
      "id": "3b2ce7a0",
      "metadata": {
        "id": "3b2ce7a0"
      },
      "outputs": [],
      "source": [
        "# ----------- Your code here --------------------->\n",
        "\n",
        "\n",
        "# ------------------------------------------------>"
      ]
    },
    {
      "cell_type": "markdown",
      "id": "fce8824b",
      "metadata": {
        "id": "fce8824b"
      },
      "source": [
        "### 5.2 Data preprocessing (normalisation, data augmentation)"
      ]
    },
    {
      "cell_type": "code",
      "execution_count": 16,
      "id": "a62dd714",
      "metadata": {
        "id": "a62dd714"
      },
      "outputs": [],
      "source": [
        "# ----------- Your code here --------------------->\n",
        "\n",
        "from functools import partial\n",
        "\n",
        "def normalize(image):\n",
        "    image_mean = tf.reduce_mean(image, axis=[0, 1], keepdims=True)\n",
        "    image_std = tf.math.reduce_std(image, axis=[0, 1], keepdims=True) + 1e-7\n",
        "\n",
        "    return (image - image_mean) / image_std\n",
        "\n",
        "def preprocess(image, label, train=False):\n",
        "    if train:\n",
        "        image = tf.image.rot90(image, k=tf.random.uniform(shape=[], minval=0, maxval=4, dtype=tf.int32))\n",
        "        image = tf.image.random_flip_left_right(image)\n",
        "        image = tf.image.random_flip_up_down(image)\n",
        "        image = tf.image.random_brightness(image, max_delta=0.2)\n",
        "        image = tf.image.random_contrast(image, lower=0.8, upper=1.2)\n",
        "\n",
        "    final_image = normalize(image)\n",
        "\n",
        "    return final_image, label\n",
        "\n",
        "\n",
        "batch_size = 16\n",
        "\n",
        "ds_train = ds_train.shuffle(1000).repeat()\n",
        "ds_train = ds_train.map(partial(preprocess, train=True))\n",
        "ds_train = ds_train.batch(batch_size)\n",
        "\n",
        "ds_val = ds_val.map(preprocess).batch(batch_size)\n",
        "ds_test = ds_test.map(preprocess).batch(batch_size)\n",
        "\n",
        "# ------------------------------------------------>"
      ]
    },
    {
      "cell_type": "markdown",
      "id": "4d47f8b3",
      "metadata": {
        "id": "4d47f8b3"
      },
      "source": [
        "### 5.3 Model definition"
      ]
    },
    {
      "cell_type": "code",
      "execution_count": 17,
      "id": "a3efc85b",
      "metadata": {
        "colab": {
          "base_uri": "https://localhost:8080/"
        },
        "id": "a3efc85b",
        "outputId": "604d39b6-d3ea-4ba2-f4c9-bb0e499b3cf3"
      },
      "outputs": [
        {
          "output_type": "stream",
          "name": "stdout",
          "text": [
            "Model: \"sequential_1\"\n",
            "_________________________________________________________________\n",
            " Layer (type)                Output Shape              Param #   \n",
            "=================================================================\n",
            " conv2d_5 (Conv2D)           (None, 200, 200, 64)      3200      \n",
            "                                                                 \n",
            " max_pooling2d_3 (MaxPoolin  (None, 100, 100, 64)      0         \n",
            " g2D)                                                            \n",
            "                                                                 \n",
            " conv2d_6 (Conv2D)           (None, 100, 100, 128)     73856     \n",
            "                                                                 \n",
            " conv2d_7 (Conv2D)           (None, 100, 100, 128)     147584    \n",
            "                                                                 \n",
            " max_pooling2d_4 (MaxPoolin  (None, 50, 50, 128)       0         \n",
            " g2D)                                                            \n",
            "                                                                 \n",
            " conv2d_8 (Conv2D)           (None, 50, 50, 256)       295168    \n",
            "                                                                 \n",
            " conv2d_9 (Conv2D)           (None, 50, 50, 256)       590080    \n",
            "                                                                 \n",
            " max_pooling2d_5 (MaxPoolin  (None, 25, 25, 256)       0         \n",
            " g2D)                                                            \n",
            "                                                                 \n",
            " global_average_pooling2d_1  (None, 256)               0         \n",
            "  (GlobalAveragePooling2D)                                       \n",
            "                                                                 \n",
            " dense_3 (Dense)             (None, 256)               65792     \n",
            "                                                                 \n",
            " dropout_2 (Dropout)         (None, 256)               0         \n",
            "                                                                 \n",
            " dense_4 (Dense)             (None, 128)               32896     \n",
            "                                                                 \n",
            " dropout_3 (Dropout)         (None, 128)               0         \n",
            "                                                                 \n",
            " dense_5 (Dense)             (None, 6)                 774       \n",
            "                                                                 \n",
            "=================================================================\n",
            "Total params: 1209350 (4.61 MB)\n",
            "Trainable params: 1209350 (4.61 MB)\n",
            "Non-trainable params: 0 (0.00 Byte)\n",
            "_________________________________________________________________\n"
          ]
        }
      ],
      "source": [
        "#----------- Your code here --------------------->\n",
        "\n",
        "model = tf.keras.models.Sequential()\n",
        "model.add(keras.layers.Conv2D(64, (7, 7), activation='relu', padding='same', input_shape=(200, 200, channel_nb)))\n",
        "model.add(keras.layers.MaxPooling2D((2, 2)))\n",
        "model.add(keras.layers.Conv2D(128, (3, 3), activation='relu', padding='same'))\n",
        "model.add(keras.layers.Conv2D(128, (3, 3), activation='relu', padding='same'))\n",
        "model.add(keras.layers.MaxPooling2D((2, 2)))\n",
        "model.add(keras.layers.Conv2D(256, (3, 3), activation='relu', padding='same'))\n",
        "model.add(keras.layers.Conv2D(256, (3, 3), activation='relu', padding='same'))\n",
        "model.add(keras.layers.MaxPooling2D((2, 2)))\n",
        "model.add(keras.layers.GlobalAveragePooling2D())\n",
        "model.add(keras.layers.Dense(256, activation='relu'))\n",
        "model.add(keras.layers.Dropout(0.5))\n",
        "model.add(keras.layers.Dense(128, activation='relu'))\n",
        "model.add(keras.layers.Dropout(0.5))\n",
        "model.add(keras.layers.Dense(label_nb, activation=\"softmax\"))\n",
        "\n",
        "#------------------------------------------------>\n",
        "model.summary()\n"
      ]
    },
    {
      "cell_type": "markdown",
      "id": "bd579c6a",
      "metadata": {
        "id": "bd579c6a"
      },
      "source": [
        "### 5.4 Learning the model"
      ]
    },
    {
      "cell_type": "code",
      "execution_count": 18,
      "id": "fcd67f78",
      "metadata": {
        "colab": {
          "base_uri": "https://localhost:8080/",
          "height": 1000
        },
        "id": "fcd67f78",
        "outputId": "352b9149-ff2f-40e3-f379-7c6d6e1db181"
      },
      "outputs": [
        {
          "output_type": "stream",
          "name": "stdout",
          "text": [
            "Epoch 1/10\n",
            "6/6 [==============================] - 19s 3s/step\n",
            "\n",
            "Confusion Matrix:\n",
            "[[ 0  0  0  0  0 15]\n",
            " [ 0  0  0  0  0 15]\n",
            " [ 0  0  0  0  0 15]\n",
            " [ 0  0  0  0  0 15]\n",
            " [ 0  0  0  0  0 15]\n",
            " [ 0  0  0  0  0 15]]\n",
            "16/16 [==============================] - 226s 14s/step - loss: 1.8053 - accuracy: 0.1484 - val_loss: 1.7837 - val_accuracy: 0.1667\n",
            "Epoch 2/10\n",
            "6/6 [==============================] - 18s 3s/step\n",
            "\n",
            "Confusion Matrix:\n",
            "[[ 0  0  0  0 15  0]\n",
            " [ 0  0 13  0  2  0]\n",
            " [ 0  0 13  0  2  0]\n",
            " [ 0  0  0  0 15  0]\n",
            " [ 0  0  0  0 15  0]\n",
            " [ 0  0  0  0 15  0]]\n",
            "16/16 [==============================] - 214s 14s/step - loss: 1.7666 - accuracy: 0.1875 - val_loss: 1.5507 - val_accuracy: 0.2917\n",
            "Epoch 3/10\n",
            "6/6 [==============================] - 18s 3s/step\n",
            "\n",
            "Confusion Matrix:\n",
            "[[ 0  0  0  1  0 14]\n",
            " [ 0  0 12  1  0  2]\n",
            " [ 0  0 15  0  0  0]\n",
            " [ 0  0  0  7  0  8]\n",
            " [ 0  0  0  0  0 15]\n",
            " [ 0  0  0  0  0 15]]\n",
            "16/16 [==============================] - 209s 13s/step - loss: 1.4824 - accuracy: 0.3320 - val_loss: 1.2803 - val_accuracy: 0.4792\n",
            "Epoch 4/10\n",
            "6/6 [==============================] - 17s 3s/step\n",
            "\n",
            "Confusion Matrix:\n",
            "[[ 0  0  0  2  0 13]\n",
            " [ 0  0 12  2  0  1]\n",
            " [ 0  0 15  0  0  0]\n",
            " [ 0  0  0  8  0  7]\n",
            " [ 0  0  0  0  0 15]\n",
            " [ 0  0  0  0  0 15]]\n",
            "16/16 [==============================] - 206s 13s/step - loss: 1.3025 - accuracy: 0.4297 - val_loss: 1.0899 - val_accuracy: 0.5000\n",
            "Epoch 5/10\n",
            "6/6 [==============================] - 18s 3s/step\n",
            "\n",
            "Confusion Matrix:\n",
            "[[ 2 13  0  0  0  0]\n",
            " [ 0  1 14  0  0  0]\n",
            " [ 0  0 15  0  0  0]\n",
            " [ 6  9  0  0  0  0]\n",
            " [ 0  0  0  0 14  1]\n",
            " [ 0  0  0  0 11  4]]\n",
            "16/16 [==============================] - 202s 13s/step - loss: 1.2524 - accuracy: 0.4102 - val_loss: 1.1570 - val_accuracy: 0.3750\n",
            "Epoch 6/10\n",
            "6/6 [==============================] - 18s 3s/step\n",
            "\n",
            "Confusion Matrix:\n",
            "[[12  3  0  0  0  0]\n",
            " [ 0 15  0  0  0  0]\n",
            " [ 0 15  0  0  0  0]\n",
            " [14  1  0  0  0  0]\n",
            " [ 0  0  0  0 15  0]\n",
            " [ 0  0  0  0 15  0]]\n",
            "16/16 [==============================] - 212s 13s/step - loss: 1.2814 - accuracy: 0.3945 - val_loss: 1.0719 - val_accuracy: 0.4167\n",
            "Epoch 7/10\n",
            "6/6 [==============================] - 17s 3s/step\n",
            "\n",
            "Confusion Matrix:\n",
            "[[ 0  3  0 12  0  0]\n",
            " [ 0 13  2  0  0  0]\n",
            " [ 0  1 14  0  0  0]\n",
            " [ 0  1  0 14  0  0]\n",
            " [ 0  0  0  0 15  0]\n",
            " [ 0  0  0  0 13  2]]\n",
            "16/16 [==============================] - 210s 13s/step - loss: 1.1411 - accuracy: 0.4805 - val_loss: 0.8770 - val_accuracy: 0.6458\n",
            "Epoch 8/10\n",
            "6/6 [==============================] - 18s 3s/step\n",
            "\n",
            "Confusion Matrix:\n",
            "[[ 0  0  0 15  0  0]\n",
            " [ 0 14  1  0  0  0]\n",
            " [ 0  3 12  0  0  0]\n",
            " [ 0  0  0 15  0  0]\n",
            " [ 0  0  0  0 15  0]\n",
            " [ 0  0  0  0 14  1]]\n",
            "16/16 [==============================] - 202s 13s/step - loss: 0.9700 - accuracy: 0.5273 - val_loss: 0.6870 - val_accuracy: 0.6458\n",
            "Epoch 9/10\n",
            "6/6 [==============================] - 19s 3s/step\n",
            "\n",
            "Confusion Matrix:\n",
            "[[ 0  0  0 13  0  2]\n",
            " [ 0 10  1  4  0  0]\n",
            " [ 0  0 15  0  0  0]\n",
            " [ 0  0  0 14  0  1]\n",
            " [ 0  0  0  0 15  0]\n",
            " [ 0  0  0  0 15  0]]\n",
            "16/16 [==============================] - 202s 13s/step - loss: 0.9502 - accuracy: 0.5312 - val_loss: 0.6997 - val_accuracy: 0.6667\n",
            "Epoch 10/10\n",
            "6/6 [==============================] - 18s 3s/step\n",
            "\n",
            "Confusion Matrix:\n",
            "[[ 7  0  0  7  0  1]\n",
            " [ 0 13  1  1  0  0]\n",
            " [ 0  1 14  0  0  0]\n",
            " [ 7  0  0  8  0  0]\n",
            " [ 0  0  0  0  8  7]\n",
            " [ 0  0  0  0 11  4]]\n",
            "16/16 [==============================] - 203s 13s/step - loss: 0.9120 - accuracy: 0.5469 - val_loss: 0.6635 - val_accuracy: 0.6458\n"
          ]
        },
        {
          "output_type": "display_data",
          "data": {
            "text/plain": [
              "<Figure size 1500x500 with 2 Axes>"
            ],
            "image/png": "[encoded data removed]"
          },
          "metadata": {}
        }
      ],
      "source": [
        "#----------- Your code here --------------------->\n",
        "loss_fcn = \"sparse_categorical_crossentropy\"\n",
        "optimizer_fcn = \"nadam\" # par alias\n",
        "metrics_fcn = [\"accuracy\"] # par alias\n",
        "\n",
        "model.compile(loss=loss_fcn, optimizer=optimizer_fcn, metrics=metrics_fcn)\n",
        "\n",
        "NB_EPOCHS = 10\n",
        "\n",
        "cbk_matconf = ConfusionEvaluation(validation_data=(ds_val, labelInd_val))\n",
        "history = model.fit(ds_train,\n",
        "                    steps_per_epoch=int(0.75 * dataset_size / batch_size),\n",
        "                    validation_data=ds_val,\n",
        "                    validation_steps=int(0.15 * dataset_size / batch_size),\n",
        "                    epochs=NB_EPOCHS,\n",
        "                    callbacks=[cbk_matconf])\n",
        "\n",
        "learningCurves(history.history, \"Model Learning Curves\")\n",
        "\n",
        "#------------------------------------------------>"
      ]
    },
    {
      "cell_type": "markdown",
      "id": "cba48195",
      "metadata": {
        "id": "cba48195"
      },
      "source": [
        "### 5.5 Evaluating the model"
      ]
    },
    {
      "cell_type": "code",
      "execution_count": 12,
      "id": "86216ba3",
      "metadata": {
        "id": "86216ba3",
        "colab": {
          "base_uri": "https://localhost:8080/"
        },
        "outputId": "2e9ada9f-2017-49e9-d642-9085dc5ff358"
      },
      "outputs": [
        {
          "output_type": "stream",
          "name": "stdout",
          "text": [
            "6/6 [==============================] - 39s 6s/step - loss: 1.5171 - accuracy: 0.4222\n"
          ]
        },
        {
          "output_type": "execute_result",
          "data": {
            "text/plain": [
              "[1.5171244144439697, 0.42222222685813904]"
            ]
          },
          "metadata": {},
          "execution_count": 12
        }
      ],
      "source": [
        "#----------- Your code here --------------------->\n",
        "model.evaluate(ds_test)\n",
        "#------------------------------------------------>"
      ]
    },
    {
      "cell_type": "markdown",
      "id": "fe714213",
      "metadata": {
        "id": "fe714213"
      },
      "source": [
        "### 4.6 Saving the model"
      ]
    },
    {
      "cell_type": "code",
      "execution_count": null,
      "id": "af8a50a2",
      "metadata": {
        "id": "af8a50a2"
      },
      "outputs": [],
      "source": [
        "# Save model\n",
        "\n",
        "# description\n",
        "json_finename = RESULT_PATH+'/'+MODEL_TYPE+\"_fromscratchmodel.json\"\n",
        "model_finename = RESULT_PATH+'/'+MODEL_TYPE+\"_fromscratchmodel.h5\"\n",
        "weights_filename = RESULT_PATH+'/'+MODEL_TYPE+\"_fromscratchweights.h5\"\n",
        "hist_filename = RESULT_PATH+'/'+MODEL_TYPE+\"_fromscratchhistory.npy\"\n",
        "\n",
        "\n",
        "# save yaml model\n",
        "model_json = model.to_json()\n",
        "with open(json_finename, \"w\") as json_file:\n",
        "     json_file.write(model_json)\n",
        "\n",
        "# save model and weights\n",
        "model.save(model_finename)\n",
        "\n",
        "# save weights of the model\n",
        "model.save_weights(weights_filename)\n",
        "print(\"Model saved to disk\")\n",
        "\n",
        "# Fit history saving\n",
        "np.save(hist_filename, history.history)\n",
        "\n"
      ]
    },
    {
      "cell_type": "markdown",
      "id": "e5d33c97",
      "metadata": {
        "id": "e5d33c97"
      },
      "source": [
        "**Question 5.1: Expliquez votre architecture et en particulier à quoi servent les couches (et leur enchainement) de votre architecture.**"
      ]
    },
    {
      "cell_type": "markdown",
      "id": "6f3594ef",
      "metadata": {
        "id": "6f3594ef"
      },
      "source": [
        "_Double-cliquez ici pour écrire votre réponse_"
      ]
    },
    {
      "cell_type": "markdown",
      "id": "b8be8258",
      "metadata": {
        "id": "b8be8258"
      },
      "source": [
        "**Question 5.2: Faites un bilan des performances obtenus.**"
      ]
    },
    {
      "cell_type": "markdown",
      "id": "27c7f232",
      "metadata": {
        "id": "27c7f232"
      },
      "source": [
        "_Double-cliquez ici pour écrire votre réponse_"
      ]
    },
    {
      "cell_type": "markdown",
      "id": "feba4a3c",
      "metadata": {
        "id": "feba4a3c"
      },
      "source": [
        "## 6. Bilan des modèles appris\n"
      ]
    },
    {
      "cell_type": "markdown",
      "id": "65a9d4dc",
      "metadata": {
        "id": "65a9d4dc"
      },
      "source": [
        "**Question 6.1: Comparez les performances obtenues (par rapport à celles obtenues à la partie précédente) sur la matrice de confusion et les métriques de performance classiques. Et donnez les avantages et inconvénients de chaque approche.**"
      ]
    },
    {
      "cell_type": "markdown",
      "id": "f0ab9d69",
      "metadata": {
        "id": "f0ab9d69"
      },
      "source": [
        "_Double-cliquez ici pour écrire votre réponse_"
      ]
    },
    {
      "cell_type": "markdown",
      "id": "b2c21e33",
      "metadata": {
        "id": "b2c21e33"
      },
      "source": [
        "## 7. Fonctions d'aide éventuelle\n"
      ]
    },
    {
      "cell_type": "code",
      "execution_count": 7,
      "id": "8d9d3375",
      "metadata": {
        "id": "8d9d3375"
      },
      "outputs": [],
      "source": [
        "# fonction d'aide pour afficher les courbes d'apprentissage\n",
        "\n",
        "def learningCurves(history,title):\n",
        "    #Learning curve plotting\n",
        "    f, (ax1, ax2) = plt.subplots(1, 2, figsize=(15, 5))\n",
        "    t = f.suptitle(title, fontsize=12)\n",
        "    f.subplots_adjust(top=0.85, wspace=0.3)\n",
        "\n",
        "    epochs = list(range(1,NB_EPOCHS+1))\n",
        "    ax1.plot(epochs, history['accuracy'], label='Train Accuracy')\n",
        "    ax1.plot(epochs, history['val_accuracy'], label='Validation Accuracy')\n",
        "    ax1.set_xticks(epochs)\n",
        "    ax1.set_ylabel('Accuracy Value')\n",
        "    ax1.set_xlabel('Epoch')\n",
        "    ax1.set_title('Accuracy')\n",
        "    ax1.legend()\n",
        "\n",
        "    ax2.plot(epochs, history['loss'], label='Train Loss')\n",
        "    ax2.plot(epochs, history['val_loss'], label='Validation Loss')\n",
        "    ax2.set_xticks(epochs)\n",
        "    ax2.set_ylabel('Loss Value')\n",
        "    ax2.set_xlabel('Epoch')\n",
        "    ax2.set_title('Loss')\n",
        "    ax2.legend()\n",
        "\n",
        "\n",
        "# fonction callback (à rajouter en option à model.fit) pour suivre l'évolution de la matrice de confusion au long de l'apprentissage\n",
        "# credit: K. Bedin (ROB 2020) et D. Eleye (ROB 2023) développé lors du cours\n",
        "class ConfusionEvaluation(keras.callbacks.Callback):\n",
        "    \"\"\"\n",
        "        Fonction callback pour la méthode 'fit_generator()' permettant d'afficher\n",
        "        la matrice de confusion à chaque fin d'Epoch.\n",
        "        Cela permet de visualiser concraitement l'évolution de la classification au cours de l'apprentissage.\n",
        "    \"\"\"\n",
        "    def __init__(self, validation_data=()):\n",
        "        super(keras.callbacks.Callback, self).__init__()\n",
        "        self.X_val, self.y_val = validation_data\n",
        "\n",
        "    def on_epoch_end(self, epoch, logs={}):\n",
        "        preds_Inception = self.model.predict(self.X_val)\n",
        "        matrixInception = confusion_matrix(self.y_val,preds_Inception.argmax(axis=1))\n",
        "        print(\"\\nConfusion Matrix:\")\n",
        "        print(matrixInception)\n",
        "\n",
        "# cbk_matconf = ConfusionEvaluation(validation_data=(ds_val, labelInd_val))\n",
        "\n",
        "\n",
        "\n"
      ]
    }
  ],
  "metadata": {
    "kernelspec": {
      "display_name": "Python 3",
      "name": "python3"
    },
    "language_info": {
      "codemirror_mode": {
        "name": "ipython",
        "version": 3
      },
      "file_extension": ".py",
      "mimetype": "text/x-python",
      "name": "python",
      "nbconvert_exporter": "python",
      "pygments_lexer": "ipython3",
      "version": "3.10.10"
    },
    "colab": {
      "provenance": []
    }
  },
  "nbformat": 4,
  "nbformat_minor": 5
}